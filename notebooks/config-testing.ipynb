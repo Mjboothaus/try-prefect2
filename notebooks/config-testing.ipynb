{
 "cells": [
  {
   "cell_type": "code",
   "execution_count": 9,
   "metadata": {},
   "outputs": [],
   "source": [
    "from prefect import flow\n",
    "import os"
   ]
  },
  {
   "cell_type": "code",
   "execution_count": 10,
   "metadata": {},
   "outputs": [
    {
     "name": "stderr",
     "output_type": "stream",
     "text": [
      "/Users/mjboothaus/try-prefect2/.venv/lib/python3.9/site-packages/prefect/flows.py:173: UserWarning: A flow named 'My Example Flow' and defined at '/var/folders/wc/zhl433ms1fx5rvtvcrkw6dgw0000gn/T/ipykernel_62012/4195903542.py:1' conflicts with another flow. Consider specifying a unique `name` parameter in the flow definition:\n",
      "\n",
      " `@flow(name='my_unique_name', ...)`\n",
      "  warnings.warn(\n"
     ]
    }
   ],
   "source": [
    "@flow(name=\"My Example Flow\", \n",
    "      description=\"An example flow for a tutorial.\",\n",
    "      version=os.getenv(\"GIT_COMMIT_SHA\"))     \n",
    "def my_flow(*args, **kwargs):\n",
    "    # run tasks and subflows\n",
    "    return\n"
   ]
  },
  {
   "cell_type": "code",
   "execution_count": 11,
   "metadata": {},
   "outputs": [
    {
     "name": "stderr",
     "output_type": "stream",
     "text": [
      "18:34:36.330 | INFO    | prefect.engine - Created flow run 'zealous-ocelot' for flow 'My Example Flow'\n",
      "18:34:36.331 | INFO    | Flow run 'zealous-ocelot' - Using task runner 'ConcurrentTaskRunner'\n",
      "18:34:36.338 | WARNING | Flow run 'zealous-ocelot' - No default storage is configured on the server. Results from this flow run will be stored in a temporary directory in its runtime environment.\n",
      "18:34:36.374 | INFO    | Flow run 'zealous-ocelot' - Finished in state Completed()\n"
     ]
    }
   ],
   "source": [
    "state = my_flow()"
   ]
  },
  {
   "cell_type": "code",
   "execution_count": 12,
   "metadata": {},
   "outputs": [],
   "source": [
    "my_flow.version"
   ]
  },
  {
   "cell_type": "code",
   "execution_count": 14,
   "metadata": {},
   "outputs": [],
   "source": [
    "os.getenv(\"GIT_COMMIT_SHA\")"
   ]
  },
  {
   "cell_type": "code",
   "execution_count": null,
   "metadata": {},
   "outputs": [],
   "source": []
  }
 ],
 "metadata": {
  "kernelspec": {
   "display_name": "Python 3.9.12 ('.venv': venv)",
   "language": "python",
   "name": "python3"
  },
  "language_info": {
   "codemirror_mode": {
    "name": "ipython",
    "version": 3
   },
   "file_extension": ".py",
   "mimetype": "text/x-python",
   "name": "python",
   "nbconvert_exporter": "python",
   "pygments_lexer": "ipython3",
   "version": "3.9.12"
  },
  "orig_nbformat": 4,
  "vscode": {
   "interpreter": {
    "hash": "7808f69e682bf67f40fbd9aae8e7cfcbfad3af8f25f2aae6cd4a451b53bb97f6"
   }
  }
 },
 "nbformat": 4,
 "nbformat_minor": 2
}
