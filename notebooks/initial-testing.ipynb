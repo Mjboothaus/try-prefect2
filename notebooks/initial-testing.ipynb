{
 "cells": [
  {
   "cell_type": "markdown",
   "metadata": {},
   "source": [
    "## Prefect 2 Tutorial - Intro"
   ]
  },
  {
   "cell_type": "code",
   "execution_count": 1,
   "metadata": {},
   "outputs": [],
   "source": [
    "from prefect import flow, task\n",
    "import requests\n",
    "import asyncio"
   ]
  },
  {
   "cell_type": "code",
   "execution_count": 2,
   "metadata": {},
   "outputs": [
    {
     "name": "stdout",
     "output_type": "stream",
     "text": [
      "Version:             2.0b8\n",
      "API version:         0.7.0\n",
      "Python version:      3.9.12\n",
      "Git commit:          4b8dfc35\n",
      "Built:               Fri, Jul 8, 2022 8:53 AM\n",
      "OS/Arch:             darwin/arm64\n",
      "Profile:             default\n",
      "Server type:         ephemeral\n",
      "Server:\n",
      "  Database:          sqlite\n",
      "  SQLite version:    3.37.0\n"
     ]
    }
   ],
   "source": [
    "!prefect version"
   ]
  },
  {
   "cell_type": "markdown",
   "metadata": {},
   "source": [
    "### Run a basic flow\n",
    "\n",
    "The simplest way to begin with Prefect is to import flow and annotate your a Python function using the `@flow` decorator:"
   ]
  },
  {
   "cell_type": "code",
   "execution_count": 3,
   "metadata": {},
   "outputs": [],
   "source": [
    "@flow\n",
    "def my_favorite_function():\n",
    "    print(\"This function doesn't do much\")\n",
    "    return 42"
   ]
  },
  {
   "cell_type": "markdown",
   "metadata": {},
   "source": [
    "Running a Prefect workflow manually is as easy as calling the annotated function. In this case, we run the      `my_favorite_function()` snippet shown above:"
   ]
  },
  {
   "cell_type": "code",
   "execution_count": 4,
   "metadata": {},
   "outputs": [
    {
     "name": "stderr",
     "output_type": "stream",
     "text": [
      "18:11:47.254 | INFO    | prefect.engine - Created flow run 'independent-hawk' for flow 'my-favorite-function'\n",
      "18:11:47.255 | INFO    | Flow run 'independent-hawk' - Using task runner 'ConcurrentTaskRunner'\n",
      "18:11:47.264 | WARNING | Flow run 'independent-hawk' - No default storage is configured on the server. Results from this flow run will be stored in a temporary directory in its runtime environment.\n",
      "18:11:47.299 | INFO    | Flow run 'independent-hawk' - Finished in state Completed()\n"
     ]
    },
    {
     "name": "stdout",
     "output_type": "stream",
     "text": [
      "This function doesn't do much\n"
     ]
    }
   ],
   "source": [
    "state = my_favorite_function()"
   ]
  },
  {
   "cell_type": "markdown",
   "metadata": {},
   "source": [
    "The first thing you'll notice is the messages surrounding the expected output, \"This function doesn't do much\".\n",
    "\n",
    "By adding the `@flow` decorator to your function, function calls will create a flow run — the Prefect Orion orchestration engine manages task and flow state, including inspecting their progress, regardless of where your flow code runs.\n",
    "\n",
    "For clarity in future tutorial examples, we may not show these messages in results except where they are relevant to the discussion.\n",
    "\n",
    "Next, examine `state`, which shows the result returned by the `my_favorite_function()` flow."
   ]
  },
  {
   "cell_type": "code",
   "execution_count": 5,
   "metadata": {},
   "outputs": [
    {
     "data": {
      "text/plain": [
       "Completed(message=None, type=COMPLETED, result=42)"
      ]
     },
     "execution_count": 5,
     "metadata": {},
     "output_type": "execute_result"
    }
   ],
   "source": [
    "state"
   ]
  },
  {
   "cell_type": "markdown",
   "metadata": {},
   "source": [
    "*Flows return states*\n",
    "\n",
    "> You may notice that this call did not return the number 42 but rather a Prefect State object. States are the basic currency of communication between Prefect clients and the Prefect API, and can be used to define the conditions for orchestration rules as well as an interface for client-side logic."
   ]
  },
  {
   "cell_type": "markdown",
   "metadata": {},
   "source": [
    "In this case, the state of `my_favorite_function()` is \"Completed\", with no further message details (\"None\" in this example).\n",
    "\n",
    "If you want to see the data returned by the flow, access it via the `.result()` method on the State object."
   ]
  },
  {
   "cell_type": "code",
   "execution_count": 6,
   "metadata": {},
   "outputs": [
    {
     "data": {
      "text/plain": [
       "42"
      ]
     },
     "execution_count": 6,
     "metadata": {},
     "output_type": "execute_result"
    }
   ],
   "source": [
    "state.result()"
   ]
  },
  {
   "cell_type": "markdown",
   "metadata": {},
   "source": [
    "### Run flows with parameters\n",
    "\n",
    "As with any Python function, you can pass arguments. The positional and keyword arguments defined on your flow function are called parameters. To demonstrate:"
   ]
  },
  {
   "cell_type": "code",
   "execution_count": 7,
   "metadata": {},
   "outputs": [],
   "source": [
    "@flow\n",
    "def call_api(url):\n",
    "    return requests.get(url).json()\n"
   ]
  },
  {
   "cell_type": "markdown",
   "metadata": {},
   "source": [
    "You can pass any parameters needed by your flow function, and you can pass parameters on the `@flow` decorator for configuration as well. We'll cover that in a future tutorial.\n",
    "\n",
    "For now, run the `call_api()` flow, passing a valid URL as a parameter. In this case, we're sending a POST request to an API that should return valid JSON in the response."
   ]
  },
  {
   "cell_type": "code",
   "execution_count": 8,
   "metadata": {},
   "outputs": [
    {
     "name": "stderr",
     "output_type": "stream",
     "text": [
      "18:11:47.606 | INFO    | prefect.engine - Created flow run 'sturdy-sheep' for flow 'call-api'\n",
      "18:11:47.607 | INFO    | Flow run 'sturdy-sheep' - Using task runner 'ConcurrentTaskRunner'\n",
      "18:11:47.614 | WARNING | Flow run 'sturdy-sheep' - No default storage is configured on the server. Results from this flow run will be stored in a temporary directory in its runtime environment.\n",
      "18:11:48.043 | INFO    | Flow run 'sturdy-sheep' - Finished in state Completed()\n"
     ]
    }
   ],
   "source": [
    "state = call_api(\"http://time.jsontest.com/\")"
   ]
  },
  {
   "cell_type": "markdown",
   "metadata": {},
   "source": [
    "Again, Prefect Orion automatically orchestrates the flow run. Again, print the state and note the \"Completed\" state matches what Prefect Orion prints in your terminal."
   ]
  },
  {
   "cell_type": "code",
   "execution_count": 9,
   "metadata": {},
   "outputs": [
    {
     "data": {
      "text/plain": [
       "{'date': '07-10-2022',\n",
       " 'milliseconds_since_epoch': 1657440707816,\n",
       " 'time': '08:11:47 AM'}"
      ]
     },
     "execution_count": 9,
     "metadata": {},
     "output_type": "execute_result"
    }
   ],
   "source": [
    "state.result()"
   ]
  },
  {
   "cell_type": "code",
   "execution_count": 10,
   "metadata": {},
   "outputs": [
    {
     "data": {
      "text/plain": [
       "Completed(message=None, type=COMPLETED, result={'date': '07-10-2022', 'milliseconds_since_epoch': 1657440707816, 'time': '08:11:47 AM'})"
      ]
     },
     "execution_count": 10,
     "metadata": {},
     "output_type": "execute_result"
    }
   ],
   "source": [
    "state"
   ]
  },
  {
   "cell_type": "code",
   "execution_count": 11,
   "metadata": {},
   "outputs": [
    {
     "name": "stdout",
     "output_type": "stream",
     "text": [
      "Completed()\n"
     ]
    }
   ],
   "source": [
    "print(state)"
   ]
  },
  {
   "cell_type": "markdown",
   "metadata": {},
   "source": [
    "### Error handling\n",
    "\n",
    "What happens if the Python function encounters an error while your flow is running? To see what happens whenever our flow does not complete successfully, let's intentionally run the `call_api()` flow above with a bad value for the URL:"
   ]
  },
  {
   "cell_type": "code",
   "execution_count": 12,
   "metadata": {},
   "outputs": [
    {
     "name": "stderr",
     "output_type": "stream",
     "text": [
      "18:11:48.256 | INFO    | prefect.engine - Created flow run 'hysterical-chachalaca' for flow 'call-api'\n",
      "18:11:48.257 | INFO    | Flow run 'hysterical-chachalaca' - Using task runner 'ConcurrentTaskRunner'\n",
      "18:11:48.267 | WARNING | Flow run 'hysterical-chachalaca' - No default storage is configured on the server. Results from this flow run will be stored in a temporary directory in its runtime environment.\n",
      "18:11:48.287 | ERROR   | Flow run 'hysterical-chachalaca' - Encountered exception during execution:\n",
      "Traceback (most recent call last):\n",
      "  File \"/Users/mjboothaus/try-prefect2/.venv/lib/python3.9/site-packages/prefect/engine.py\", line 520, in orchestrate_flow_run\n",
      "    result = await run_sync_in_interruptible_worker_thread(\n",
      "  File \"/Users/mjboothaus/try-prefect2/.venv/lib/python3.9/site-packages/prefect/utilities/asyncio.py\", line 116, in run_sync_in_interruptible_worker_thread\n",
      "    tg.start_soon(\n",
      "  File \"/Users/mjboothaus/try-prefect2/.venv/lib/python3.9/site-packages/anyio/_backends/_asyncio.py\", line 662, in __aexit__\n",
      "    raise exceptions[0]\n",
      "  File \"/Users/mjboothaus/try-prefect2/.venv/lib/python3.9/site-packages/anyio/to_thread.py\", line 31, in run_sync\n",
      "    return await get_asynclib().run_sync_in_worker_thread(\n",
      "  File \"/Users/mjboothaus/try-prefect2/.venv/lib/python3.9/site-packages/anyio/_backends/_asyncio.py\", line 937, in run_sync_in_worker_thread\n",
      "    return await future\n",
      "  File \"/Users/mjboothaus/try-prefect2/.venv/lib/python3.9/site-packages/anyio/_backends/_asyncio.py\", line 867, in run\n",
      "    result = context.run(func, *args)\n",
      "  File \"/Users/mjboothaus/try-prefect2/.venv/lib/python3.9/site-packages/prefect/utilities/asyncio.py\", line 96, in capture_worker_thread_and_result\n",
      "    result = __fn(*args, **kwargs)\n",
      "  File \"/var/folders/wc/zhl433ms1fx5rvtvcrkw6dgw0000gn/T/ipykernel_61495/814932896.py\", line 3, in call_api\n",
      "    return requests.get(url).json()\n",
      "  File \"/Users/mjboothaus/try-prefect2/.venv/lib/python3.9/site-packages/requests/api.py\", line 73, in get\n",
      "    return request(\"get\", url, params=params, **kwargs)\n",
      "  File \"/Users/mjboothaus/try-prefect2/.venv/lib/python3.9/site-packages/requests/api.py\", line 59, in request\n",
      "    return session.request(method=method, url=url, **kwargs)\n",
      "  File \"/Users/mjboothaus/try-prefect2/.venv/lib/python3.9/site-packages/requests/sessions.py\", line 573, in request\n",
      "    prep = self.prepare_request(req)\n",
      "  File \"/Users/mjboothaus/try-prefect2/.venv/lib/python3.9/site-packages/requests/sessions.py\", line 484, in prepare_request\n",
      "    p.prepare(\n",
      "  File \"/Users/mjboothaus/try-prefect2/.venv/lib/python3.9/site-packages/requests/models.py\", line 368, in prepare\n",
      "    self.prepare_url(url, params)\n",
      "  File \"/Users/mjboothaus/try-prefect2/.venv/lib/python3.9/site-packages/requests/models.py\", line 439, in prepare_url\n",
      "    raise MissingSchema(\n",
      "requests.exceptions.MissingSchema: Invalid URL 'foo': No scheme supplied. Perhaps you meant http://foo?\n",
      "18:11:48.303 | ERROR   | Flow run 'hysterical-chachalaca' - Finished in state Failed('Flow run encountered an exception.')\n"
     ]
    }
   ],
   "source": [
    "state = call_api(\"foo\")"
   ]
  },
  {
   "cell_type": "markdown",
   "metadata": {},
   "source": [
    "In this situation, the call to `requests.get()` encounters an exception, but the flow run still returns! The exception is captured by Orion, which continues to shut down the flow run normally.\n",
    "\n",
    "However, in contrast to the 'COMPLETED' state, we now encounter a 'FAILED' state signaling that something unexpected happened during execution."
   ]
  },
  {
   "cell_type": "code",
   "execution_count": 13,
   "metadata": {},
   "outputs": [
    {
     "name": "stdout",
     "output_type": "stream",
     "text": [
      "Failed('Flow run encountered an exception.')\n"
     ]
    }
   ],
   "source": [
    "print(state)"
   ]
  },
  {
   "cell_type": "markdown",
   "metadata": {},
   "source": [
    "This behavior is consistent across flow runs and task runs and allows you to respond to failures in a first-class way — whether by configuring orchestration rules in the Orion backend (retry logic) or by directly responding to failed states in client code.\n",
    "\n",
    "### Run a basic flow with tasks\n",
    "\n",
    "Let's now add some tasks to a flow so that we can orchestrate and monitor at a more granular level.\n",
    "\n",
    "A task is a function that represents a distinct piece of work executed within a flow. You don't have to use tasks — you can include all of the logic of your workflow within the flow itself. However, encapsulating your business logic into smaller task units gives you more granular observability, control over how specific tasks are run (potentially taking advantage of parallel execution), and reusing tasks across flows and sub-flows.\n",
    "\n",
    "Creating and adding tasks follows the exact same pattern as for flows. Import task and use the `@task` decorator to annotate functions as tasks.\n",
    "\n",
    "Let's take the previous `call_api()` example and move the actual HTTP request to its own task."
   ]
  },
  {
   "cell_type": "code",
   "execution_count": 14,
   "metadata": {},
   "outputs": [],
   "source": [
    "@task\n",
    "def call_api(url):\n",
    "    response = requests.get(url)\n",
    "    print(f\"Response: {response.status_code}\")\n",
    "    return response.json()\n",
    "\n",
    "\n",
    "@flow\n",
    "def api_flow(url):\n",
    "    fact_json = call_api(url)\n",
    "    return "
   ]
  },
  {
   "cell_type": "markdown",
   "metadata": {},
   "source": [
    "As you can see, we still call these tasks as normal functions and can pass their return values to other tasks. We can then call our flow function — now called `api_flow()` — just as before and see the printed output. Prefect manages all the relevant intermediate states."
   ]
  },
  {
   "cell_type": "code",
   "execution_count": 15,
   "metadata": {},
   "outputs": [
    {
     "name": "stderr",
     "output_type": "stream",
     "text": [
      "18:11:48.502 | INFO    | prefect.engine - Created flow run 'crouching-turaco' for flow 'api-flow'\n",
      "18:11:48.504 | INFO    | Flow run 'crouching-turaco' - Using task runner 'ConcurrentTaskRunner'\n",
      "18:11:48.517 | WARNING | Flow run 'crouching-turaco' - No default storage is configured on the server. Results from this flow run will be stored in a temporary directory in its runtime environment.\n",
      "18:11:48.554 | INFO    | Flow run 'crouching-turaco' - Created task run 'call_api-ded10bed-0' for task 'call_api'\n",
      "18:11:49.990 | INFO    | Task run 'call_api-ded10bed-0' - Finished in state Completed()\n",
      "18:11:50.001 | INFO    | Flow run 'crouching-turaco' - Finished in state Completed('All states completed.')\n"
     ]
    },
    {
     "name": "stdout",
     "output_type": "stream",
     "text": [
      "Response: 200\n"
     ]
    }
   ],
   "source": [
    "state = api_flow(\"https://catfact.ninja/fact\")"
   ]
  },
  {
   "cell_type": "markdown",
   "metadata": {},
   "source": [
    "And of course we can create tasks that take input from and pass input to other tasks.\n",
    "\n"
   ]
  },
  {
   "cell_type": "code",
   "execution_count": 16,
   "metadata": {},
   "outputs": [],
   "source": [
    "@task(name=\"t-example3-1\")\n",
    "def call_api(url):\n",
    "    response = requests.get(url)\n",
    "    print(response.status_code)\n",
    "    return response.json()\n",
    "\n",
    "@task(name=\"t-example3-2\")\n",
    "def parse_fact(response):\n",
    "    print(response[\"fact\"])\n",
    "    return \n",
    "\n",
    "@flow(name=\"f-example3\")\n",
    "def api_flow(url):\n",
    "    fact_json = call_api(url)\n",
    "    parse_fact(fact_json)\n",
    "    return"
   ]
  },
  {
   "cell_type": "code",
   "execution_count": 17,
   "metadata": {},
   "outputs": [
    {
     "name": "stderr",
     "output_type": "stream",
     "text": [
      "18:11:50.143 | INFO    | prefect.engine - Created flow run 'voracious-kiwi' for flow 'f-example3'\n",
      "18:11:50.144 | INFO    | Flow run 'voracious-kiwi' - Using task runner 'ConcurrentTaskRunner'\n",
      "18:11:50.150 | WARNING | Flow run 'voracious-kiwi' - No default storage is configured on the server. Results from this flow run will be stored in a temporary directory in its runtime environment.\n",
      "18:11:50.183 | INFO    | Flow run 'voracious-kiwi' - Created task run 't-example3-1-ded10bed-0' for task 't-example3-1'\n",
      "18:11:50.201 | INFO    | Flow run 'voracious-kiwi' - Created task run 't-example3-2-6803447a-0' for task 't-example3-2'\n",
      "18:11:51.015 | INFO    | Task run 't-example3-1-ded10bed-0' - Finished in state Completed()\n",
      "18:11:51.040 | INFO    | Task run 't-example3-2-6803447a-0' - Finished in state Completed()\n",
      "18:11:51.052 | INFO    | Flow run 'voracious-kiwi' - Finished in state Completed('All states completed.')\n"
     ]
    },
    {
     "name": "stdout",
     "output_type": "stream",
     "text": [
      "200\n",
      "In 1987 cats overtook dogs as the number one pet in America.\n"
     ]
    }
   ],
   "source": [
    "state = api_flow(\"https://catfact.ninja/fact\")"
   ]
  },
  {
   "cell_type": "code",
   "execution_count": 18,
   "metadata": {},
   "outputs": [
    {
     "name": "stdout",
     "output_type": "stream",
     "text": [
      "Completed('All states completed.')\n"
     ]
    }
   ],
   "source": [
    "print(state)"
   ]
  },
  {
   "cell_type": "markdown",
   "metadata": {},
   "source": [
    "Combining tasks with arbitrary Python code\n",
    "\n",
    "> Notice in the above example that all of our Python logic is encapsulated within task functions. While there are many benefits to using Prefect in this way, it is not a strict requirement. Interacting with the results of your Prefect tasks requires an understanding of Prefect futures.\n",
    "\n",
    "### Run a flow within a flow\n",
    "\n",
    "Not only can you call tasks functions within a flow, but you can also call other flow functions! Flows that run within other flows are called sub-flows and allow you to efficiently manage, track, and version common multi-task logic.\n",
    "\n",
    "Consider the following simple example:"
   ]
  },
  {
   "cell_type": "code",
   "execution_count": 19,
   "metadata": {},
   "outputs": [],
   "source": [
    "@flow\n",
    "def common_flow(config: dict):\n",
    "    print(\"I am a subgraph that shows up in lots of places!\")\n",
    "    intermediate_result = 42\n",
    "    return intermediate_result\n",
    "\n",
    "@flow\n",
    "def main_flow():\n",
    "    # do some things\n",
    "    # then call another flow function\n",
    "    data = common_flow(config={})\n",
    "    # do more things"
   ]
  },
  {
   "cell_type": "markdown",
   "metadata": {},
   "source": [
    "Whenever we run `main_flow` as above, a new run will be generated for `common_flow` as well. Not only is this run tracked as a sub-flow run of `main_flow`, but you can also inspect it independently in the UI!"
   ]
  },
  {
   "cell_type": "code",
   "execution_count": 20,
   "metadata": {},
   "outputs": [
    {
     "name": "stderr",
     "output_type": "stream",
     "text": [
      "18:11:51.234 | INFO    | prefect.engine - Created flow run 'hungry-junglefowl' for flow 'main-flow'\n",
      "18:11:51.234 | INFO    | Flow run 'hungry-junglefowl' - Using task runner 'ConcurrentTaskRunner'\n",
      "18:11:51.242 | WARNING | Flow run 'hungry-junglefowl' - No default storage is configured on the server. Results from this flow run will be stored in a temporary directory in its runtime environment.\n",
      "18:11:51.302 | INFO    | Flow run 'hungry-junglefowl' - Created subflow run 'ancient-armadillo' for flow 'common-flow'\n",
      "18:11:51.348 | INFO    | Flow run 'ancient-armadillo' - Finished in state Completed()\n",
      "18:11:51.362 | INFO    | Flow run 'hungry-junglefowl' - Finished in state Completed('All states completed.')\n"
     ]
    },
    {
     "name": "stdout",
     "output_type": "stream",
     "text": [
      "I am a subgraph that shows up in lots of places!\n"
     ]
    }
   ],
   "source": [
    "flow_state = main_flow()"
   ]
  },
  {
   "cell_type": "markdown",
   "metadata": {},
   "source": []
  },
  {
   "cell_type": "markdown",
   "metadata": {},
   "source": [
    "You can confirm this for yourself by spinning up the UI using the `prefect orion start` CLI command from your terminal:\n"
   ]
  },
  {
   "cell_type": "code",
   "execution_count": 21,
   "metadata": {},
   "outputs": [
    {
     "name": "stdout",
     "output_type": "stream",
     "text": [
      "Starting...\n",
      "\n",
      " ___ ___ ___ ___ ___ ___ _____    ___  ___ ___ ___  _  _\n",
      "| _ \\ _ \\ __| __| __/ __|_   _|  / _ \\| _ \\_ _/ _ \\| \\| |\n",
      "|  _/   / _|| _|| _| (__  | |   | (_) |   /| | (_) | .` |\n",
      "|_| |_|_\\___|_| |___\\___| |_|    \\___/|_|_\\___\\___/|_|\\_|\n",
      "\n",
      "Configure Prefect to communicate with the server with:\n",
      "\n",
      "    prefect config set PREFECT_API_URL=http://127.0.0.1:4200/api\n",
      "\n",
      "View the API reference documentation at http://127.0.0.1:4200/docs\n",
      "\n",
      "Check out the dashboard at http://127.0.0.1:4200\n",
      "\n",
      "\n",
      "\n",
      "\u001b[32mINFO\u001b[0m:     Started server process [\u001b[36m61519\u001b[0m]\n",
      "\u001b[32mINFO\u001b[0m:     Waiting for application startup.\n",
      "\u001b[32mINFO\u001b[0m:     Application startup complete.\n",
      "\u001b[32mINFO\u001b[0m:     Uvicorn running on \u001b[1mhttp://127.0.0.1:4200\u001b[0m (Press CTRL+C to quit)\n",
      "^C\n",
      "\u001b[32mINFO\u001b[0m:     Shutting down\n",
      "\u001b[32mINFO\u001b[0m:     Waiting for application shutdown.\n"
     ]
    }
   ],
   "source": [
    "!prefect orion start"
   ]
  },
  {
   "cell_type": "markdown",
   "metadata": {},
   "source": [
    "### Asynchronous functions\n",
    "\n",
    "Even asynchronous functions work with Prefect! Here's a variation of the previous examples that makes the API request as an async operation:"
   ]
  },
  {
   "cell_type": "code",
   "execution_count": 24,
   "metadata": {},
   "outputs": [],
   "source": [
    "@task\n",
    "async def call_api(url):\n",
    "    response = requests.get(url)\n",
    "    print(response.status_code)\n",
    "    return response.json()\n",
    "\n",
    "@flow\n",
    "async def async_flow(url):\n",
    "    fact_json = await call_api(url)\n",
    "    return "
   ]
  },
  {
   "cell_type": "markdown",
   "metadata": {},
   "source": [
    "If we run this in the REPL, the output looks just like previous runs."
   ]
  },
  {
   "cell_type": "code",
   "execution_count": 26,
   "metadata": {},
   "outputs": [],
   "source": [
    "# Following doesn't seem to run in Jupyter\n",
    "\n",
    "# asyncio.run(async_flow(\"https://catfact.ninja/fact\"))"
   ]
  }
 ],
 "metadata": {
  "kernelspec": {
   "display_name": "Python 3.9.12 ('.venv': venv)",
   "language": "python",
   "name": "python3"
  },
  "language_info": {
   "codemirror_mode": {
    "name": "ipython",
    "version": 3
   },
   "file_extension": ".py",
   "mimetype": "text/x-python",
   "name": "python",
   "nbconvert_exporter": "python",
   "pygments_lexer": "ipython3",
   "version": "3.9.12"
  },
  "orig_nbformat": 4,
  "vscode": {
   "interpreter": {
    "hash": "7808f69e682bf67f40fbd9aae8e7cfcbfad3af8f25f2aae6cd4a451b53bb97f6"
   }
  }
 },
 "nbformat": 4,
 "nbformat_minor": 2
}
