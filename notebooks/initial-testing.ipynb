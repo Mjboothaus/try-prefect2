{
 "cells": [
  {
   "cell_type": "markdown",
   "metadata": {},
   "source": [
    "## Prefect 2 Tutorial - Intro"
   ]
  },
  {
   "cell_type": "code",
   "execution_count": 1,
   "metadata": {},
   "outputs": [],
   "source": [
    "from prefect import flow, task\n",
    "import requests\n",
    "import asyncio"
   ]
  },
  {
   "cell_type": "code",
   "execution_count": 2,
   "metadata": {},
   "outputs": [
    {
     "name": "stdout",
     "output_type": "stream",
     "text": [
      "Version:             2.0.0\n",
      "API version:         0.8.0\n",
      "Python version:      3.9.12\n",
      "Git commit:          29889eb4\n",
      "Built:               Wed, Jul 27, 2022 12:44 PM\n",
      "OS/Arch:             darwin/arm64\n",
      "Profile:             default\n",
      "Server type:         ephemeral\n",
      "Server:\n",
      "  Database:          sqlite\n",
      "  SQLite version:    3.37.0\n"
     ]
    }
   ],
   "source": [
    "!prefect version"
   ]
  },
  {
   "cell_type": "markdown",
   "metadata": {},
   "source": [
    "### Run a basic flow\n",
    "\n",
    "The simplest way to begin with Prefect is to import flow and annotate your a Python function using the `@flow` decorator:"
   ]
  },
  {
   "cell_type": "code",
   "execution_count": 3,
   "metadata": {},
   "outputs": [],
   "source": [
    "@task \n",
    "def add_one(x):\n",
    "    return x + 1\n",
    "\n",
    "@flow \n",
    "def my_flow():\n",
    "    result = add_one(1) # return int"
   ]
  },
  {
   "cell_type": "markdown",
   "metadata": {},
   "source": []
  },
  {
   "cell_type": "code",
   "execution_count": 4,
   "metadata": {},
   "outputs": [],
   "source": [
    "@flow \n",
    "def my_add_one_flow():\n",
    "    state = add_one(1, return_state=True) # return State\n",
    "    return state"
   ]
  },
  {
   "cell_type": "code",
   "execution_count": 5,
   "metadata": {},
   "outputs": [
    {
     "name": "stderr",
     "output_type": "stream",
     "text": [
      "17:25:33.625 | INFO    | prefect.engine - Created flow run 'gabby-slug' for flow 'my-add-one-flow'\n",
      "17:25:33.625 | INFO    | Flow run 'gabby-slug' - Starting 'ConcurrentTaskRunner'; submitted tasks will be run concurrently...\n",
      "17:25:33.699 | INFO    | Flow run 'gabby-slug' - Created task run 'add_one-3c3112ef-0' for task 'add_one'\n",
      "17:25:33.700 | INFO    | Flow run 'gabby-slug' - Executing 'add_one-3c3112ef-0' immediately...\n",
      "17:25:33.725 | INFO    | Task run 'add_one-3c3112ef-0' - Finished in state Completed()\n",
      "17:25:33.738 | INFO    | Flow run 'gabby-slug' - Finished in state Completed('All states completed.')\n"
     ]
    }
   ],
   "source": [
    "state = my_add_one_flow()"
   ]
  },
  {
   "cell_type": "code",
   "execution_count": 6,
   "metadata": {},
   "outputs": [
    {
     "data": {
      "text/plain": [
       "2"
      ]
     },
     "execution_count": 6,
     "metadata": {},
     "output_type": "execute_result"
    }
   ],
   "source": [
    "state.result()"
   ]
  },
  {
   "cell_type": "code",
   "execution_count": 7,
   "metadata": {},
   "outputs": [],
   "source": [
    "@flow\n",
    "def my_favorite_function():\n",
    "    print(\"This function doesn't do much\")\n",
    "    return 42\n",
    "\n",
    "@flow\n",
    "def my_favorite_function_flow():\n",
    "    return my_favorite_function(return_state=True)"
   ]
  },
  {
   "cell_type": "markdown",
   "metadata": {},
   "source": [
    "Running a Prefect workflow manually is as easy as calling the annotated function. In this case, we run the      `my_favorite_function()` snippet shown above:"
   ]
  },
  {
   "cell_type": "code",
   "execution_count": 8,
   "metadata": {},
   "outputs": [
    {
     "name": "stderr",
     "output_type": "stream",
     "text": [
      "17:25:33.969 | INFO    | prefect.engine - Created flow run 'idealistic-mouse' for flow 'my-favorite-function-flow'\n",
      "17:25:33.969 | INFO    | Flow run 'idealistic-mouse' - Starting 'ConcurrentTaskRunner'; submitted tasks will be run concurrently...\n",
      "17:25:34.050 | INFO    | Flow run 'idealistic-mouse' - Created subflow run 'conscious-salmon' for flow 'my-favorite-function'\n",
      "17:25:34.098 | INFO    | Flow run 'conscious-salmon' - Finished in state Completed()\n",
      "17:25:34.111 | INFO    | Flow run 'idealistic-mouse' - Finished in state Completed('All states completed.')\n"
     ]
    },
    {
     "name": "stdout",
     "output_type": "stream",
     "text": [
      "This function doesn't do much\n"
     ]
    }
   ],
   "source": [
    "state = my_favorite_function_flow()"
   ]
  },
  {
   "cell_type": "markdown",
   "metadata": {},
   "source": [
    "The first thing you'll notice is the messages surrounding the expected output, \"This function doesn't do much\".\n",
    "\n",
    "By adding the `@flow` decorator to your function, function calls will create a flow run — the Prefect Orion orchestration engine manages task and flow state, including inspecting their progress, regardless of where your flow code runs.\n",
    "\n",
    "For clarity in future tutorial examples, we may not show these messages in results except where they are relevant to the discussion.\n",
    "\n",
    "Next, examine `state`, which shows the result returned by the `my_favorite_function()` flow."
   ]
  },
  {
   "cell_type": "code",
   "execution_count": 9,
   "metadata": {},
   "outputs": [
    {
     "data": {
      "text/plain": [
       "Completed(message=None, type=COMPLETED, result=42)"
      ]
     },
     "execution_count": 9,
     "metadata": {},
     "output_type": "execute_result"
    }
   ],
   "source": [
    "state"
   ]
  },
  {
   "cell_type": "markdown",
   "metadata": {},
   "source": [
    "*Flows return states*\n",
    "\n",
    "> You may notice that this call did not return the number 42 but rather a Prefect State object. States are the basic currency of communication between Prefect clients and the Prefect API, and can be used to define the conditions for orchestration rules as well as an interface for client-side logic."
   ]
  },
  {
   "cell_type": "markdown",
   "metadata": {},
   "source": [
    "In this case, the state of `my_favorite_function()` is \"Completed\", with no further message details (\"None\" in this example).\n",
    "\n",
    "If you want to see the data returned by the flow, access it via the `.result()` method on the State object."
   ]
  },
  {
   "cell_type": "code",
   "execution_count": 10,
   "metadata": {},
   "outputs": [
    {
     "data": {
      "text/plain": [
       "42"
      ]
     },
     "execution_count": 10,
     "metadata": {},
     "output_type": "execute_result"
    }
   ],
   "source": [
    "state.result()"
   ]
  },
  {
   "cell_type": "markdown",
   "metadata": {},
   "source": [
    "### Run flows with parameters\n",
    "\n",
    "As with any Python function, you can pass arguments. The positional and keyword arguments defined on your flow function are called parameters. To demonstrate:"
   ]
  },
  {
   "cell_type": "code",
   "execution_count": 11,
   "metadata": {},
   "outputs": [],
   "source": [
    "@task\n",
    "def call_api(url):\n",
    "    return requests.get(url).json()\n"
   ]
  },
  {
   "cell_type": "code",
   "execution_count": 12,
   "metadata": {},
   "outputs": [],
   "source": [
    "@flow\n",
    "def api_flow(url):\n",
    "    return call_api(url, return_state=True)"
   ]
  },
  {
   "cell_type": "markdown",
   "metadata": {},
   "source": [
    "You can pass any parameters needed by your flow function, and you can pass parameters on the `@flow` decorator for configuration as well. We'll cover that in a future tutorial.\n",
    "\n",
    "For now, run the `call_api()` flow, passing a valid URL as a parameter. In this case, we're sending a POST request to an API that should return valid JSON in the response."
   ]
  },
  {
   "cell_type": "code",
   "execution_count": 13,
   "metadata": {},
   "outputs": [
    {
     "name": "stderr",
     "output_type": "stream",
     "text": [
      "17:25:34.439 | INFO    | prefect.engine - Created flow run 'agate-wasp' for flow 'call-api-flow'\n",
      "17:25:34.439 | INFO    | Flow run 'agate-wasp' - Starting 'ConcurrentTaskRunner'; submitted tasks will be run concurrently...\n",
      "17:25:34.501 | INFO    | Flow run 'agate-wasp' - Created task run 'call_api-ded10bed-0' for task 'call_api'\n",
      "17:25:34.501 | INFO    | Flow run 'agate-wasp' - Executing 'call_api-ded10bed-0' immediately...\n",
      "17:25:34.876 | INFO    | Task run 'call_api-ded10bed-0' - Finished in state Completed()\n",
      "17:25:34.893 | INFO    | Flow run 'agate-wasp' - Finished in state Completed('All states completed.')\n"
     ]
    }
   ],
   "source": [
    "state = call_api_flow(\"http://time.jsontest.com/\")"
   ]
  },
  {
   "cell_type": "markdown",
   "metadata": {},
   "source": [
    "Again, Prefect Orion automatically orchestrates the flow run. Again, print the state and note the \"Completed\" state matches what Prefect Orion prints in your terminal."
   ]
  },
  {
   "cell_type": "code",
   "execution_count": 14,
   "metadata": {},
   "outputs": [
    {
     "data": {
      "text/plain": [
       "{'date': '07-28-2022',\n",
       " 'milliseconds_since_epoch': 1658993134691,\n",
       " 'time': '07:25:34 AM'}"
      ]
     },
     "execution_count": 14,
     "metadata": {},
     "output_type": "execute_result"
    }
   ],
   "source": [
    "state.result()"
   ]
  },
  {
   "cell_type": "code",
   "execution_count": 15,
   "metadata": {},
   "outputs": [
    {
     "data": {
      "text/plain": [
       "Completed(message=None, type=COMPLETED, result={'date': '07-28-2022', 'milliseconds_since_epoch': 1658993134691, 'time': '07:25:34 AM'})"
      ]
     },
     "execution_count": 15,
     "metadata": {},
     "output_type": "execute_result"
    }
   ],
   "source": [
    "state"
   ]
  },
  {
   "cell_type": "markdown",
   "metadata": {},
   "source": [
    "### Error handling\n",
    "\n",
    "What happens if the Python function encounters an error while your flow is running? To see what happens whenever our flow does not complete successfully, let's intentionally run the `call_api()` flow above with a bad value for the URL:"
   ]
  },
  {
   "cell_type": "code",
   "execution_count": 17,
   "metadata": {},
   "outputs": [],
   "source": [
    "# state_bad = call_api_flow(\"foo\") - exception doesn't get caught??"
   ]
  },
  {
   "cell_type": "markdown",
   "metadata": {},
   "source": [
    "In this situation, the call to `requests.get()` encounters an exception, but the flow run still returns! The exception is captured by Orion, which continues to shut down the flow run normally.\n",
    "\n",
    "However, in contrast to the 'COMPLETED' state, we now encounter a 'FAILED' state signaling that something unexpected happened during execution."
   ]
  },
  {
   "cell_type": "code",
   "execution_count": 18,
   "metadata": {},
   "outputs": [
    {
     "data": {
      "text/plain": [
       "Completed(message=None, type=COMPLETED, result={'date': '07-28-2022', 'milliseconds_since_epoch': 1658993134691, 'time': '07:25:34 AM'})"
      ]
     },
     "execution_count": 18,
     "metadata": {},
     "output_type": "execute_result"
    }
   ],
   "source": [
    "state"
   ]
  },
  {
   "cell_type": "markdown",
   "metadata": {},
   "source": [
    "This behavior is consistent across flow runs and task runs and allows you to respond to failures in a first-class way — whether by configuring orchestration rules in the Orion backend (retry logic) or by directly responding to failed states in client code.\n",
    "\n",
    "### Run a basic flow with tasks\n",
    "\n",
    "Let's now add some tasks to a flow so that we can orchestrate and monitor at a more granular level.\n",
    "\n",
    "A task is a function that represents a distinct piece of work executed within a flow. You don't have to use tasks — you can include all of the logic of your workflow within the flow itself. However, encapsulating your business logic into smaller task units gives you more granular observability, control over how specific tasks are run (potentially taking advantage of parallel execution), and reusing tasks across flows and sub-flows.\n",
    "\n",
    "Creating and adding tasks follows the exact same pattern as for flows. Import task and use the `@task` decorator to annotate functions as tasks.\n",
    "\n",
    "Let's take the previous `call_api()` example and move the actual HTTP request to its own task."
   ]
  },
  {
   "cell_type": "code",
   "execution_count": 19,
   "metadata": {},
   "outputs": [
    {
     "name": "stderr",
     "output_type": "stream",
     "text": [
      "/Users/mjboothaus/code/github/mjboothaus/try-prefect2/.venv_dev_try-prefect2/lib/python3.9/site-packages/prefect/tasks.py:166: UserWarning: A task named 'call_api' and defined at '/var/folders/wc/zhl433ms1fx5rvtvcrkw6dgw0000gn/T/ipykernel_23767/3105438947.py:1' conflicts with another task. Consider specifying a unique `name` parameter in the task definition:\n",
      "\n",
      " `@task(name='my_unique_name', ...)`\n",
      "  warnings.warn(\n"
     ]
    }
   ],
   "source": [
    "@task\n",
    "def call_api(url):\n",
    "    response = requests.get(url)\n",
    "    print(f\"Response: {response.status_code}\")\n",
    "    return response.json()\n",
    "\n",
    "\n",
    "@flow\n",
    "def api_flow(url):\n",
    "    fact_json = call_api(url)\n",
    "    return "
   ]
  },
  {
   "cell_type": "markdown",
   "metadata": {},
   "source": [
    "As you can see, we still call these tasks as normal functions and can pass their return values to other tasks. We can then call our flow function — now called `api_flow()` — just as before and see the printed output. Prefect manages all the relevant intermediate states."
   ]
  },
  {
   "cell_type": "code",
   "execution_count": 20,
   "metadata": {},
   "outputs": [
    {
     "name": "stderr",
     "output_type": "stream",
     "text": [
      "18:03:31.224 | INFO    | prefect.engine - Created flow run 'rational-hummingbird' for flow 'api-flow'\n",
      "18:03:31.224 | INFO    | Flow run 'rational-hummingbird' - Starting 'ConcurrentTaskRunner'; submitted tasks will be run concurrently...\n",
      "18:03:31.362 | INFO    | Flow run 'rational-hummingbird' - Created task run 'call_api-ded10bed-0' for task 'call_api'\n",
      "18:03:31.362 | INFO    | Flow run 'rational-hummingbird' - Executing 'call_api-ded10bed-0' immediately...\n",
      "18:03:32.728 | INFO    | Task run 'call_api-ded10bed-0' - Finished in state Completed()\n",
      "18:03:32.752 | INFO    | Flow run 'rational-hummingbird' - Finished in state Completed('All states completed.')\n"
     ]
    },
    {
     "name": "stdout",
     "output_type": "stream",
     "text": [
      "Response: 200\n"
     ]
    }
   ],
   "source": [
    "state = api_flow(\"https://catfact.ninja/fact\")"
   ]
  },
  {
   "cell_type": "markdown",
   "metadata": {},
   "source": [
    "And of course we can create tasks that take input from and pass input to other tasks.\n",
    "\n"
   ]
  },
  {
   "cell_type": "code",
   "execution_count": 21,
   "metadata": {},
   "outputs": [],
   "source": [
    "@task(name=\"t-example3-1\")\n",
    "def call_api(url):\n",
    "    response = requests.get(url)\n",
    "    print(response.status_code)\n",
    "    return response.json()\n",
    "\n",
    "@task(name=\"t-example3-2\")\n",
    "def parse_fact(response):\n",
    "    print(response[\"fact\"])\n",
    "    return \n",
    "\n",
    "@flow(name=\"f-example3\")\n",
    "def api_flow(url):\n",
    "    fact_json = call_api(url)\n",
    "    parse_fact(fact_json)\n",
    "    return"
   ]
  },
  {
   "cell_type": "code",
   "execution_count": 25,
   "metadata": {},
   "outputs": [
    {
     "name": "stderr",
     "output_type": "stream",
     "text": [
      "18:04:35.667 | INFO    | prefect.engine - Created flow run 'loose-mongrel' for flow 'f-example3'\n",
      "18:04:35.668 | INFO    | Flow run 'loose-mongrel' - Starting 'ConcurrentTaskRunner'; submitted tasks will be run concurrently...\n",
      "18:04:35.752 | INFO    | Flow run 'loose-mongrel' - Created task run 't-example3-1-ded10bed-0' for task 't-example3-1'\n",
      "18:04:35.753 | INFO    | Flow run 'loose-mongrel' - Executing 't-example3-1-ded10bed-0' immediately...\n",
      "18:04:36.479 | INFO    | Task run 't-example3-1-ded10bed-0' - Finished in state Completed()\n",
      "18:04:36.498 | INFO    | Flow run 'loose-mongrel' - Created task run 't-example3-2-6803447a-0' for task 't-example3-2'\n",
      "18:04:36.499 | INFO    | Flow run 'loose-mongrel' - Executing 't-example3-2-6803447a-0' immediately...\n",
      "18:04:36.530 | INFO    | Task run 't-example3-2-6803447a-0' - Finished in state Completed()\n",
      "18:04:36.548 | INFO    | Flow run 'loose-mongrel' - Finished in state Completed('All states completed.')\n"
     ]
    },
    {
     "name": "stdout",
     "output_type": "stream",
     "text": [
      "200\n",
      "Cats only use their meows to talk to humans, not each other. The only time they meow to communicate with other felines is when they are kittens to signal to their mother.\n"
     ]
    }
   ],
   "source": [
    "state = api_flow(\"https://catfact.ninja/fact\")"
   ]
  },
  {
   "cell_type": "code",
   "execution_count": 23,
   "metadata": {},
   "outputs": [
    {
     "name": "stdout",
     "output_type": "stream",
     "text": [
      "[Completed(message=None, type=COMPLETED, result={'fact': \"Cats must have fat in their diet because they can't produce it on their own.\", 'length': 76}), Completed(message=None, type=COMPLETED, result=None)]\n"
     ]
    }
   ],
   "source": [
    "print(state)"
   ]
  },
  {
   "cell_type": "markdown",
   "metadata": {},
   "source": [
    "Combining tasks with arbitrary Python code\n",
    "\n",
    "> Notice in the above example that all of our Python logic is encapsulated within task functions. While there are many benefits to using Prefect in this way, it is not a strict requirement. Interacting with the results of your Prefect tasks requires an understanding of Prefect futures.\n",
    "\n",
    "### Run a flow within a flow\n",
    "\n",
    "Not only can you call tasks functions within a flow, but you can also call other flow functions! Flows that run within other flows are called sub-flows and allow you to efficiently manage, track, and version common multi-task logic.\n",
    "\n",
    "Consider the following simple example:"
   ]
  },
  {
   "cell_type": "code",
   "execution_count": 26,
   "metadata": {},
   "outputs": [],
   "source": [
    "@flow\n",
    "def common_flow(config: dict):\n",
    "    print(\"I am a subgraph that shows up in lots of places!\")\n",
    "    intermediate_result = 42\n",
    "    return intermediate_result\n",
    "\n",
    "@flow\n",
    "def main_flow():\n",
    "    # do some things\n",
    "    # then call another flow function\n",
    "    data = common_flow(config={})\n",
    "    # do more things"
   ]
  },
  {
   "cell_type": "markdown",
   "metadata": {},
   "source": [
    "Whenever we run `main_flow` as above, a new run will be generated for `common_flow` as well. Not only is this run tracked as a sub-flow run of `main_flow`, but you can also inspect it independently in the UI!"
   ]
  },
  {
   "cell_type": "code",
   "execution_count": 27,
   "metadata": {},
   "outputs": [
    {
     "name": "stderr",
     "output_type": "stream",
     "text": [
      "18:04:46.628 | INFO    | prefect.engine - Created flow run 'lavender-petrel' for flow 'main-flow'\n",
      "18:04:46.629 | INFO    | Flow run 'lavender-petrel' - Starting 'ConcurrentTaskRunner'; submitted tasks will be run concurrently...\n",
      "18:04:46.759 | INFO    | Flow run 'lavender-petrel' - Created subflow run 'unselfish-sloth' for flow 'common-flow'\n",
      "18:04:46.829 | INFO    | Flow run 'unselfish-sloth' - Finished in state Completed()\n",
      "18:04:46.845 | INFO    | Flow run 'lavender-petrel' - Finished in state Completed('All states completed.')\n"
     ]
    },
    {
     "name": "stdout",
     "output_type": "stream",
     "text": [
      "I am a subgraph that shows up in lots of places!\n"
     ]
    }
   ],
   "source": [
    "flow_state = main_flow()"
   ]
  },
  {
   "cell_type": "markdown",
   "metadata": {},
   "source": []
  },
  {
   "cell_type": "markdown",
   "metadata": {},
   "source": [
    "You can confirm this for yourself by spinning up the UI using the `prefect orion start` CLI command from your terminal:\n"
   ]
  },
  {
   "cell_type": "code",
   "execution_count": 28,
   "metadata": {},
   "outputs": [
    {
     "name": "stdout",
     "output_type": "stream",
     "text": [
      "\u001b[33mUsage: \u001b[0mprefect [OPTIONS] COMMAND [ARGS]...\n",
      "\u001b[2mTry \u001b[0m\u001b[2;34m'prefect \u001b[0m\u001b[1;2;34m-\u001b[0m\u001b[1;2;34m-help\u001b[0m\u001b[2;34m'\u001b[0m\u001b[2m for help.\u001b[0m\n",
      "\u001b[31m╭─\u001b[0m\u001b[31m Error ─────────────────────────────────────────────────────────────────────\u001b[0m\u001b[31m─╮\u001b[0m\n",
      "\u001b[31m│\u001b[0m No such command 'start'.                                                     \u001b[31m│\u001b[0m\n",
      "\u001b[31m╰──────────────────────────────────────────────────────────────────────────────╯\u001b[0m\n"
     ]
    }
   ],
   "source": [
    "!prefect start"
   ]
  },
  {
   "cell_type": "markdown",
   "metadata": {},
   "source": [
    "### Asynchronous functions\n",
    "\n",
    "Even asynchronous functions work with Prefect! Here's a variation of the previous examples that makes the API request as an async operation:"
   ]
  },
  {
   "cell_type": "code",
   "execution_count": null,
   "metadata": {},
   "outputs": [],
   "source": [
    "@task\n",
    "async def call_api(url):\n",
    "    response = requests.get(url)\n",
    "    print(response.status_code)\n",
    "    return response.json()\n",
    "\n",
    "@flow\n",
    "async def async_flow(url):\n",
    "    fact_json = await call_api(url)\n",
    "    return "
   ]
  },
  {
   "cell_type": "markdown",
   "metadata": {},
   "source": [
    "If we run this in the REPL, the output looks just like previous runs."
   ]
  },
  {
   "cell_type": "code",
   "execution_count": null,
   "metadata": {},
   "outputs": [],
   "source": [
    "# Following doesn't seem to run in Jupyter\n",
    "\n",
    "# asyncio.run(async_flow(\"https://catfact.ninja/fact\"))"
   ]
  }
 ],
 "metadata": {
  "kernelspec": {
   "display_name": "Python 3.9.12 ('.venv_dev_try-prefect2': venv)",
   "language": "python",
   "name": "python3"
  },
  "language_info": {
   "codemirror_mode": {
    "name": "ipython",
    "version": 3
   },
   "file_extension": ".py",
   "mimetype": "text/x-python",
   "name": "python",
   "nbconvert_exporter": "python",
   "pygments_lexer": "ipython3",
   "version": "3.9.12"
  },
  "orig_nbformat": 4,
  "vscode": {
   "interpreter": {
    "hash": "cec7f35ddf7c6d36cc296a7d30616d866557a6d459a3e6a1ca2f264fb757ff0e"
   }
  }
 },
 "nbformat": 4,
 "nbformat_minor": 2
}
