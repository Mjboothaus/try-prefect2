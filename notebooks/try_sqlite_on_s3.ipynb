{
 "cells": [
  {
   "cell_type": "code",
   "execution_count": 1,
   "metadata": {},
   "outputs": [],
   "source": [
    "import os\n",
    "import sys\n",
    "module_path = os.path.abspath(os.path.join('..'))\n",
    "if module_path not in sys.path:\n",
    "    sys.path.append(module_path)"
   ]
  },
  {
   "cell_type": "code",
   "execution_count": 2,
   "metadata": {},
   "outputs": [],
   "source": [
    "from src.config import settings\n",
    "from pathlib import Path"
   ]
  },
  {
   "cell_type": "code",
   "execution_count": 3,
   "metadata": {},
   "outputs": [],
   "source": [
    "# See: https://github.com/michalc/sqlite-s3-query\n",
    "\n",
    "from sqlite_s3_query import sqlite_s3_query"
   ]
  },
  {
   "cell_type": "code",
   "execution_count": 4,
   "metadata": {},
   "outputs": [],
   "source": [
    "def get_scaleway_credentials(_):\n",
    "\n",
    "    # REGION_NAME = settings.REGION_NAME\n",
    "    # ENDPOINT_URL = settings.ENDPOINT_URL\n",
    "\n",
    "    SECRETS_FILE = \".secrets.toml\"\n",
    "\n",
    "    if (\n",
    "        Path(SECRETS_FILE).exists() is True\n",
    "        or Path(f'../{SECRETS_FILE}').exists() is True  # if being run from notebooks subdirectory\n",
    "    ):    # if there is a local secrets file\n",
    "        SECRET_ACCESS_KEY = settings.SCALEWAY_SECRET_ACCESS_KEY\n",
    "    else:                                      # use environment variables (deployed on Streamlit Sharing)\n",
    "        SECRET_ACCESS_KEY = os.environ[\"SCALEWAY_SECRET_ACCESS_KEY\"]\n",
    "\n",
    "\n",
    "    return (\n",
    "        settings.REGION_NAME,\n",
    "        settings.ACCESS_KEY_ID,\n",
    "        SECRET_ACCESS_KEY,\n",
    "        None\n",
    "    )"
   ]
  },
  {
   "cell_type": "code",
   "execution_count": 5,
   "metadata": {},
   "outputs": [],
   "source": [
    "# get_scaleway_credentials(_)"
   ]
  },
  {
   "cell_type": "code",
   "execution_count": 6,
   "metadata": {},
   "outputs": [],
   "source": [
    "bucket_name = \"databooth-beach-swim\"\n",
    "region_name = settings.REGION_NAME\n",
    "database_name = \"daily_beach_data_db.sqlite\"\n",
    "\n",
    "SQLITE_DB_URL = f\"https://{bucket_name}.s3.{region_name}.scw.cloud/{database_name}\""
   ]
  },
  {
   "cell_type": "code",
   "execution_count": 7,
   "metadata": {},
   "outputs": [
    {
     "data": {
      "text/plain": [
       "'https://databooth-beach-swim.s3.fr-par.scw.cloud/daily_beach_data_db.sqlite'"
      ]
     },
     "execution_count": 7,
     "metadata": {},
     "output_type": "execute_result"
    }
   ],
   "source": [
    "SQLITE_DB_URL"
   ]
  },
  {
   "cell_type": "code",
   "execution_count": 8,
   "metadata": {},
   "outputs": [],
   "source": [
    "eg_query = 'SELECT \"Beach name\" FROM beaches WHERE Region = \"SydneyOceanBeaches\"'\n",
    "\n",
    "eg_query = eg_query.replace(\"SydneyOceanBeaches\", \"?, params=('SydneyOceanBeaches', ))\")\n"
   ]
  },
  {
   "cell_type": "code",
   "execution_count": 9,
   "metadata": {},
   "outputs": [
    {
     "data": {
      "text/plain": [
       "'SELECT \"Beach name\" FROM beaches WHERE Region = \"?, params=(\\'SydneyOceanBeaches\\', ))\"'"
      ]
     },
     "execution_count": 9,
     "metadata": {},
     "output_type": "execute_result"
    }
   ],
   "source": [
    "eg_query"
   ]
  },
  {
   "cell_type": "code",
   "execution_count": 10,
   "metadata": {},
   "outputs": [],
   "source": [
    "eg_query = 'SELECT \"Beach name\" FROM beaches WHERE Region = ?, params=(\"SydneyOceanBeaches\", )'"
   ]
  },
  {
   "cell_type": "code",
   "execution_count": 12,
   "metadata": {},
   "outputs": [
    {
     "data": {
      "text/plain": [
       "'SELECT \"Beach name\" FROM beaches WHERE Region = ?, params=(\"SydneyOceanBeaches\", )'"
      ]
     },
     "execution_count": 12,
     "metadata": {},
     "output_type": "execute_result"
    }
   ],
   "source": [
    "eg_query"
   ]
  },
  {
   "cell_type": "code",
   "execution_count": 11,
   "metadata": {},
   "outputs": [
    {
     "ename": "Exception",
     "evalue": "near \",\": syntax error",
     "output_type": "error",
     "traceback": [
      "\u001b[0;31m---------------------------------------------------------------------------\u001b[0m",
      "\u001b[0;31mException\u001b[0m                                 Traceback (most recent call last)",
      "\u001b[1;32m/Users/mjboothaus/code/github/mjboothaus/try-prefect2/notebooks/try_sqlite_on_s3.ipynb Cell 11\u001b[0m in \u001b[0;36m<cell line: 1>\u001b[0;34m()\u001b[0m\n\u001b[1;32m      <a href='vscode-notebook-cell:/Users/mjboothaus/code/github/mjboothaus/try-prefect2/notebooks/try_sqlite_on_s3.ipynb#X10sZmlsZQ%3D%3D?line=0'>1</a>\u001b[0m \u001b[39mwith\u001b[39;00m sqlite_s3_query(url\u001b[39m=\u001b[39mSQLITE_DB_URL, get_credentials\u001b[39m=\u001b[39mget_scaleway_credentials) \u001b[39mas\u001b[39;00m query:\n\u001b[0;32m----> <a href='vscode-notebook-cell:/Users/mjboothaus/code/github/mjboothaus/try-prefect2/notebooks/try_sqlite_on_s3.ipynb#X10sZmlsZQ%3D%3D?line=1'>2</a>\u001b[0m     \u001b[39mwith\u001b[39;00m query(eg_query) \u001b[39mas\u001b[39;00m (columns, rows):\n\u001b[1;32m      <a href='vscode-notebook-cell:/Users/mjboothaus/code/github/mjboothaus/try-prefect2/notebooks/try_sqlite_on_s3.ipynb#X10sZmlsZQ%3D%3D?line=2'>3</a>\u001b[0m         \u001b[39mfor\u001b[39;00m row \u001b[39min\u001b[39;00m rows:\n\u001b[1;32m      <a href='vscode-notebook-cell:/Users/mjboothaus/code/github/mjboothaus/try-prefect2/notebooks/try_sqlite_on_s3.ipynb#X10sZmlsZQ%3D%3D?line=3'>4</a>\u001b[0m             \u001b[39mprint\u001b[39m(row)\n",
      "File \u001b[0;32m~/.pyenv/versions/3.9.12/lib/python3.9/contextlib.py:119\u001b[0m, in \u001b[0;36m_GeneratorContextManager.__enter__\u001b[0;34m(self)\u001b[0m\n\u001b[1;32m    117\u001b[0m \u001b[39mdel\u001b[39;00m \u001b[39mself\u001b[39m\u001b[39m.\u001b[39margs, \u001b[39mself\u001b[39m\u001b[39m.\u001b[39mkwds, \u001b[39mself\u001b[39m\u001b[39m.\u001b[39mfunc\n\u001b[1;32m    118\u001b[0m \u001b[39mtry\u001b[39;00m:\n\u001b[0;32m--> 119\u001b[0m     \u001b[39mreturn\u001b[39;00m \u001b[39mnext\u001b[39;49m(\u001b[39mself\u001b[39;49m\u001b[39m.\u001b[39;49mgen)\n\u001b[1;32m    120\u001b[0m \u001b[39mexcept\u001b[39;00m \u001b[39mStopIteration\u001b[39;00m:\n\u001b[1;32m    121\u001b[0m     \u001b[39mraise\u001b[39;00m \u001b[39mRuntimeError\u001b[39;00m(\u001b[39m\"\u001b[39m\u001b[39mgenerator didn\u001b[39m\u001b[39m'\u001b[39m\u001b[39mt yield\u001b[39m\u001b[39m\"\u001b[39m) \u001b[39mfrom\u001b[39;00m \u001b[39mNone\u001b[39m\n",
      "File \u001b[0;32m~/code/github/mjboothaus/try-prefect2/.venv_dev_try-prefect2/lib/python3.9/site-packages/sqlite_s3_query.py:382\u001b[0m, in \u001b[0;36msqlite_s3_query.<locals>.query\u001b[0;34m(query_base, sql, params)\u001b[0m\n\u001b[1;32m    380\u001b[0m \u001b[39m@contextmanager\u001b[39m\n\u001b[1;32m    381\u001b[0m \u001b[39mdef\u001b[39;00m \u001b[39mquery\u001b[39m(query_base, sql, params\u001b[39m=\u001b[39m()):\n\u001b[0;32m--> 382\u001b[0m     \u001b[39mfor\u001b[39;00m columns, rows \u001b[39min\u001b[39;00m query_base(sql, params):\n\u001b[1;32m    383\u001b[0m         \u001b[39myield\u001b[39;00m columns, rows\n\u001b[1;32m    384\u001b[0m         \u001b[39mbreak\u001b[39;00m\n",
      "File \u001b[0;32m~/code/github/mjboothaus/try-prefect2/.venv_dev_try-prefect2/lib/python3.9/site-packages/sqlite_s3_query.py:349\u001b[0m, in \u001b[0;36msqlite_s3_query_multi.<locals>.query\u001b[0;34m(vfs, sql, params)\u001b[0m\n\u001b[1;32m    344\u001b[0m \u001b[39mdef\u001b[39;00m \u001b[39mquery\u001b[39m(vfs, sql, params\u001b[39m=\u001b[39m()):\n\u001b[1;32m    345\u001b[0m     \u001b[39mwith\u001b[39;00m \\\n\u001b[1;32m    346\u001b[0m             get_db(vfs) \u001b[39mas\u001b[39;00m db, \\\n\u001b[1;32m    347\u001b[0m             get_pp_stmt_getter(db) \u001b[39mas\u001b[39;00m get_pp_stmts:\n\u001b[0;32m--> 349\u001b[0m         \u001b[39mfor\u001b[39;00m get_pp_stmt, finalize_stmt \u001b[39min\u001b[39;00m get_pp_stmts(sql):\n\u001b[1;32m    350\u001b[0m             \u001b[39mtry\u001b[39;00m:\n\u001b[1;32m    351\u001b[0m                 pp_stmt \u001b[39m=\u001b[39m get_pp_stmt()\n",
      "File \u001b[0;32m~/code/github/mjboothaus/try-prefect2/.venv_dev_try-prefect2/lib/python3.9/site-packages/sqlite_s3_query.py:314\u001b[0m, in \u001b[0;36msqlite_s3_query_multi.<locals>.get_pp_stmt_getter.<locals>.get_pp_stmts\u001b[0;34m(sql)\u001b[0m\n\u001b[1;32m    312\u001b[0m \u001b[39mwhile\u001b[39;00m \u001b[39mTrue\u001b[39;00m:\n\u001b[1;32m    313\u001b[0m     pp_stmt \u001b[39m=\u001b[39m c_void_p()\n\u001b[0;32m--> 314\u001b[0m     run_with_db(db, libsqlite3\u001b[39m.\u001b[39;49msqlite3_prepare_v2, db, p_encoded, \u001b[39m-\u001b[39;49m\u001b[39m1\u001b[39;49m, byref(pp_stmt), byref(p_encoded))\n\u001b[1;32m    315\u001b[0m     \u001b[39mif\u001b[39;00m \u001b[39mnot\u001b[39;00m pp_stmt:\n\u001b[1;32m    316\u001b[0m         \u001b[39mbreak\u001b[39;00m\n",
      "File \u001b[0;32m~/code/github/mjboothaus/try-prefect2/.venv_dev_try-prefect2/lib/python3.9/site-packages/sqlite_s3_query.py:77\u001b[0m, in \u001b[0;36msqlite_s3_query_multi.<locals>.run_with_db\u001b[0;34m(db, func, *args)\u001b[0m\n\u001b[1;32m     75\u001b[0m \u001b[39mdef\u001b[39;00m \u001b[39mrun_with_db\u001b[39m(db, func, \u001b[39m*\u001b[39margs):\n\u001b[1;32m     76\u001b[0m     \u001b[39mif\u001b[39;00m func(\u001b[39m*\u001b[39margs) \u001b[39m!=\u001b[39m \u001b[39m0\u001b[39m:\n\u001b[0;32m---> 77\u001b[0m         \u001b[39mraise\u001b[39;00m \u001b[39mException\u001b[39;00m(libsqlite3\u001b[39m.\u001b[39msqlite3_errmsg(db)\u001b[39m.\u001b[39mdecode())\n",
      "\u001b[0;31mException\u001b[0m: near \",\": syntax error"
     ]
    }
   ],
   "source": [
    "\n",
    "with sqlite_s3_query(url=SQLITE_DB_URL, get_credentials=get_scaleway_credentials) as query:\n",
    "    with query(eg_query) as (columns, rows):\n",
    "        for row in rows:\n",
    "            print(row)\n",
    "\n",
    "\n",
    " # WHERE index = ?', params=('2', )) as (columns, rows):   <-- not working yet - see examples\n"
   ]
  },
  {
   "cell_type": "code",
   "execution_count": null,
   "metadata": {},
   "outputs": [],
   "source": []
  }
 ],
 "metadata": {
  "kernelspec": {
   "display_name": "Python 3.9.12 ('.venv_dev_try-prefect2': venv)",
   "language": "python",
   "name": "python3"
  },
  "language_info": {
   "codemirror_mode": {
    "name": "ipython",
    "version": 3
   },
   "file_extension": ".py",
   "mimetype": "text/x-python",
   "name": "python",
   "nbconvert_exporter": "python",
   "pygments_lexer": "ipython3",
   "version": "3.9.12"
  },
  "orig_nbformat": 4,
  "vscode": {
   "interpreter": {
    "hash": "cec7f35ddf7c6d36cc296a7d30616d866557a6d459a3e6a1ca2f264fb757ff0e"
   }
  }
 },
 "nbformat": 4,
 "nbformat_minor": 2
}
