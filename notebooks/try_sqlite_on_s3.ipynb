{
 "cells": [
  {
   "cell_type": "code",
   "execution_count": 25,
   "metadata": {},
   "outputs": [],
   "source": [
    "import os\n",
    "import sys\n",
    "module_path = os.path.abspath(os.path.join('..'))\n",
    "if module_path not in sys.path:\n",
    "    sys.path.append(module_path)"
   ]
  },
  {
   "cell_type": "code",
   "execution_count": 38,
   "metadata": {},
   "outputs": [],
   "source": [
    "from src.config import settings\n",
    "from pathlib import Path\n",
    "import pandas as pd"
   ]
  },
  {
   "cell_type": "code",
   "execution_count": 27,
   "metadata": {},
   "outputs": [],
   "source": [
    "# See: https://github.com/michalc/sqlite-s3-query\n",
    "\n",
    "from sqlite_s3_query import sqlite_s3_query"
   ]
  },
  {
   "cell_type": "code",
   "execution_count": 28,
   "metadata": {},
   "outputs": [
    {
     "name": "stdout",
     "output_type": "stream",
     "text": [
      "[]\n"
     ]
    }
   ],
   "source": [
    "print([item for item in settings if \"DOCKER\" in item])\n",
    "    "
   ]
  },
  {
   "cell_type": "code",
   "execution_count": 29,
   "metadata": {},
   "outputs": [],
   "source": [
    "def get_scaleway_credentials(_):\n",
    "\n",
    "    # REGION_NAME = settings.REGION_NAME\n",
    "    # ENDPOINT_URL = settings.ENDPOINT_URL\n",
    "\n",
    "    SECRETS_FILE = \".secrets.toml\"\n",
    "\n",
    "    if (\n",
    "        Path(SECRETS_FILE).exists() is True\n",
    "        or Path(f'../{SECRETS_FILE}').exists() is True  # if being run from notebooks subdirectory\n",
    "    ):    # if there is a local secrets file\n",
    "        SECRET_ACCESS_KEY = settings.SCALEWAY_SECRET_ACCESS_KEY\n",
    "    else:                                      # use environment variables (deployed on Streamlit Sharing)\n",
    "        SECRET_ACCESS_KEY = os.environ[\"SCALEWAY_SECRET_ACCESS_KEY\"]\n",
    "\n",
    "\n",
    "    return (\n",
    "        settings.REGION_NAME,\n",
    "        settings.ACCESS_KEY_ID,\n",
    "        SECRET_ACCESS_KEY,\n",
    "        None\n",
    "    )"
   ]
  },
  {
   "cell_type": "code",
   "execution_count": 30,
   "metadata": {},
   "outputs": [],
   "source": [
    "# get_scaleway_credentials(_)"
   ]
  },
  {
   "cell_type": "code",
   "execution_count": 31,
   "metadata": {},
   "outputs": [],
   "source": [
    "bucket_name = \"databooth-beach-swim\"\n",
    "region_name = settings.REGION_NAME\n",
    "database_name = \"daily_beach_data_db.sqlite\"\n",
    "\n",
    "SQLITE_DB_URL = f\"https://{bucket_name}.s3.{region_name}.scw.cloud/{database_name}\""
   ]
  },
  {
   "cell_type": "code",
   "execution_count": 32,
   "metadata": {},
   "outputs": [
    {
     "data": {
      "text/plain": [
       "'https://databooth-beach-swim.s3.fr-par.scw.cloud/daily_beach_data_db.sqlite'"
      ]
     },
     "execution_count": 32,
     "metadata": {},
     "output_type": "execute_result"
    }
   ],
   "source": [
    "SQLITE_DB_URL"
   ]
  },
  {
   "cell_type": "code",
   "execution_count": 39,
   "metadata": {},
   "outputs": [],
   "source": [
    "eg_query = 'SELECT \"Beach name\" FROM beaches WHERE Region = \"SydneyHarbourBeaches\"'\n",
    "\n",
    "eg_query = eg_query.replace(\"SydneyHarbourBeaches\", \"?\")\n"
   ]
  },
  {
   "cell_type": "code",
   "execution_count": 40,
   "metadata": {},
   "outputs": [
    {
     "data": {
      "text/plain": [
       "'SELECT \"Beach name\" FROM beaches WHERE Region = \"?\"'"
      ]
     },
     "execution_count": 40,
     "metadata": {},
     "output_type": "execute_result"
    }
   ],
   "source": [
    "eg_query"
   ]
  },
  {
   "cell_type": "code",
   "execution_count": 42,
   "metadata": {},
   "outputs": [],
   "source": [
    "eg_query = 'SELECT \"Beach name\" FROM beaches WHERE Region = ?'\n",
    "params=(\"SydneyHarbourBeaches\", )"
   ]
  },
  {
   "cell_type": "code",
   "execution_count": 43,
   "metadata": {},
   "outputs": [
    {
     "data": {
      "text/plain": [
       "'SELECT \"Beach name\" FROM beaches WHERE Region = ?'"
      ]
     },
     "execution_count": 43,
     "metadata": {},
     "output_type": "execute_result"
    }
   ],
   "source": [
    "eg_query"
   ]
  },
  {
   "cell_type": "code",
   "execution_count": 54,
   "metadata": {},
   "outputs": [],
   "source": [
    "def query_return_dataframe(query_str, params, db_url):\n",
    "    with sqlite_s3_query(url=SQLITE_DB_URL, get_credentials=get_scaleway_credentials) as query:\n",
    "        with query(query_str, params=params) as (columns, rows):\n",
    "            df = pd.DataFrame(data=rows, columns=columns)\n",
    "        return df"
   ]
  },
  {
   "cell_type": "code",
   "execution_count": 55,
   "metadata": {},
   "outputs": [],
   "source": [
    "df = query_return_dataframe(eg_query, params, SQLITE_DB_URL)"
   ]
  },
  {
   "cell_type": "code",
   "execution_count": 56,
   "metadata": {},
   "outputs": [
    {
     "data": {
      "text/html": [
       "<div>\n",
       "<style scoped>\n",
       "    .dataframe tbody tr th:only-of-type {\n",
       "        vertical-align: middle;\n",
       "    }\n",
       "\n",
       "    .dataframe tbody tr th {\n",
       "        vertical-align: top;\n",
       "    }\n",
       "\n",
       "    .dataframe thead th {\n",
       "        text-align: right;\n",
       "    }\n",
       "</style>\n",
       "<table border=\"1\" class=\"dataframe\">\n",
       "  <thead>\n",
       "    <tr style=\"text-align: right;\">\n",
       "      <th></th>\n",
       "      <th>Beach name</th>\n",
       "    </tr>\n",
       "  </thead>\n",
       "  <tbody>\n",
       "  </tbody>\n",
       "</table>\n",
       "</div>"
      ],
      "text/plain": [
       "Empty DataFrame\n",
       "Columns: [Beach name]\n",
       "Index: []"
      ]
     },
     "execution_count": 56,
     "metadata": {},
     "output_type": "execute_result"
    }
   ],
   "source": [
    "df"
   ]
  },
  {
   "cell_type": "code",
   "execution_count": null,
   "metadata": {},
   "outputs": [],
   "source": []
  }
 ],
 "metadata": {
  "kernelspec": {
   "display_name": "Python 3.9.12 ('.venv_dev_try-prefect2': venv)",
   "language": "python",
   "name": "python3"
  },
  "language_info": {
   "codemirror_mode": {
    "name": "ipython",
    "version": 3
   },
   "file_extension": ".py",
   "mimetype": "text/x-python",
   "name": "python",
   "nbconvert_exporter": "python",
   "pygments_lexer": "ipython3",
   "version": "3.9.12"
  },
  "orig_nbformat": 4,
  "vscode": {
   "interpreter": {
    "hash": "cec7f35ddf7c6d36cc296a7d30616d866557a6d459a3e6a1ca2f264fb757ff0e"
   }
  }
 },
 "nbformat": 4,
 "nbformat_minor": 2
}
