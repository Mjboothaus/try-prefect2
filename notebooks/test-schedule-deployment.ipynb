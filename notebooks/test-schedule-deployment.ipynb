{
 "cells": [
  {
   "cell_type": "code",
   "execution_count": 4,
   "metadata": {},
   "outputs": [],
   "source": [
    "import requests\n",
    "\n",
    "from prefect import flow\n",
    "from prefect.flow_runners import SubprocessFlowRunner\n",
    "from prefect.deployments import Deployment\n",
    "from prefect.orion.schemas.schedules import IntervalSchedule\n",
    "from datetime import timedelta"
   ]
  },
  {
   "cell_type": "code",
   "execution_count": 5,
   "metadata": {},
   "outputs": [
    {
     "name": "stderr",
     "output_type": "stream",
     "text": [
      "/Users/mjboothaus/try-prefect2/.venv/lib/python3.9/site-packages/prefect/flows.py:173: UserWarning: A flow named 'basic-func' and defined at '/var/folders/wc/zhl433ms1fx5rvtvcrkw6dgw0000gn/T/ipykernel_73764/1755290918.py:1' conflicts with another flow. Consider specifying a unique `name` parameter in the flow definition:\n",
      "\n",
      " `@flow(name='my_unique_name', ...)`\n",
      "  warnings.warn(\n"
     ]
    }
   ],
   "source": [
    "@flow\n",
    "def basic_func():\n",
    "    print(\"Something done here...\")\n",
    "    return 152"
   ]
  },
  {
   "cell_type": "code",
   "execution_count": 7,
   "metadata": {},
   "outputs": [
    {
     "ename": "ValidationError",
     "evalue": "1 validation error for Deployment\nflow\n  field required (type=value_error.missing)",
     "output_type": "error",
     "traceback": [
      "\u001b[0;31m---------------------------------------------------------------------------\u001b[0m",
      "\u001b[0;31mValidationError\u001b[0m                           Traceback (most recent call last)",
      "\u001b[1;32m/Users/mjboothaus/try-prefect2/notebooks/test-schedule-deployment.ipynb Cell 3\u001b[0m in \u001b[0;36m<cell line: 1>\u001b[0;34m()\u001b[0m\n\u001b[0;32m----> <a href='vscode-notebook-cell:/Users/mjboothaus/try-prefect2/notebooks/test-schedule-deployment.ipynb#ch0000002?line=0'>1</a>\u001b[0m Deployment(\n\u001b[1;32m      <a href='vscode-notebook-cell:/Users/mjboothaus/try-prefect2/notebooks/test-schedule-deployment.ipynb#ch0000002?line=1'>2</a>\u001b[0m     flow_location\u001b[39m=\u001b[39;49m\u001b[39m\"\u001b[39;49m\u001b[39mbasic.py\u001b[39;49m\u001b[39m\"\u001b[39;49m,\n\u001b[1;32m      <a href='vscode-notebook-cell:/Users/mjboothaus/try-prefect2/notebooks/test-schedule-deployment.ipynb#ch0000002?line=2'>3</a>\u001b[0m     flow_name\u001b[39m=\u001b[39;49m\u001b[39m\"\u001b[39;49m\u001b[39mbasic-func\u001b[39;49m\u001b[39m\"\u001b[39;49m,\n\u001b[1;32m      <a href='vscode-notebook-cell:/Users/mjboothaus/try-prefect2/notebooks/test-schedule-deployment.ipynb#ch0000002?line=3'>4</a>\u001b[0m     name\u001b[39m=\u001b[39;49m\u001b[39m\"\u001b[39;49m\u001b[39mbasic-func-deployment\u001b[39;49m\u001b[39m\"\u001b[39;49m,\n\u001b[1;32m      <a href='vscode-notebook-cell:/Users/mjboothaus/try-prefect2/notebooks/test-schedule-deployment.ipynb#ch0000002?line=4'>5</a>\u001b[0m     flow_runner\u001b[39m=\u001b[39;49mSubprocessFlowRunner(),\n\u001b[1;32m      <a href='vscode-notebook-cell:/Users/mjboothaus/try-prefect2/notebooks/test-schedule-deployment.ipynb#ch0000002?line=5'>6</a>\u001b[0m     schedule\u001b[39m=\u001b[39;49mIntervalSchedule(interval\u001b[39m=\u001b[39;49mtimedelta(seconds\u001b[39m=\u001b[39;49m\u001b[39m30\u001b[39;49m)),\n\u001b[1;32m      <a href='vscode-notebook-cell:/Users/mjboothaus/try-prefect2/notebooks/test-schedule-deployment.ipynb#ch0000002?line=6'>7</a>\u001b[0m )\n",
      "File \u001b[0;32m~/try-prefect2/.venv/lib/python3.9/site-packages/prefect/context.py:158\u001b[0m, in \u001b[0;36mPrefectObjectRegistry.register_instances.<locals>.__register_init__\u001b[0;34m(__self__, *args, **kwargs)\u001b[0m\n\u001b[1;32m    156\u001b[0m registry \u001b[39m=\u001b[39m \u001b[39mcls\u001b[39m\u001b[39m.\u001b[39mget()\n\u001b[1;32m    157\u001b[0m \u001b[39mtry\u001b[39;00m:\n\u001b[0;32m--> 158\u001b[0m     \u001b[39m__init__\u001b[39;49m(\u001b[39m__self__\u001b[39;49m, \u001b[39m*\u001b[39;49margs, \u001b[39m*\u001b[39;49m\u001b[39m*\u001b[39;49mkwargs)\n\u001b[1;32m    159\u001b[0m \u001b[39mexcept\u001b[39;00m \u001b[39mException\u001b[39;00m \u001b[39mas\u001b[39;00m exc:\n\u001b[1;32m    160\u001b[0m     \u001b[39mif\u001b[39;00m \u001b[39mnot\u001b[39;00m registry \u001b[39mor\u001b[39;00m \u001b[39mnot\u001b[39;00m registry\u001b[39m.\u001b[39mcapture_failures:\n",
      "File \u001b[0;32m~/try-prefect2/.venv/lib/python3.9/site-packages/prefect/deployments.py:111\u001b[0m, in \u001b[0;36mDeployment.__init__\u001b[0;34m(__pydantic_self__, **data)\u001b[0m\n\u001b[1;32m    110\u001b[0m \u001b[39mdef\u001b[39;00m \u001b[39m__init__\u001b[39m(__pydantic_self__, \u001b[39m*\u001b[39m\u001b[39m*\u001b[39mdata: Any) \u001b[39m-\u001b[39m\u001b[39m>\u001b[39m \u001b[39mNone\u001b[39;00m:\n\u001b[0;32m--> 111\u001b[0m     \u001b[39msuper\u001b[39;49m()\u001b[39m.\u001b[39;49m\u001b[39m__init__\u001b[39;49m(\u001b[39m*\u001b[39;49m\u001b[39m*\u001b[39;49mdata)\n",
      "File \u001b[0;32m~/try-prefect2/.venv/lib/python3.9/site-packages/pydantic/main.py:341\u001b[0m, in \u001b[0;36mpydantic.main.BaseModel.__init__\u001b[0;34m()\u001b[0m\n",
      "\u001b[0;31mValidationError\u001b[0m: 1 validation error for Deployment\nflow\n  field required (type=value_error.missing)"
     ]
    }
   ],
   "source": [
    "Deployment(\n",
    "    flow_location=\"basic.py\",\n",
    "    flow_name=\"basic-func\",\n",
    "    name=\"basic-func-deployment\",\n",
    "    flow_runner=SubprocessFlowRunner(),\n",
    "    schedule=IntervalSchedule(interval=timedelta(seconds=30),\n",
    "    type=),\n",
    ")"
   ]
  },
  {
   "cell_type": "code",
   "execution_count": null,
   "metadata": {},
   "outputs": [],
   "source": []
  }
 ],
 "metadata": {
  "kernelspec": {
   "display_name": "Python 3.9.12 ('.venv': venv)",
   "language": "python",
   "name": "python3"
  },
  "language_info": {
   "codemirror_mode": {
    "name": "ipython",
    "version": 3
   },
   "file_extension": ".py",
   "mimetype": "text/x-python",
   "name": "python",
   "nbconvert_exporter": "python",
   "pygments_lexer": "ipython3",
   "version": "3.9.12"
  },
  "orig_nbformat": 4,
  "vscode": {
   "interpreter": {
    "hash": "7808f69e682bf67f40fbd9aae8e7cfcbfad3af8f25f2aae6cd4a451b53bb97f6"
   }
  }
 },
 "nbformat": 4,
 "nbformat_minor": 2
}
