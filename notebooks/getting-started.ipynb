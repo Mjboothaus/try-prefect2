{
 "cells": [
  {
   "cell_type": "markdown",
   "metadata": {},
   "source": [
    "## Getting Started\n",
    "\n",
    "If you've ever written code before, the problems caused by the code below will not be new to you, but it is worth making explicit.\n",
    "The code mimics a simple data pipeline, which makes a call to an API service, augments the data, and then writes the results to our database.\n",
    "\n",
    "The major difference is that the API call that we are making will fail half of the time. This is hopefully much more frequently than your API calls will fail in production, but it is useful for demonstration purposes."
   ]
  },
  {
   "cell_type": "code",
   "execution_count": 1,
   "metadata": {},
   "outputs": [],
   "source": [
    "import random\n",
    "from prefect import flow, task"
   ]
  },
  {
   "cell_type": "code",
   "execution_count": 2,
   "metadata": {},
   "outputs": [],
   "source": [
    "\n",
    "def call_unreliable_api():  # sourcery skip: raise-specific-error\n",
    "    choices = [{\"data\": 42}, \"failure\"]\n",
    "    res = random.choice(choices)\n",
    "    if res == \"failure\":\n",
    "        raise Exception(\"Our unreliable service failed\")\n",
    "    else:\n",
    "        return res\n",
    "\n",
    "\n",
    "def augment_data(data: dict, msg: str):\n",
    "    data[\"message\"] = msg\n",
    "    return data\n",
    "\n",
    "\n",
    "def write_results_to_database(data: dict):\n",
    "    print(f\"Wrote {data} to database successfully!\")\n",
    "    return \"Success!\"\n",
    "\n",
    "\n",
    "def pipeline(msg: str):\n",
    "    api_result = call_unreliable_api()\n",
    "    augmented_data = augment_data(data=api_result, msg=msg)\n",
    "    write_results_to_database(augmented_data)"
   ]
  },
  {
   "cell_type": "code",
   "execution_count": 3,
   "metadata": {},
   "outputs": [
    {
     "ename": "Exception",
     "evalue": "Our unreliable service failed",
     "output_type": "error",
     "traceback": [
      "\u001b[0;31m---------------------------------------------------------------------------\u001b[0m",
      "\u001b[0;31mException\u001b[0m                                 Traceback (most recent call last)",
      "\u001b[1;32m/Users/mjboothaus/code/github/mjboothaus/try-prefect2/notebooks/getting-started.ipynb Cell 4\u001b[0m in \u001b[0;36m<cell line: 1>\u001b[0;34m()\u001b[0m\n\u001b[1;32m      <a href='vscode-notebook-cell:/Users/mjboothaus/code/github/mjboothaus/try-prefect2/notebooks/getting-started.ipynb#W3sZmlsZQ%3D%3D?line=0'>1</a>\u001b[0m \u001b[39mfor\u001b[39;00m _ \u001b[39min\u001b[39;00m \u001b[39mrange\u001b[39m(\u001b[39m10\u001b[39m):\n\u001b[0;32m----> <a href='vscode-notebook-cell:/Users/mjboothaus/code/github/mjboothaus/try-prefect2/notebooks/getting-started.ipynb#W3sZmlsZQ%3D%3D?line=1'>2</a>\u001b[0m     pipeline(msg\u001b[39m=\u001b[39;49m\u001b[39m\"\u001b[39;49m\u001b[39mSuper Special Message\u001b[39;49m\u001b[39m\"\u001b[39;49m)\n",
      "\u001b[1;32m/Users/mjboothaus/code/github/mjboothaus/try-prefect2/notebooks/getting-started.ipynb Cell 4\u001b[0m in \u001b[0;36mpipeline\u001b[0;34m(msg)\u001b[0m\n\u001b[1;32m     <a href='vscode-notebook-cell:/Users/mjboothaus/code/github/mjboothaus/try-prefect2/notebooks/getting-started.ipynb#W3sZmlsZQ%3D%3D?line=19'>20</a>\u001b[0m \u001b[39mdef\u001b[39;00m \u001b[39mpipeline\u001b[39m(msg: \u001b[39mstr\u001b[39m):\n\u001b[0;32m---> <a href='vscode-notebook-cell:/Users/mjboothaus/code/github/mjboothaus/try-prefect2/notebooks/getting-started.ipynb#W3sZmlsZQ%3D%3D?line=20'>21</a>\u001b[0m     api_result \u001b[39m=\u001b[39m call_unreliable_api()\n\u001b[1;32m     <a href='vscode-notebook-cell:/Users/mjboothaus/code/github/mjboothaus/try-prefect2/notebooks/getting-started.ipynb#W3sZmlsZQ%3D%3D?line=21'>22</a>\u001b[0m     augmented_data \u001b[39m=\u001b[39m augment_data(data\u001b[39m=\u001b[39mapi_result, msg\u001b[39m=\u001b[39mmsg)\n\u001b[1;32m     <a href='vscode-notebook-cell:/Users/mjboothaus/code/github/mjboothaus/try-prefect2/notebooks/getting-started.ipynb#W3sZmlsZQ%3D%3D?line=22'>23</a>\u001b[0m     write_results_to_database(augmented_data)\n",
      "\u001b[1;32m/Users/mjboothaus/code/github/mjboothaus/try-prefect2/notebooks/getting-started.ipynb Cell 4\u001b[0m in \u001b[0;36mcall_unreliable_api\u001b[0;34m()\u001b[0m\n\u001b[1;32m      <a href='vscode-notebook-cell:/Users/mjboothaus/code/github/mjboothaus/try-prefect2/notebooks/getting-started.ipynb#W3sZmlsZQ%3D%3D?line=2'>3</a>\u001b[0m res \u001b[39m=\u001b[39m random\u001b[39m.\u001b[39mchoice(choices)\n\u001b[1;32m      <a href='vscode-notebook-cell:/Users/mjboothaus/code/github/mjboothaus/try-prefect2/notebooks/getting-started.ipynb#W3sZmlsZQ%3D%3D?line=3'>4</a>\u001b[0m \u001b[39mif\u001b[39;00m res \u001b[39m==\u001b[39m \u001b[39m\"\u001b[39m\u001b[39mfailure\u001b[39m\u001b[39m\"\u001b[39m:\n\u001b[0;32m----> <a href='vscode-notebook-cell:/Users/mjboothaus/code/github/mjboothaus/try-prefect2/notebooks/getting-started.ipynb#W3sZmlsZQ%3D%3D?line=4'>5</a>\u001b[0m     \u001b[39mraise\u001b[39;00m \u001b[39mException\u001b[39;00m(\u001b[39m\"\u001b[39m\u001b[39mOur unreliable service failed\u001b[39m\u001b[39m\"\u001b[39m)\n\u001b[1;32m      <a href='vscode-notebook-cell:/Users/mjboothaus/code/github/mjboothaus/try-prefect2/notebooks/getting-started.ipynb#W3sZmlsZQ%3D%3D?line=5'>6</a>\u001b[0m \u001b[39melse\u001b[39;00m:\n\u001b[1;32m      <a href='vscode-notebook-cell:/Users/mjboothaus/code/github/mjboothaus/try-prefect2/notebooks/getting-started.ipynb#W3sZmlsZQ%3D%3D?line=6'>7</a>\u001b[0m     \u001b[39mreturn\u001b[39;00m res\n",
      "\u001b[0;31mException\u001b[0m: Our unreliable service failed"
     ]
    }
   ],
   "source": [
    "for _ in range(10):\n",
    "    pipeline(msg=\"Super Special Message\")"
   ]
  },
  {
   "cell_type": "markdown",
   "metadata": {},
   "source": [
    "### Negative Engineering\n",
    "\n",
    "This is obviously a trivial example, and as engineers, we know to expect these things and deal with them. But, dealing with ways code fails is NOT what we set out to do. We set out to write a data pipeline.\n",
    "\n",
    "The process of writing code that deals with failures, instead of writing code that performs the actions that we want to be done, is something that we at Prefect refer to as *Negative Engineering*.\n",
    "\n",
    "Negative Engineering happens when engineers write defensive code to make sure the positive code actually runs. It must anticipate the almost limitless number of ways that code can fail, and is a massive time sink.\n",
    "\n",
    "Prefect aims to eliminate as much negative engineering as possible for you.\n"
   ]
  },
  {
   "cell_type": "markdown",
   "metadata": {},
   "source": [
    "### Using a Prefect Flow\n",
    "\n",
    "It's easier to show than it is to tell, so let's run this next block and then we'll explain what is happening.\n",
    "\n",
    "#### Creating a flow\n",
    "\n",
    "To create a flow, we simply import flow from prefect and then add it as a decorator to our pipeline function. You can see the modifications that we’ve made to our flow below. Any lines that have modifications will be tagged with the comment # NEW **** ."
   ]
  },
  {
   "cell_type": "markdown",
   "metadata": {},
   "source": []
  },
  {
   "cell_type": "code",
   "execution_count": 4,
   "metadata": {},
   "outputs": [],
   "source": [
    "def call_unreliable_api():  # sourcery skip: raise-specific-error\n",
    "    choices = [{\"data\": 42}, \"failure\"]\n",
    "    res = random.choice(choices)\n",
    "    if res == \"failure\":\n",
    "        raise Exception(\"Our unreliable service failed\")\n",
    "    else:\n",
    "        return res\n",
    "\n",
    "\n",
    "def augment_data(data: dict, msg: str):\n",
    "    data[\"message\"] = msg\n",
    "    return data\n",
    "\n",
    "\n",
    "def write_results_to_database(data: dict):\n",
    "    print(f\"Wrote {data} to database successfully!\")\n",
    "    return \"Success!\"\n",
    "\n",
    "@flow   # NEW ****\n",
    "def pipeline(msg: str):\n",
    "    api_result = call_unreliable_api()\n",
    "    augmented_data = augment_data(data=api_result, msg=msg)\n",
    "    write_results_to_database(augmented_data)"
   ]
  },
  {
   "cell_type": "code",
   "execution_count": 5,
   "metadata": {},
   "outputs": [
    {
     "name": "stderr",
     "output_type": "stream",
     "text": [
      "12:52:06.320 | INFO    | prefect.engine - Created flow run 'poised-agouti' for flow 'pipeline'\n",
      "12:52:06.396 | INFO    | Flow run 'poised-agouti' - Finished in state Completed()\n"
     ]
    },
    {
     "name": "stdout",
     "output_type": "stream",
     "text": [
      "Wrote {'data': 42, 'message': 'Trying a flow!'} to database successfully!\n"
     ]
    }
   ],
   "source": [
    "pipeline(\"Trying a flow!\")"
   ]
  },
  {
   "cell_type": "code",
   "execution_count": 6,
   "metadata": {},
   "outputs": [
    {
     "name": "stdout",
     "output_type": "stream",
     "text": [
      "auth.toml    config.toml  orion.db     orion.db-wal \u001b[34mstorage\u001b[m\u001b[m\n",
      "backend.toml \u001b[34mflows\u001b[m\u001b[m        orion.db-shm \u001b[34mresults\u001b[m\u001b[m\n"
     ]
    }
   ],
   "source": [
    "!ls ~/.prefect"
   ]
  },
  {
   "cell_type": "markdown",
   "metadata": {},
   "source": [
    "#### Making our flows better with tasks\n",
    "\n",
    "Flows are only the first step in orchestrating our data pipelines. The next step is adding Prefect task.\n",
    "\n",
    "A task can be thought of as a discrete unit of work. In practice, you'll often simply convert the functions that make up your flow into tasks.\n",
    "\n",
    "Like flows, tasks are created by adding a decorator. We'll demonstrate below."
   ]
  },
  {
   "cell_type": "code",
   "execution_count": 7,
   "metadata": {},
   "outputs": [
    {
     "name": "stderr",
     "output_type": "stream",
     "text": [
      "/Users/mjboothaus/code/github/mjboothaus/try-prefect2/.venv_dev_try-prefect2/lib/python3.9/site-packages/prefect/flows.py:176: UserWarning: A flow named 'pipeline' and defined at '/var/folders/wc/zhl433ms1fx5rvtvcrkw6dgw0000gn/T/ipykernel_64355/4044207864.py:20' conflicts with another flow. Consider specifying a unique `name` parameter in the flow definition:\n",
      "\n",
      " `@flow(name='my_unique_name', ...)`\n",
      "  warnings.warn(\n"
     ]
    }
   ],
   "source": [
    " @task   # NEW ****\n",
    "def call_unreliable_api():\n",
    "    choices = [{\"data\": 42}, \"failure\"]\n",
    "    res = random.choice(choices)\n",
    "    if res == \"failure\":\n",
    "        raise Exception(\"Our unreliable service failed\")\n",
    "    else:\n",
    "        return res\n",
    "\n",
    "@task   # NEW ****\n",
    "def augment_data(data: dict, msg: str):\n",
    "    data[\"message\"] = msg\n",
    "    return data\n",
    "\n",
    "@task   # NEW ****\n",
    "def write_results_to_database(data: dict):\n",
    "    print(f\"Wrote {data} to database successfully!\")\n",
    "    return \"Success!\"\n",
    "\n",
    "@flow \n",
    "def pipeline(msg: str):\n",
    "    api_result = call_unreliable_api()\n",
    "    augmented_data = augment_data(data=api_result, msg=msg)\n",
    "    write_results_to_database(augmented_data)"
   ]
  },
  {
   "cell_type": "code",
   "execution_count": 8,
   "metadata": {},
   "outputs": [
    {
     "name": "stdout",
     "output_type": "stream",
     "text": [
      "Run #0\n"
     ]
    },
    {
     "name": "stderr",
     "output_type": "stream",
     "text": [
      "12:52:31.125 | INFO    | prefect.engine - Created flow run 'cerulean-finch' for flow 'pipeline'\n",
      "12:52:31.197 | INFO    | Flow run 'cerulean-finch' - Created task run 'call_unreliable_api-466f2784-0' for task 'call_unreliable_api'\n",
      "12:52:31.198 | INFO    | Flow run 'cerulean-finch' - Executing 'call_unreliable_api-466f2784-0' immediately...\n",
      "12:52:31.224 | ERROR   | Task run 'call_unreliable_api-466f2784-0' - Encountered exception during execution:\n",
      "Traceback (most recent call last):\n",
      "  File \"/Users/mjboothaus/code/github/mjboothaus/try-prefect2/.venv_dev_try-prefect2/lib/python3.9/site-packages/prefect/engine.py\", line 1053, in orchestrate_task_run\n",
      "    result = await run_sync(task.fn, *args, **kwargs)\n",
      "  File \"/Users/mjboothaus/code/github/mjboothaus/try-prefect2/.venv_dev_try-prefect2/lib/python3.9/site-packages/prefect/utilities/asyncutils.py\", line 56, in run_sync_in_worker_thread\n",
      "    return await anyio.to_thread.run_sync(call, cancellable=True)\n",
      "  File \"/Users/mjboothaus/code/github/mjboothaus/try-prefect2/.venv_dev_try-prefect2/lib/python3.9/site-packages/anyio/to_thread.py\", line 31, in run_sync\n",
      "    return await get_asynclib().run_sync_in_worker_thread(\n",
      "  File \"/Users/mjboothaus/code/github/mjboothaus/try-prefect2/.venv_dev_try-prefect2/lib/python3.9/site-packages/anyio/_backends/_asyncio.py\", line 937, in run_sync_in_worker_thread\n",
      "    return await future\n",
      "  File \"/Users/mjboothaus/code/github/mjboothaus/try-prefect2/.venv_dev_try-prefect2/lib/python3.9/site-packages/anyio/_backends/_asyncio.py\", line 867, in run\n",
      "    result = context.run(func, *args)\n",
      "  File \"/var/folders/wc/zhl433ms1fx5rvtvcrkw6dgw0000gn/T/ipykernel_64355/4044207864.py\", line 6, in call_unreliable_api\n",
      "    raise Exception(\"Our unreliable service failed\")\n",
      "Exception: Our unreliable service failed\n",
      "12:52:31.241 | ERROR   | Task run 'call_unreliable_api-466f2784-0' - Finished in state Failed('Task run encountered an exception.')\n",
      "12:52:31.241 | ERROR   | Flow run 'cerulean-finch' - Encountered exception during execution:\n",
      "Traceback (most recent call last):\n",
      "  File \"/Users/mjboothaus/code/github/mjboothaus/try-prefect2/.venv_dev_try-prefect2/lib/python3.9/site-packages/prefect/engine.py\", line 557, in orchestrate_flow_run\n",
      "    result = await run_sync(flow_call)\n",
      "  File \"/Users/mjboothaus/code/github/mjboothaus/try-prefect2/.venv_dev_try-prefect2/lib/python3.9/site-packages/prefect/utilities/asyncutils.py\", line 56, in run_sync_in_worker_thread\n",
      "    return await anyio.to_thread.run_sync(call, cancellable=True)\n",
      "  File \"/Users/mjboothaus/code/github/mjboothaus/try-prefect2/.venv_dev_try-prefect2/lib/python3.9/site-packages/anyio/to_thread.py\", line 31, in run_sync\n",
      "    return await get_asynclib().run_sync_in_worker_thread(\n",
      "  File \"/Users/mjboothaus/code/github/mjboothaus/try-prefect2/.venv_dev_try-prefect2/lib/python3.9/site-packages/anyio/_backends/_asyncio.py\", line 937, in run_sync_in_worker_thread\n",
      "    return await future\n",
      "  File \"/Users/mjboothaus/code/github/mjboothaus/try-prefect2/.venv_dev_try-prefect2/lib/python3.9/site-packages/anyio/_backends/_asyncio.py\", line 867, in run\n",
      "    result = context.run(func, *args)\n",
      "  File \"/var/folders/wc/zhl433ms1fx5rvtvcrkw6dgw0000gn/T/ipykernel_64355/4044207864.py\", line 22, in pipeline\n",
      "    api_result = call_unreliable_api()\n",
      "  File \"/Users/mjboothaus/code/github/mjboothaus/try-prefect2/.venv_dev_try-prefect2/lib/python3.9/site-packages/prefect/tasks.py\", line 294, in __call__\n",
      "    return enter_task_run_engine(\n",
      "  File \"/Users/mjboothaus/code/github/mjboothaus/try-prefect2/.venv_dev_try-prefect2/lib/python3.9/site-packages/prefect/engine.py\", line 687, in enter_task_run_engine\n",
      "    return run_async_from_worker_thread(begin_run)\n",
      "  File \"/Users/mjboothaus/code/github/mjboothaus/try-prefect2/.venv_dev_try-prefect2/lib/python3.9/site-packages/prefect/utilities/asyncutils.py\", line 136, in run_async_from_worker_thread\n",
      "    return anyio.from_thread.run(call)\n",
      "  File \"/Users/mjboothaus/code/github/mjboothaus/try-prefect2/.venv_dev_try-prefect2/lib/python3.9/site-packages/anyio/from_thread.py\", line 49, in run\n",
      "    return asynclib.run_async_from_thread(func, *args)\n",
      "  File \"/Users/mjboothaus/code/github/mjboothaus/try-prefect2/.venv_dev_try-prefect2/lib/python3.9/site-packages/anyio/_backends/_asyncio.py\", line 970, in run_async_from_thread\n",
      "    return f.result()\n",
      "  File \"/Users/mjboothaus/.pyenv/versions/3.9.12/lib/python3.9/concurrent/futures/_base.py\", line 446, in result\n",
      "    return self.__get_result()\n",
      "  File \"/Users/mjboothaus/.pyenv/versions/3.9.12/lib/python3.9/concurrent/futures/_base.py\", line 391, in __get_result\n",
      "    raise self._exception\n",
      "  File \"/Users/mjboothaus/code/github/mjboothaus/try-prefect2/.venv_dev_try-prefect2/lib/python3.9/site-packages/prefect/engine.py\", line 806, in create_task_run_then_submit\n",
      "    return await future._result()\n",
      "  File \"/Users/mjboothaus/code/github/mjboothaus/try-prefect2/.venv_dev_try-prefect2/lib/python3.9/site-packages/prefect/futures.py\", line 220, in _result\n",
      "    return final_state.result(raise_on_failure=raise_on_failure)\n",
      "  File \"/Users/mjboothaus/code/github/mjboothaus/try-prefect2/.venv_dev_try-prefect2/lib/python3.9/site-packages/prefect/orion/schemas/states.py\", line 145, in result\n",
      "    raise data\n",
      "  File \"/Users/mjboothaus/code/github/mjboothaus/try-prefect2/.venv_dev_try-prefect2/lib/python3.9/site-packages/prefect/engine.py\", line 1053, in orchestrate_task_run\n",
      "    result = await run_sync(task.fn, *args, **kwargs)\n",
      "  File \"/Users/mjboothaus/code/github/mjboothaus/try-prefect2/.venv_dev_try-prefect2/lib/python3.9/site-packages/prefect/utilities/asyncutils.py\", line 56, in run_sync_in_worker_thread\n",
      "    return await anyio.to_thread.run_sync(call, cancellable=True)\n",
      "  File \"/Users/mjboothaus/code/github/mjboothaus/try-prefect2/.venv_dev_try-prefect2/lib/python3.9/site-packages/anyio/to_thread.py\", line 31, in run_sync\n",
      "    return await get_asynclib().run_sync_in_worker_thread(\n",
      "  File \"/Users/mjboothaus/code/github/mjboothaus/try-prefect2/.venv_dev_try-prefect2/lib/python3.9/site-packages/anyio/_backends/_asyncio.py\", line 937, in run_sync_in_worker_thread\n",
      "    return await future\n",
      "  File \"/Users/mjboothaus/code/github/mjboothaus/try-prefect2/.venv_dev_try-prefect2/lib/python3.9/site-packages/anyio/_backends/_asyncio.py\", line 867, in run\n",
      "    result = context.run(func, *args)\n",
      "  File \"/var/folders/wc/zhl433ms1fx5rvtvcrkw6dgw0000gn/T/ipykernel_64355/4044207864.py\", line 6, in call_unreliable_api\n",
      "    raise Exception(\"Our unreliable service failed\")\n",
      "Exception: Our unreliable service failed\n",
      "12:52:31.259 | ERROR   | Flow run 'cerulean-finch' - Finished in state Failed('Flow run encountered an exception.')\n"
     ]
    },
    {
     "ename": "Exception",
     "evalue": "Our unreliable service failed",
     "output_type": "error",
     "traceback": [
      "\u001b[0;31m---------------------------------------------------------------------------\u001b[0m",
      "\u001b[0;31mException\u001b[0m                                 Traceback (most recent call last)",
      "\u001b[1;32m/Users/mjboothaus/code/github/mjboothaus/try-prefect2/notebooks/getting-started.ipynb Cell 13\u001b[0m in \u001b[0;36m<cell line: 1>\u001b[0;34m()\u001b[0m\n\u001b[1;32m      <a href='vscode-notebook-cell:/Users/mjboothaus/code/github/mjboothaus/try-prefect2/notebooks/getting-started.ipynb#X15sZmlsZQ%3D%3D?line=0'>1</a>\u001b[0m \u001b[39mfor\u001b[39;00m i \u001b[39min\u001b[39;00m \u001b[39mrange\u001b[39m(\u001b[39m5\u001b[39m):\n\u001b[1;32m      <a href='vscode-notebook-cell:/Users/mjboothaus/code/github/mjboothaus/try-prefect2/notebooks/getting-started.ipynb#X15sZmlsZQ%3D%3D?line=1'>2</a>\u001b[0m     \u001b[39mprint\u001b[39m(\u001b[39mf\u001b[39m\u001b[39m\"\u001b[39m\u001b[39mRun #\u001b[39m\u001b[39m{\u001b[39;00mi\u001b[39m}\u001b[39;00m\u001b[39m\"\u001b[39m)\n\u001b[0;32m----> <a href='vscode-notebook-cell:/Users/mjboothaus/code/github/mjboothaus/try-prefect2/notebooks/getting-started.ipynb#X15sZmlsZQ%3D%3D?line=2'>3</a>\u001b[0m     pipeline(\u001b[39m\"\u001b[39;49m\u001b[39mTrying a flow with tasks!\u001b[39;49m\u001b[39m\"\u001b[39;49m)\n",
      "File \u001b[0;32m~/code/github/mjboothaus/try-prefect2/.venv_dev_try-prefect2/lib/python3.9/site-packages/prefect/flows.py:390\u001b[0m, in \u001b[0;36mFlow.__call__\u001b[0;34m(self, return_state, *args, **kwargs)\u001b[0m\n\u001b[1;32m    386\u001b[0m parameters \u001b[39m=\u001b[39m get_call_parameters(\u001b[39mself\u001b[39m\u001b[39m.\u001b[39mfn, args, kwargs)\n\u001b[1;32m    388\u001b[0m return_type \u001b[39m=\u001b[39m \u001b[39m\"\u001b[39m\u001b[39mstate\u001b[39m\u001b[39m\"\u001b[39m \u001b[39mif\u001b[39;00m return_state \u001b[39melse\u001b[39;00m \u001b[39m\"\u001b[39m\u001b[39mresult\u001b[39m\u001b[39m\"\u001b[39m\n\u001b[0;32m--> 390\u001b[0m \u001b[39mreturn\u001b[39;00m enter_flow_run_engine_from_flow_call(\n\u001b[1;32m    391\u001b[0m     \u001b[39mself\u001b[39;49m, parameters, return_type\u001b[39m=\u001b[39;49mreturn_type\n\u001b[1;32m    392\u001b[0m )\n",
      "File \u001b[0;32m~/code/github/mjboothaus/try-prefect2/.venv_dev_try-prefect2/lib/python3.9/site-packages/prefect/engine.py:149\u001b[0m, in \u001b[0;36menter_flow_run_engine_from_flow_call\u001b[0;34m(flow, parameters, return_type)\u001b[0m\n\u001b[1;32m    145\u001b[0m \u001b[39mif\u001b[39;00m in_async_main_thread():\n\u001b[1;32m    146\u001b[0m     \u001b[39m# An event loop is already running and we must create a blocking portal to\u001b[39;00m\n\u001b[1;32m    147\u001b[0m     \u001b[39m# run async code from this synchronous context\u001b[39;00m\n\u001b[1;32m    148\u001b[0m     \u001b[39mwith\u001b[39;00m start_blocking_portal() \u001b[39mas\u001b[39;00m portal:\n\u001b[0;32m--> 149\u001b[0m         \u001b[39mreturn\u001b[39;00m portal\u001b[39m.\u001b[39;49mcall(begin_run)\n\u001b[1;32m    150\u001b[0m \u001b[39melse\u001b[39;00m:\n\u001b[1;32m    151\u001b[0m     \u001b[39m# An event loop is not running so we will create one\u001b[39;00m\n\u001b[1;32m    152\u001b[0m     \u001b[39mreturn\u001b[39;00m anyio\u001b[39m.\u001b[39mrun(begin_run)\n",
      "File \u001b[0;32m~/code/github/mjboothaus/try-prefect2/.venv_dev_try-prefect2/lib/python3.9/site-packages/anyio/from_thread.py:283\u001b[0m, in \u001b[0;36mBlockingPortal.call\u001b[0;34m(self, func, *args)\u001b[0m\n\u001b[1;32m    268\u001b[0m \u001b[39mdef\u001b[39;00m \u001b[39mcall\u001b[39m(\n\u001b[1;32m    269\u001b[0m     \u001b[39mself\u001b[39m,\n\u001b[1;32m    270\u001b[0m     func: Callable[\u001b[39m.\u001b[39m\u001b[39m.\u001b[39m\u001b[39m.\u001b[39m, Union[Coroutine[Any, Any, T_Retval], T_Retval]],\n\u001b[1;32m    271\u001b[0m     \u001b[39m*\u001b[39margs: \u001b[39mobject\u001b[39m\n\u001b[1;32m    272\u001b[0m ) \u001b[39m-\u001b[39m\u001b[39m>\u001b[39m T_Retval:\n\u001b[1;32m    273\u001b[0m     \u001b[39m\"\"\"\u001b[39;00m\n\u001b[1;32m    274\u001b[0m \u001b[39m    Call the given function in the event loop thread.\u001b[39;00m\n\u001b[1;32m    275\u001b[0m \n\u001b[0;32m   (...)\u001b[0m\n\u001b[1;32m    281\u001b[0m \n\u001b[1;32m    282\u001b[0m \u001b[39m    \"\"\"\u001b[39;00m\n\u001b[0;32m--> 283\u001b[0m     \u001b[39mreturn\u001b[39;00m cast(T_Retval, \u001b[39mself\u001b[39;49m\u001b[39m.\u001b[39;49mstart_task_soon(func, \u001b[39m*\u001b[39;49margs)\u001b[39m.\u001b[39;49mresult())\n",
      "File \u001b[0;32m~/.pyenv/versions/3.9.12/lib/python3.9/concurrent/futures/_base.py:446\u001b[0m, in \u001b[0;36mFuture.result\u001b[0;34m(self, timeout)\u001b[0m\n\u001b[1;32m    444\u001b[0m     \u001b[39mraise\u001b[39;00m CancelledError()\n\u001b[1;32m    445\u001b[0m \u001b[39melif\u001b[39;00m \u001b[39mself\u001b[39m\u001b[39m.\u001b[39m_state \u001b[39m==\u001b[39m FINISHED:\n\u001b[0;32m--> 446\u001b[0m     \u001b[39mreturn\u001b[39;00m \u001b[39mself\u001b[39;49m\u001b[39m.\u001b[39;49m__get_result()\n\u001b[1;32m    447\u001b[0m \u001b[39melse\u001b[39;00m:\n\u001b[1;32m    448\u001b[0m     \u001b[39mraise\u001b[39;00m \u001b[39mTimeoutError\u001b[39;00m()\n",
      "File \u001b[0;32m~/.pyenv/versions/3.9.12/lib/python3.9/concurrent/futures/_base.py:391\u001b[0m, in \u001b[0;36mFuture.__get_result\u001b[0;34m(self)\u001b[0m\n\u001b[1;32m    389\u001b[0m \u001b[39mif\u001b[39;00m \u001b[39mself\u001b[39m\u001b[39m.\u001b[39m_exception:\n\u001b[1;32m    390\u001b[0m     \u001b[39mtry\u001b[39;00m:\n\u001b[0;32m--> 391\u001b[0m         \u001b[39mraise\u001b[39;00m \u001b[39mself\u001b[39m\u001b[39m.\u001b[39m_exception\n\u001b[1;32m    392\u001b[0m     \u001b[39mfinally\u001b[39;00m:\n\u001b[1;32m    393\u001b[0m         \u001b[39m# Break a reference cycle with the exception in self._exception\u001b[39;00m\n\u001b[1;32m    394\u001b[0m         \u001b[39mself\u001b[39m \u001b[39m=\u001b[39m \u001b[39mNone\u001b[39;00m\n",
      "File \u001b[0;32m~/code/github/mjboothaus/try-prefect2/.venv_dev_try-prefect2/lib/python3.9/site-packages/anyio/from_thread.py:219\u001b[0m, in \u001b[0;36mBlockingPortal._call_func\u001b[0;34m(self, func, args, kwargs, future)\u001b[0m\n\u001b[1;32m    216\u001b[0m             \u001b[39melse\u001b[39;00m:\n\u001b[1;32m    217\u001b[0m                 future\u001b[39m.\u001b[39madd_done_callback(callback)\n\u001b[0;32m--> 219\u001b[0m             retval \u001b[39m=\u001b[39m \u001b[39mawait\u001b[39;00m retval\n\u001b[1;32m    220\u001b[0m \u001b[39mexcept\u001b[39;00m \u001b[39mself\u001b[39m\u001b[39m.\u001b[39m_cancelled_exc_class:\n\u001b[1;32m    221\u001b[0m     future\u001b[39m.\u001b[39mcancel()\n",
      "File \u001b[0;32m~/code/github/mjboothaus/try-prefect2/.venv_dev_try-prefect2/lib/python3.9/site-packages/prefect/client.py:104\u001b[0m, in \u001b[0;36minject_client.<locals>.with_injected_client\u001b[0;34m(*args, **kwargs)\u001b[0m\n\u001b[1;32m    102\u001b[0m \u001b[39masync\u001b[39;00m \u001b[39mwith\u001b[39;00m client_context \u001b[39mas\u001b[39;00m client:\n\u001b[1;32m    103\u001b[0m     kwargs\u001b[39m.\u001b[39msetdefault(\u001b[39m\"\u001b[39m\u001b[39mclient\u001b[39m\u001b[39m\"\u001b[39m, client)\n\u001b[0;32m--> 104\u001b[0m     \u001b[39mreturn\u001b[39;00m \u001b[39mawait\u001b[39;00m fn(\u001b[39m*\u001b[39margs, \u001b[39m*\u001b[39m\u001b[39m*\u001b[39mkwargs)\n",
      "File \u001b[0;32m~/code/github/mjboothaus/try-prefect2/.venv_dev_try-prefect2/lib/python3.9/site-packages/prefect/engine.py:228\u001b[0m, in \u001b[0;36mcreate_then_begin_flow_run\u001b[0;34m(flow, parameters, return_type, client)\u001b[0m\n\u001b[1;32m    226\u001b[0m     \u001b[39mreturn\u001b[39;00m state\n\u001b[1;32m    227\u001b[0m \u001b[39melif\u001b[39;00m return_type \u001b[39m==\u001b[39m \u001b[39m\"\u001b[39m\u001b[39mresult\u001b[39m\u001b[39m\"\u001b[39m:\n\u001b[0;32m--> 228\u001b[0m     \u001b[39mreturn\u001b[39;00m state\u001b[39m.\u001b[39;49mresult()\n\u001b[1;32m    229\u001b[0m \u001b[39melse\u001b[39;00m:\n\u001b[1;32m    230\u001b[0m     \u001b[39mraise\u001b[39;00m \u001b[39mValueError\u001b[39;00m(\u001b[39mf\u001b[39m\u001b[39m\"\u001b[39m\u001b[39mInvalid return type for flow engine \u001b[39m\u001b[39m{\u001b[39;00mreturn_type\u001b[39m!r}\u001b[39;00m\u001b[39m.\u001b[39m\u001b[39m\"\u001b[39m)\n",
      "File \u001b[0;32m~/code/github/mjboothaus/try-prefect2/.venv_dev_try-prefect2/lib/python3.9/site-packages/prefect/orion/schemas/states.py:145\u001b[0m, in \u001b[0;36mState.result\u001b[0;34m(self, raise_on_failure)\u001b[0m\n\u001b[1;32m    143\u001b[0m \u001b[39mif\u001b[39;00m (\u001b[39mself\u001b[39m\u001b[39m.\u001b[39mis_failed() \u001b[39mor\u001b[39;00m \u001b[39mself\u001b[39m\u001b[39m.\u001b[39mis_crashed()) \u001b[39mand\u001b[39;00m raise_on_failure:\n\u001b[1;32m    144\u001b[0m     \u001b[39mif\u001b[39;00m \u001b[39misinstance\u001b[39m(data, \u001b[39mException\u001b[39;00m):\n\u001b[0;32m--> 145\u001b[0m         \u001b[39mraise\u001b[39;00m data\n\u001b[1;32m    146\u001b[0m     \u001b[39melif\u001b[39;00m \u001b[39misinstance\u001b[39m(data, \u001b[39mBaseException\u001b[39;00m):\n\u001b[1;32m    147\u001b[0m         warnings\u001b[39m.\u001b[39mwarn(\n\u001b[1;32m    148\u001b[0m             \u001b[39mf\u001b[39m\u001b[39m\"\u001b[39m\u001b[39mState result is a \u001b[39m\u001b[39m{\u001b[39;00m\u001b[39mtype\u001b[39m(data)\u001b[39m.\u001b[39m\u001b[39m__name__\u001b[39m\u001b[39m!r}\u001b[39;00m\u001b[39m type and is not safe \u001b[39m\u001b[39m\"\u001b[39m\n\u001b[1;32m    149\u001b[0m             \u001b[39m\"\u001b[39m\u001b[39mto re-raise, it will be returned instead.\u001b[39m\u001b[39m\"\u001b[39m\n\u001b[1;32m    150\u001b[0m         )\n",
      "File \u001b[0;32m~/code/github/mjboothaus/try-prefect2/.venv_dev_try-prefect2/lib/python3.9/site-packages/prefect/engine.py:557\u001b[0m, in \u001b[0;36morchestrate_flow_run\u001b[0;34m(flow, flow_run, parameters, interruptible, client, partial_flow_run_context)\u001b[0m\n\u001b[1;32m    551\u001b[0m             \u001b[39melse\u001b[39;00m:\n\u001b[1;32m    552\u001b[0m                 run_sync \u001b[39m=\u001b[39m (\n\u001b[1;32m    553\u001b[0m                     run_sync_in_interruptible_worker_thread\n\u001b[1;32m    554\u001b[0m                     \u001b[39mif\u001b[39;00m interruptible \u001b[39mor\u001b[39;00m timeout_scope\n\u001b[1;32m    555\u001b[0m                     \u001b[39melse\u001b[39;00m run_sync_in_worker_thread\n\u001b[1;32m    556\u001b[0m                 )\n\u001b[0;32m--> 557\u001b[0m                 result \u001b[39m=\u001b[39m \u001b[39mawait\u001b[39;00m run_sync(flow_call)\n\u001b[1;32m    559\u001b[0m         waited_for_task_runs \u001b[39m=\u001b[39m \u001b[39mawait\u001b[39;00m wait_for_task_runs_and_report_crashes(\n\u001b[1;32m    560\u001b[0m             flow_run_context\u001b[39m.\u001b[39mtask_run_futures, client\u001b[39m=\u001b[39mclient\n\u001b[1;32m    561\u001b[0m         )\n\u001b[1;32m    563\u001b[0m \u001b[39mexcept\u001b[39;00m \u001b[39mTimeoutError\u001b[39;00m \u001b[39mas\u001b[39;00m exc:\n\u001b[1;32m    564\u001b[0m     \u001b[39m# TODO: Cancel task runs if feasible\u001b[39;00m\n",
      "File \u001b[0;32m~/code/github/mjboothaus/try-prefect2/.venv_dev_try-prefect2/lib/python3.9/site-packages/prefect/utilities/asyncutils.py:56\u001b[0m, in \u001b[0;36mrun_sync_in_worker_thread\u001b[0;34m(__fn, *args, **kwargs)\u001b[0m\n\u001b[1;32m     45\u001b[0m \u001b[39m\"\"\"\u001b[39;00m\n\u001b[1;32m     46\u001b[0m \u001b[39mRuns a sync function in a new worker thread so that the main thread's event loop\u001b[39;00m\n\u001b[1;32m     47\u001b[0m \u001b[39mis not blocked\u001b[39;00m\n\u001b[0;32m   (...)\u001b[0m\n\u001b[1;32m     53\u001b[0m \u001b[39mthread may continue running — the outcome will just be ignored.\u001b[39;00m\n\u001b[1;32m     54\u001b[0m \u001b[39m\"\"\"\u001b[39;00m\n\u001b[1;32m     55\u001b[0m call \u001b[39m=\u001b[39m partial(__fn, \u001b[39m*\u001b[39margs, \u001b[39m*\u001b[39m\u001b[39m*\u001b[39mkwargs)\n\u001b[0;32m---> 56\u001b[0m \u001b[39mreturn\u001b[39;00m \u001b[39mawait\u001b[39;00m anyio\u001b[39m.\u001b[39mto_thread\u001b[39m.\u001b[39mrun_sync(call, cancellable\u001b[39m=\u001b[39m\u001b[39mTrue\u001b[39;00m)\n",
      "File \u001b[0;32m~/code/github/mjboothaus/try-prefect2/.venv_dev_try-prefect2/lib/python3.9/site-packages/anyio/to_thread.py:31\u001b[0m, in \u001b[0;36mrun_sync\u001b[0;34m(func, cancellable, limiter, *args)\u001b[0m\n\u001b[1;32m     10\u001b[0m \u001b[39masync\u001b[39;00m \u001b[39mdef\u001b[39;00m \u001b[39mrun_sync\u001b[39m(\n\u001b[1;32m     11\u001b[0m     func: Callable[\u001b[39m.\u001b[39m\u001b[39m.\u001b[39m\u001b[39m.\u001b[39m, T_Retval],\n\u001b[1;32m     12\u001b[0m     \u001b[39m*\u001b[39margs: \u001b[39mobject\u001b[39m,\n\u001b[1;32m     13\u001b[0m     cancellable: \u001b[39mbool\u001b[39m \u001b[39m=\u001b[39m \u001b[39mFalse\u001b[39;00m,\n\u001b[1;32m     14\u001b[0m     limiter: Optional[CapacityLimiter] \u001b[39m=\u001b[39m \u001b[39mNone\u001b[39;00m\n\u001b[1;32m     15\u001b[0m ) \u001b[39m-\u001b[39m\u001b[39m>\u001b[39m T_Retval:\n\u001b[1;32m     16\u001b[0m     \u001b[39m\"\"\"\u001b[39;00m\n\u001b[1;32m     17\u001b[0m \u001b[39m    Call the given function with the given arguments in a worker thread.\u001b[39;00m\n\u001b[1;32m     18\u001b[0m \n\u001b[0;32m   (...)\u001b[0m\n\u001b[1;32m     29\u001b[0m \n\u001b[1;32m     30\u001b[0m \u001b[39m    \"\"\"\u001b[39;00m\n\u001b[0;32m---> 31\u001b[0m     \u001b[39mreturn\u001b[39;00m \u001b[39mawait\u001b[39;00m get_asynclib()\u001b[39m.\u001b[39mrun_sync_in_worker_thread(\n\u001b[1;32m     32\u001b[0m         func, \u001b[39m*\u001b[39margs, cancellable\u001b[39m=\u001b[39mcancellable, limiter\u001b[39m=\u001b[39mlimiter\n\u001b[1;32m     33\u001b[0m     )\n",
      "File \u001b[0;32m~/code/github/mjboothaus/try-prefect2/.venv_dev_try-prefect2/lib/python3.9/site-packages/anyio/_backends/_asyncio.py:937\u001b[0m, in \u001b[0;36mrun_sync_in_worker_thread\u001b[0;34m(func, cancellable, limiter, *args)\u001b[0m\n\u001b[1;32m    935\u001b[0m context\u001b[39m.\u001b[39mrun(sniffio\u001b[39m.\u001b[39mcurrent_async_library_cvar\u001b[39m.\u001b[39mset, \u001b[39mNone\u001b[39;00m)\n\u001b[1;32m    936\u001b[0m worker\u001b[39m.\u001b[39mqueue\u001b[39m.\u001b[39mput_nowait((context, func, args, future))\n\u001b[0;32m--> 937\u001b[0m \u001b[39mreturn\u001b[39;00m \u001b[39mawait\u001b[39;00m future\n",
      "File \u001b[0;32m~/code/github/mjboothaus/try-prefect2/.venv_dev_try-prefect2/lib/python3.9/site-packages/anyio/_backends/_asyncio.py:867\u001b[0m, in \u001b[0;36mWorkerThread.run\u001b[0;34m(self)\u001b[0m\n\u001b[1;32m    865\u001b[0m exception: Optional[\u001b[39mBaseException\u001b[39;00m] \u001b[39m=\u001b[39m \u001b[39mNone\u001b[39;00m\n\u001b[1;32m    866\u001b[0m \u001b[39mtry\u001b[39;00m:\n\u001b[0;32m--> 867\u001b[0m     result \u001b[39m=\u001b[39m context\u001b[39m.\u001b[39;49mrun(func, \u001b[39m*\u001b[39;49margs)\n\u001b[1;32m    868\u001b[0m \u001b[39mexcept\u001b[39;00m \u001b[39mBaseException\u001b[39;00m \u001b[39mas\u001b[39;00m exc:\n\u001b[1;32m    869\u001b[0m     exception \u001b[39m=\u001b[39m exc\n",
      "\u001b[1;32m/Users/mjboothaus/code/github/mjboothaus/try-prefect2/notebooks/getting-started.ipynb Cell 13\u001b[0m in \u001b[0;36mpipeline\u001b[0;34m(msg)\u001b[0m\n\u001b[1;32m     <a href='vscode-notebook-cell:/Users/mjboothaus/code/github/mjboothaus/try-prefect2/notebooks/getting-started.ipynb#X15sZmlsZQ%3D%3D?line=19'>20</a>\u001b[0m \u001b[39m@flow\u001b[39m \n\u001b[1;32m     <a href='vscode-notebook-cell:/Users/mjboothaus/code/github/mjboothaus/try-prefect2/notebooks/getting-started.ipynb#X15sZmlsZQ%3D%3D?line=20'>21</a>\u001b[0m \u001b[39mdef\u001b[39;00m \u001b[39mpipeline\u001b[39m(msg: \u001b[39mstr\u001b[39m):\n\u001b[0;32m---> <a href='vscode-notebook-cell:/Users/mjboothaus/code/github/mjboothaus/try-prefect2/notebooks/getting-started.ipynb#X15sZmlsZQ%3D%3D?line=21'>22</a>\u001b[0m    api_result \u001b[39m=\u001b[39m call_unreliable_api()\n\u001b[1;32m     <a href='vscode-notebook-cell:/Users/mjboothaus/code/github/mjboothaus/try-prefect2/notebooks/getting-started.ipynb#X15sZmlsZQ%3D%3D?line=22'>23</a>\u001b[0m    augmented_data \u001b[39m=\u001b[39m augment_data(data\u001b[39m=\u001b[39mapi_result, msg\u001b[39m=\u001b[39mmsg)\n\u001b[1;32m     <a href='vscode-notebook-cell:/Users/mjboothaus/code/github/mjboothaus/try-prefect2/notebooks/getting-started.ipynb#X15sZmlsZQ%3D%3D?line=23'>24</a>\u001b[0m    write_results_to_database(augmented_data)\n",
      "File \u001b[0;32m~/code/github/mjboothaus/try-prefect2/.venv_dev_try-prefect2/lib/python3.9/site-packages/prefect/tasks.py:294\u001b[0m, in \u001b[0;36mTask.__call__\u001b[0;34m(self, return_state, wait_for, *args, **kwargs)\u001b[0m\n\u001b[1;32m    290\u001b[0m parameters \u001b[39m=\u001b[39m get_call_parameters(\u001b[39mself\u001b[39m\u001b[39m.\u001b[39mfn, args, kwargs)\n\u001b[1;32m    292\u001b[0m return_type \u001b[39m=\u001b[39m \u001b[39m\"\u001b[39m\u001b[39mstate\u001b[39m\u001b[39m\"\u001b[39m \u001b[39mif\u001b[39;00m return_state \u001b[39melse\u001b[39;00m \u001b[39m\"\u001b[39m\u001b[39mresult\u001b[39m\u001b[39m\"\u001b[39m\n\u001b[0;32m--> 294\u001b[0m \u001b[39mreturn\u001b[39;00m enter_task_run_engine(\n\u001b[1;32m    295\u001b[0m     \u001b[39mself\u001b[39;49m,\n\u001b[1;32m    296\u001b[0m     parameters\u001b[39m=\u001b[39;49mparameters,\n\u001b[1;32m    297\u001b[0m     wait_for\u001b[39m=\u001b[39;49mwait_for,\n\u001b[1;32m    298\u001b[0m     task_runner\u001b[39m=\u001b[39;49mSequentialTaskRunner(),\n\u001b[1;32m    299\u001b[0m     return_type\u001b[39m=\u001b[39;49mreturn_type,\n\u001b[1;32m    300\u001b[0m     mapped\u001b[39m=\u001b[39;49m\u001b[39mFalse\u001b[39;49;00m,\n\u001b[1;32m    301\u001b[0m )\n",
      "File \u001b[0;32m~/code/github/mjboothaus/try-prefect2/.venv_dev_try-prefect2/lib/python3.9/site-packages/prefect/engine.py:687\u001b[0m, in \u001b[0;36menter_task_run_engine\u001b[0;34m(task, parameters, wait_for, return_type, task_runner, mapped)\u001b[0m\n\u001b[1;32m    685\u001b[0m \u001b[39m# Async or sync task run in sync flow run\u001b[39;00m\n\u001b[1;32m    686\u001b[0m \u001b[39melif\u001b[39;00m \u001b[39mnot\u001b[39;00m flow_run_context\u001b[39m.\u001b[39mflow\u001b[39m.\u001b[39misasync:\n\u001b[0;32m--> 687\u001b[0m     \u001b[39mreturn\u001b[39;00m run_async_from_worker_thread(begin_run)\n\u001b[1;32m    689\u001b[0m \u001b[39m# Sync task run in async flow run\u001b[39;00m\n\u001b[1;32m    690\u001b[0m \u001b[39melse\u001b[39;00m:\n\u001b[1;32m    691\u001b[0m     \u001b[39m# Call out to the sync portal since we are not in a worker thread\u001b[39;00m\n\u001b[1;32m    692\u001b[0m     \u001b[39mreturn\u001b[39;00m flow_run_context\u001b[39m.\u001b[39msync_portal\u001b[39m.\u001b[39mcall(begin_run)\n",
      "File \u001b[0;32m~/code/github/mjboothaus/try-prefect2/.venv_dev_try-prefect2/lib/python3.9/site-packages/prefect/utilities/asyncutils.py:136\u001b[0m, in \u001b[0;36mrun_async_from_worker_thread\u001b[0;34m(__fn, *args, **kwargs)\u001b[0m\n\u001b[1;32m    131\u001b[0m \u001b[39m\"\"\"\u001b[39;00m\n\u001b[1;32m    132\u001b[0m \u001b[39mRuns an async function in the main thread's event loop, blocking the worker\u001b[39;00m\n\u001b[1;32m    133\u001b[0m \u001b[39mthread until completion\u001b[39;00m\n\u001b[1;32m    134\u001b[0m \u001b[39m\"\"\"\u001b[39;00m\n\u001b[1;32m    135\u001b[0m call \u001b[39m=\u001b[39m partial(__fn, \u001b[39m*\u001b[39margs, \u001b[39m*\u001b[39m\u001b[39m*\u001b[39mkwargs)\n\u001b[0;32m--> 136\u001b[0m \u001b[39mreturn\u001b[39;00m anyio\u001b[39m.\u001b[39;49mfrom_thread\u001b[39m.\u001b[39;49mrun(call)\n",
      "File \u001b[0;32m~/code/github/mjboothaus/try-prefect2/.venv_dev_try-prefect2/lib/python3.9/site-packages/anyio/from_thread.py:49\u001b[0m, in \u001b[0;36mrun\u001b[0;34m(func, *args)\u001b[0m\n\u001b[1;32m     46\u001b[0m \u001b[39mexcept\u001b[39;00m \u001b[39mAttributeError\u001b[39;00m:\n\u001b[1;32m     47\u001b[0m     \u001b[39mraise\u001b[39;00m \u001b[39mRuntimeError\u001b[39;00m(\u001b[39m\"\u001b[39m\u001b[39mThis function can only be run from an AnyIO worker thread\u001b[39m\u001b[39m\"\u001b[39m)\n\u001b[0;32m---> 49\u001b[0m \u001b[39mreturn\u001b[39;00m asynclib\u001b[39m.\u001b[39;49mrun_async_from_thread(func, \u001b[39m*\u001b[39;49margs)\n",
      "File \u001b[0;32m~/code/github/mjboothaus/try-prefect2/.venv_dev_try-prefect2/lib/python3.9/site-packages/anyio/_backends/_asyncio.py:970\u001b[0m, in \u001b[0;36mrun_async_from_thread\u001b[0;34m(func, *args)\u001b[0m\n\u001b[1;32m    964\u001b[0m \u001b[39mdef\u001b[39;00m \u001b[39mrun_async_from_thread\u001b[39m(\n\u001b[1;32m    965\u001b[0m     func: Callable[\u001b[39m.\u001b[39m\u001b[39m.\u001b[39m\u001b[39m.\u001b[39m, Coroutine[Any, Any, T_Retval]], \u001b[39m*\u001b[39margs: \u001b[39mobject\u001b[39m\n\u001b[1;32m    966\u001b[0m ) \u001b[39m-\u001b[39m\u001b[39m>\u001b[39m T_Retval:\n\u001b[1;32m    967\u001b[0m     f: concurrent\u001b[39m.\u001b[39mfutures\u001b[39m.\u001b[39mFuture[T_Retval] \u001b[39m=\u001b[39m asyncio\u001b[39m.\u001b[39mrun_coroutine_threadsafe(\n\u001b[1;32m    968\u001b[0m         func(\u001b[39m*\u001b[39margs), threadlocals\u001b[39m.\u001b[39mloop\n\u001b[1;32m    969\u001b[0m     )\n\u001b[0;32m--> 970\u001b[0m     \u001b[39mreturn\u001b[39;00m f\u001b[39m.\u001b[39;49mresult()\n",
      "File \u001b[0;32m~/.pyenv/versions/3.9.12/lib/python3.9/concurrent/futures/_base.py:446\u001b[0m, in \u001b[0;36mFuture.result\u001b[0;34m(self, timeout)\u001b[0m\n\u001b[1;32m    444\u001b[0m     \u001b[39mraise\u001b[39;00m CancelledError()\n\u001b[1;32m    445\u001b[0m \u001b[39melif\u001b[39;00m \u001b[39mself\u001b[39m\u001b[39m.\u001b[39m_state \u001b[39m==\u001b[39m FINISHED:\n\u001b[0;32m--> 446\u001b[0m     \u001b[39mreturn\u001b[39;00m \u001b[39mself\u001b[39;49m\u001b[39m.\u001b[39;49m__get_result()\n\u001b[1;32m    447\u001b[0m \u001b[39melse\u001b[39;00m:\n\u001b[1;32m    448\u001b[0m     \u001b[39mraise\u001b[39;00m \u001b[39mTimeoutError\u001b[39;00m()\n",
      "File \u001b[0;32m~/.pyenv/versions/3.9.12/lib/python3.9/concurrent/futures/_base.py:391\u001b[0m, in \u001b[0;36mFuture.__get_result\u001b[0;34m(self)\u001b[0m\n\u001b[1;32m    389\u001b[0m \u001b[39mif\u001b[39;00m \u001b[39mself\u001b[39m\u001b[39m.\u001b[39m_exception:\n\u001b[1;32m    390\u001b[0m     \u001b[39mtry\u001b[39;00m:\n\u001b[0;32m--> 391\u001b[0m         \u001b[39mraise\u001b[39;00m \u001b[39mself\u001b[39m\u001b[39m.\u001b[39m_exception\n\u001b[1;32m    392\u001b[0m     \u001b[39mfinally\u001b[39;00m:\n\u001b[1;32m    393\u001b[0m         \u001b[39m# Break a reference cycle with the exception in self._exception\u001b[39;00m\n\u001b[1;32m    394\u001b[0m         \u001b[39mself\u001b[39m \u001b[39m=\u001b[39m \u001b[39mNone\u001b[39;00m\n",
      "File \u001b[0;32m~/code/github/mjboothaus/try-prefect2/.venv_dev_try-prefect2/lib/python3.9/site-packages/prefect/engine.py:806\u001b[0m, in \u001b[0;36mcreate_task_run_then_submit\u001b[0;34m(task, flow_run_context, parameters, wait_for, return_type, task_runner)\u001b[0m\n\u001b[1;32m    804\u001b[0m     \u001b[39mreturn\u001b[39;00m \u001b[39mawait\u001b[39;00m future\u001b[39m.\u001b[39m_wait()\n\u001b[1;32m    805\u001b[0m \u001b[39melif\u001b[39;00m return_type \u001b[39m==\u001b[39m \u001b[39m\"\u001b[39m\u001b[39mresult\u001b[39m\u001b[39m\"\u001b[39m:\n\u001b[0;32m--> 806\u001b[0m     \u001b[39mreturn\u001b[39;00m \u001b[39mawait\u001b[39;00m future\u001b[39m.\u001b[39m_result()\n\u001b[1;32m    807\u001b[0m \u001b[39melse\u001b[39;00m:\n\u001b[1;32m    808\u001b[0m     \u001b[39mraise\u001b[39;00m \u001b[39mValueError\u001b[39;00m(\u001b[39mf\u001b[39m\u001b[39m\"\u001b[39m\u001b[39mInvalid return type for task engine \u001b[39m\u001b[39m{\u001b[39;00mreturn_type\u001b[39m!r}\u001b[39;00m\u001b[39m.\u001b[39m\u001b[39m\"\u001b[39m)\n",
      "File \u001b[0;32m~/code/github/mjboothaus/try-prefect2/.venv_dev_try-prefect2/lib/python3.9/site-packages/prefect/futures.py:220\u001b[0m, in \u001b[0;36mPrefectFuture._result\u001b[0;34m(self, timeout, raise_on_failure)\u001b[0m\n\u001b[1;32m    218\u001b[0m \u001b[39mif\u001b[39;00m \u001b[39mnot\u001b[39;00m final_state:\n\u001b[1;32m    219\u001b[0m     \u001b[39mraise\u001b[39;00m \u001b[39mTimeoutError\u001b[39;00m(\u001b[39m\"\u001b[39m\u001b[39mCall timed out before task finished.\u001b[39m\u001b[39m\"\u001b[39m)\n\u001b[0;32m--> 220\u001b[0m \u001b[39mreturn\u001b[39;00m final_state\u001b[39m.\u001b[39;49mresult(raise_on_failure\u001b[39m=\u001b[39;49mraise_on_failure)\n",
      "File \u001b[0;32m~/code/github/mjboothaus/try-prefect2/.venv_dev_try-prefect2/lib/python3.9/site-packages/prefect/orion/schemas/states.py:145\u001b[0m, in \u001b[0;36mState.result\u001b[0;34m(self, raise_on_failure)\u001b[0m\n\u001b[1;32m    143\u001b[0m \u001b[39mif\u001b[39;00m (\u001b[39mself\u001b[39m\u001b[39m.\u001b[39mis_failed() \u001b[39mor\u001b[39;00m \u001b[39mself\u001b[39m\u001b[39m.\u001b[39mis_crashed()) \u001b[39mand\u001b[39;00m raise_on_failure:\n\u001b[1;32m    144\u001b[0m     \u001b[39mif\u001b[39;00m \u001b[39misinstance\u001b[39m(data, \u001b[39mException\u001b[39;00m):\n\u001b[0;32m--> 145\u001b[0m         \u001b[39mraise\u001b[39;00m data\n\u001b[1;32m    146\u001b[0m     \u001b[39melif\u001b[39;00m \u001b[39misinstance\u001b[39m(data, \u001b[39mBaseException\u001b[39;00m):\n\u001b[1;32m    147\u001b[0m         warnings\u001b[39m.\u001b[39mwarn(\n\u001b[1;32m    148\u001b[0m             \u001b[39mf\u001b[39m\u001b[39m\"\u001b[39m\u001b[39mState result is a \u001b[39m\u001b[39m{\u001b[39;00m\u001b[39mtype\u001b[39m(data)\u001b[39m.\u001b[39m\u001b[39m__name__\u001b[39m\u001b[39m!r}\u001b[39;00m\u001b[39m type and is not safe \u001b[39m\u001b[39m\"\u001b[39m\n\u001b[1;32m    149\u001b[0m             \u001b[39m\"\u001b[39m\u001b[39mto re-raise, it will be returned instead.\u001b[39m\u001b[39m\"\u001b[39m\n\u001b[1;32m    150\u001b[0m         )\n",
      "File \u001b[0;32m~/code/github/mjboothaus/try-prefect2/.venv_dev_try-prefect2/lib/python3.9/site-packages/prefect/engine.py:1053\u001b[0m, in \u001b[0;36morchestrate_task_run\u001b[0;34m(task, task_run, parameters, wait_for, result_filesystem, interruptible, client)\u001b[0m\n\u001b[1;32m   1047\u001b[0m         \u001b[39melse\u001b[39;00m:\n\u001b[1;32m   1048\u001b[0m             run_sync \u001b[39m=\u001b[39m (\n\u001b[1;32m   1049\u001b[0m                 run_sync_in_interruptible_worker_thread\n\u001b[1;32m   1050\u001b[0m                 \u001b[39mif\u001b[39;00m interruptible\n\u001b[1;32m   1051\u001b[0m                 \u001b[39melse\u001b[39;00m run_sync_in_worker_thread\n\u001b[1;32m   1052\u001b[0m             )\n\u001b[0;32m-> 1053\u001b[0m             result \u001b[39m=\u001b[39m \u001b[39mawait\u001b[39;00m run_sync(task\u001b[39m.\u001b[39mfn, \u001b[39m*\u001b[39margs, \u001b[39m*\u001b[39m\u001b[39m*\u001b[39mkwargs)\n\u001b[1;32m   1055\u001b[0m \u001b[39mexcept\u001b[39;00m \u001b[39mException\u001b[39;00m \u001b[39mas\u001b[39;00m exc:\n\u001b[1;32m   1056\u001b[0m     logger\u001b[39m.\u001b[39merror(\n\u001b[1;32m   1057\u001b[0m         \u001b[39mf\u001b[39m\u001b[39m\"\u001b[39m\u001b[39mEncountered exception during execution:\u001b[39m\u001b[39m\"\u001b[39m,\n\u001b[1;32m   1058\u001b[0m         exc_info\u001b[39m=\u001b[39m\u001b[39mTrue\u001b[39;00m,\n\u001b[1;32m   1059\u001b[0m     )\n",
      "File \u001b[0;32m~/code/github/mjboothaus/try-prefect2/.venv_dev_try-prefect2/lib/python3.9/site-packages/prefect/utilities/asyncutils.py:56\u001b[0m, in \u001b[0;36mrun_sync_in_worker_thread\u001b[0;34m(__fn, *args, **kwargs)\u001b[0m\n\u001b[1;32m     45\u001b[0m \u001b[39m\"\"\"\u001b[39;00m\n\u001b[1;32m     46\u001b[0m \u001b[39mRuns a sync function in a new worker thread so that the main thread's event loop\u001b[39;00m\n\u001b[1;32m     47\u001b[0m \u001b[39mis not blocked\u001b[39;00m\n\u001b[0;32m   (...)\u001b[0m\n\u001b[1;32m     53\u001b[0m \u001b[39mthread may continue running — the outcome will just be ignored.\u001b[39;00m\n\u001b[1;32m     54\u001b[0m \u001b[39m\"\"\"\u001b[39;00m\n\u001b[1;32m     55\u001b[0m call \u001b[39m=\u001b[39m partial(__fn, \u001b[39m*\u001b[39margs, \u001b[39m*\u001b[39m\u001b[39m*\u001b[39mkwargs)\n\u001b[0;32m---> 56\u001b[0m \u001b[39mreturn\u001b[39;00m \u001b[39mawait\u001b[39;00m anyio\u001b[39m.\u001b[39mto_thread\u001b[39m.\u001b[39mrun_sync(call, cancellable\u001b[39m=\u001b[39m\u001b[39mTrue\u001b[39;00m)\n",
      "File \u001b[0;32m~/code/github/mjboothaus/try-prefect2/.venv_dev_try-prefect2/lib/python3.9/site-packages/anyio/to_thread.py:31\u001b[0m, in \u001b[0;36mrun_sync\u001b[0;34m(func, cancellable, limiter, *args)\u001b[0m\n\u001b[1;32m     10\u001b[0m \u001b[39masync\u001b[39;00m \u001b[39mdef\u001b[39;00m \u001b[39mrun_sync\u001b[39m(\n\u001b[1;32m     11\u001b[0m     func: Callable[\u001b[39m.\u001b[39m\u001b[39m.\u001b[39m\u001b[39m.\u001b[39m, T_Retval],\n\u001b[1;32m     12\u001b[0m     \u001b[39m*\u001b[39margs: \u001b[39mobject\u001b[39m,\n\u001b[1;32m     13\u001b[0m     cancellable: \u001b[39mbool\u001b[39m \u001b[39m=\u001b[39m \u001b[39mFalse\u001b[39;00m,\n\u001b[1;32m     14\u001b[0m     limiter: Optional[CapacityLimiter] \u001b[39m=\u001b[39m \u001b[39mNone\u001b[39;00m\n\u001b[1;32m     15\u001b[0m ) \u001b[39m-\u001b[39m\u001b[39m>\u001b[39m T_Retval:\n\u001b[1;32m     16\u001b[0m     \u001b[39m\"\"\"\u001b[39;00m\n\u001b[1;32m     17\u001b[0m \u001b[39m    Call the given function with the given arguments in a worker thread.\u001b[39;00m\n\u001b[1;32m     18\u001b[0m \n\u001b[0;32m   (...)\u001b[0m\n\u001b[1;32m     29\u001b[0m \n\u001b[1;32m     30\u001b[0m \u001b[39m    \"\"\"\u001b[39;00m\n\u001b[0;32m---> 31\u001b[0m     \u001b[39mreturn\u001b[39;00m \u001b[39mawait\u001b[39;00m get_asynclib()\u001b[39m.\u001b[39mrun_sync_in_worker_thread(\n\u001b[1;32m     32\u001b[0m         func, \u001b[39m*\u001b[39margs, cancellable\u001b[39m=\u001b[39mcancellable, limiter\u001b[39m=\u001b[39mlimiter\n\u001b[1;32m     33\u001b[0m     )\n",
      "File \u001b[0;32m~/code/github/mjboothaus/try-prefect2/.venv_dev_try-prefect2/lib/python3.9/site-packages/anyio/_backends/_asyncio.py:937\u001b[0m, in \u001b[0;36mrun_sync_in_worker_thread\u001b[0;34m(func, cancellable, limiter, *args)\u001b[0m\n\u001b[1;32m    935\u001b[0m context\u001b[39m.\u001b[39mrun(sniffio\u001b[39m.\u001b[39mcurrent_async_library_cvar\u001b[39m.\u001b[39mset, \u001b[39mNone\u001b[39;00m)\n\u001b[1;32m    936\u001b[0m worker\u001b[39m.\u001b[39mqueue\u001b[39m.\u001b[39mput_nowait((context, func, args, future))\n\u001b[0;32m--> 937\u001b[0m \u001b[39mreturn\u001b[39;00m \u001b[39mawait\u001b[39;00m future\n",
      "File \u001b[0;32m~/code/github/mjboothaus/try-prefect2/.venv_dev_try-prefect2/lib/python3.9/site-packages/anyio/_backends/_asyncio.py:867\u001b[0m, in \u001b[0;36mWorkerThread.run\u001b[0;34m(self)\u001b[0m\n\u001b[1;32m    865\u001b[0m exception: Optional[\u001b[39mBaseException\u001b[39;00m] \u001b[39m=\u001b[39m \u001b[39mNone\u001b[39;00m\n\u001b[1;32m    866\u001b[0m \u001b[39mtry\u001b[39;00m:\n\u001b[0;32m--> 867\u001b[0m     result \u001b[39m=\u001b[39m context\u001b[39m.\u001b[39;49mrun(func, \u001b[39m*\u001b[39;49margs)\n\u001b[1;32m    868\u001b[0m \u001b[39mexcept\u001b[39;00m \u001b[39mBaseException\u001b[39;00m \u001b[39mas\u001b[39;00m exc:\n\u001b[1;32m    869\u001b[0m     exception \u001b[39m=\u001b[39m exc\n",
      "\u001b[1;32m/Users/mjboothaus/code/github/mjboothaus/try-prefect2/notebooks/getting-started.ipynb Cell 13\u001b[0m in \u001b[0;36mcall_unreliable_api\u001b[0;34m()\u001b[0m\n\u001b[1;32m      <a href='vscode-notebook-cell:/Users/mjboothaus/code/github/mjboothaus/try-prefect2/notebooks/getting-started.ipynb#X15sZmlsZQ%3D%3D?line=3'>4</a>\u001b[0m res \u001b[39m=\u001b[39m random\u001b[39m.\u001b[39mchoice(choices)\n\u001b[1;32m      <a href='vscode-notebook-cell:/Users/mjboothaus/code/github/mjboothaus/try-prefect2/notebooks/getting-started.ipynb#X15sZmlsZQ%3D%3D?line=4'>5</a>\u001b[0m \u001b[39mif\u001b[39;00m res \u001b[39m==\u001b[39m \u001b[39m\"\u001b[39m\u001b[39mfailure\u001b[39m\u001b[39m\"\u001b[39m:\n\u001b[0;32m----> <a href='vscode-notebook-cell:/Users/mjboothaus/code/github/mjboothaus/try-prefect2/notebooks/getting-started.ipynb#X15sZmlsZQ%3D%3D?line=5'>6</a>\u001b[0m     \u001b[39mraise\u001b[39;00m \u001b[39mException\u001b[39;00m(\u001b[39m\"\u001b[39m\u001b[39mOur unreliable service failed\u001b[39m\u001b[39m\"\u001b[39m)\n\u001b[1;32m      <a href='vscode-notebook-cell:/Users/mjboothaus/code/github/mjboothaus/try-prefect2/notebooks/getting-started.ipynb#X15sZmlsZQ%3D%3D?line=6'>7</a>\u001b[0m \u001b[39melse\u001b[39;00m:\n\u001b[1;32m      <a href='vscode-notebook-cell:/Users/mjboothaus/code/github/mjboothaus/try-prefect2/notebooks/getting-started.ipynb#X15sZmlsZQ%3D%3D?line=7'>8</a>\u001b[0m     \u001b[39mreturn\u001b[39;00m res\n",
      "\u001b[0;31mException\u001b[0m: Our unreliable service failed"
     ]
    }
   ],
   "source": [
    "for i in range(5):\n",
    "    print(f\"Run #{i}\")\n",
    "    pipeline(\"Trying a flow with tasks!\")"
   ]
  },
  {
   "cell_type": "markdown",
   "metadata": {},
   "source": [
    "#### Adding retries\n",
    "\n",
    "The next feature that we will demo is the ability to retry a task. We know that tasks will inevitably fail. Sometimes this requires complex behavior, but other times we simply need to try again after a brief delay. We can do this with the `retries` and `retry_delay_seconds` parameters.\n",
    "\n",
    "This will be helpful for our unreliable API call."
   ]
  },
  {
   "cell_type": "code",
   "execution_count": 9,
   "metadata": {},
   "outputs": [
    {
     "name": "stderr",
     "output_type": "stream",
     "text": [
      "/Users/mjboothaus/code/github/mjboothaus/try-prefect2/.venv_dev_try-prefect2/lib/python3.9/site-packages/prefect/tasks.py:166: UserWarning: A task named 'augment_data' and defined at '/var/folders/wc/zhl433ms1fx5rvtvcrkw6dgw0000gn/T/ipykernel_64355/155245748.py:10' conflicts with another task. Consider specifying a unique `name` parameter in the task definition:\n",
      "\n",
      " `@task(name='my_unique_name', ...)`\n",
      "  warnings.warn(\n",
      "/Users/mjboothaus/code/github/mjboothaus/try-prefect2/.venv_dev_try-prefect2/lib/python3.9/site-packages/prefect/tasks.py:166: UserWarning: A task named 'write_results_to_database' and defined at '/var/folders/wc/zhl433ms1fx5rvtvcrkw6dgw0000gn/T/ipykernel_64355/155245748.py:15' conflicts with another task. Consider specifying a unique `name` parameter in the task definition:\n",
      "\n",
      " `@task(name='my_unique_name', ...)`\n",
      "  warnings.warn(\n",
      "/Users/mjboothaus/code/github/mjboothaus/try-prefect2/.venv_dev_try-prefect2/lib/python3.9/site-packages/prefect/flows.py:176: UserWarning: A flow named 'pipeline' and defined at '/var/folders/wc/zhl433ms1fx5rvtvcrkw6dgw0000gn/T/ipykernel_64355/155245748.py:20' conflicts with another flow. Consider specifying a unique `name` parameter in the flow definition:\n",
      "\n",
      " `@flow(name='my_unique_name', ...)`\n",
      "  warnings.warn(\n"
     ]
    }
   ],
   "source": [
    "@task(name=\"Get data from API\", retries=4, retry_delay_seconds=3)\n",
    "def call_unreliable_api():\n",
    "    choices = [{\"data\": 42}, \"failure\"]\n",
    "    res = random.choice(choices)\n",
    "    if res == \"failure\":\n",
    "        raise Exception(\"Our unreliable service failed\")\n",
    "    else:\n",
    "        return res\n",
    "\n",
    "@task   # NEW ****\n",
    "def augment_data(data: dict, msg: str):\n",
    "    data[\"message\"] = msg\n",
    "    return data\n",
    "\n",
    "@task   # NEW ****\n",
    "def write_results_to_database(data: dict):\n",
    "    print(f\"Wrote {data} to database successfully!\")\n",
    "    return \"Success!\"\n",
    "\n",
    "@flow \n",
    "def pipeline(msg: str):\n",
    "    api_result = call_unreliable_api()\n",
    "    augmented_data = augment_data(data=api_result, msg=msg)\n",
    "    write_results_to_database(augmented_data)"
   ]
  },
  {
   "cell_type": "code",
   "execution_count": 10,
   "metadata": {},
   "outputs": [
    {
     "name": "stderr",
     "output_type": "stream",
     "text": [
      "12:52:49.260 | INFO    | prefect.engine - Created flow run 'ruby-coucal' for flow 'pipeline'\n",
      "12:52:49.331 | INFO    | Flow run 'ruby-coucal' - Created task run 'Get data from API-466f2784-0' for task 'Get data from API'\n",
      "12:52:49.331 | INFO    | Flow run 'ruby-coucal' - Executing 'Get data from API-466f2784-0' immediately...\n",
      "12:52:49.345 | ERROR   | Task run 'Get data from API-466f2784-0' - Encountered exception during execution:\n",
      "Traceback (most recent call last):\n",
      "  File \"/Users/mjboothaus/code/github/mjboothaus/try-prefect2/.venv_dev_try-prefect2/lib/python3.9/site-packages/prefect/engine.py\", line 1053, in orchestrate_task_run\n",
      "    result = await run_sync(task.fn, *args, **kwargs)\n",
      "  File \"/Users/mjboothaus/code/github/mjboothaus/try-prefect2/.venv_dev_try-prefect2/lib/python3.9/site-packages/prefect/utilities/asyncutils.py\", line 56, in run_sync_in_worker_thread\n",
      "    return await anyio.to_thread.run_sync(call, cancellable=True)\n",
      "  File \"/Users/mjboothaus/code/github/mjboothaus/try-prefect2/.venv_dev_try-prefect2/lib/python3.9/site-packages/anyio/to_thread.py\", line 31, in run_sync\n",
      "    return await get_asynclib().run_sync_in_worker_thread(\n",
      "  File \"/Users/mjboothaus/code/github/mjboothaus/try-prefect2/.venv_dev_try-prefect2/lib/python3.9/site-packages/anyio/_backends/_asyncio.py\", line 937, in run_sync_in_worker_thread\n",
      "    return await future\n",
      "  File \"/Users/mjboothaus/code/github/mjboothaus/try-prefect2/.venv_dev_try-prefect2/lib/python3.9/site-packages/anyio/_backends/_asyncio.py\", line 867, in run\n",
      "    result = context.run(func, *args)\n",
      "  File \"/var/folders/wc/zhl433ms1fx5rvtvcrkw6dgw0000gn/T/ipykernel_64355/155245748.py\", line 6, in call_unreliable_api\n",
      "    raise Exception(\"Our unreliable service failed\")\n",
      "Exception: Our unreliable service failed\n",
      "12:52:49.370 | INFO    | Task run 'Get data from API-466f2784-0' - Received non-final state 'AwaitingRetry' when proposing final state 'Failed' and will attempt to run again...\n",
      "12:52:51.419 | INFO    | Task run 'Get data from API-466f2784-0' - Finished in state Completed()\n",
      "12:52:51.434 | INFO    | Flow run 'ruby-coucal' - Created task run 'augment_data-960bb844-0' for task 'augment_data'\n",
      "12:52:51.435 | INFO    | Flow run 'ruby-coucal' - Executing 'augment_data-960bb844-0' immediately...\n",
      "12:52:51.463 | INFO    | Task run 'augment_data-960bb844-0' - Finished in state Completed()\n",
      "12:52:51.477 | INFO    | Flow run 'ruby-coucal' - Created task run 'write_results_to_database-fbbf5571-0' for task 'write_results_to_database'\n",
      "12:52:51.477 | INFO    | Flow run 'ruby-coucal' - Executing 'write_results_to_database-fbbf5571-0' immediately...\n",
      "12:52:51.506 | INFO    | Task run 'write_results_to_database-fbbf5571-0' - Finished in state Completed()\n",
      "12:52:51.523 | INFO    | Flow run 'ruby-coucal' - Finished in state Completed('All states completed.')\n"
     ]
    },
    {
     "name": "stdout",
     "output_type": "stream",
     "text": [
      "Wrote {'data': 42, 'message': 'Trying a flow with tasks and retries!'} to database successfully!\n"
     ]
    },
    {
     "data": {
      "text/plain": [
       "[Completed(message=None, type=COMPLETED, result={'data': 42}),\n",
       " Completed(message=None, type=COMPLETED, result={'data': 42, 'message': 'Trying a flow with tasks and retries!'}),\n",
       " Completed(message=None, type=COMPLETED, result='Success!')]"
      ]
     },
     "execution_count": 10,
     "metadata": {},
     "output_type": "execute_result"
    }
   ],
   "source": [
    "pipeline(\"Trying a flow with tasks and retries!\")"
   ]
  }
 ],
 "metadata": {
  "kernelspec": {
   "display_name": "Python 3.9.12 ('.venv_dev_try-prefect2': venv)",
   "language": "python",
   "name": "python3"
  },
  "language_info": {
   "codemirror_mode": {
    "name": "ipython",
    "version": 3
   },
   "file_extension": ".py",
   "mimetype": "text/x-python",
   "name": "python",
   "nbconvert_exporter": "python",
   "pygments_lexer": "ipython3",
   "version": "3.9.12"
  },
  "orig_nbformat": 4,
  "vscode": {
   "interpreter": {
    "hash": "cec7f35ddf7c6d36cc296a7d30616d866557a6d459a3e6a1ca2f264fb757ff0e"
   }
  }
 },
 "nbformat": 4,
 "nbformat_minor": 2
}
