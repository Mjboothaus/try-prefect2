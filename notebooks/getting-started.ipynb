{
 "cells": [
  {
   "cell_type": "markdown",
   "metadata": {},
   "source": [
    "## Getting Started\n",
    "\n",
    "If you've ever written code before, the problems caused by the code below will not be new to you, but it is worth making explicit.\n",
    "The code mimics a simple data pipeline, which makes a call to an API service, augments the data, and then writes the results to our database.\n",
    "\n",
    "The major difference is that the API call that we are making will fail half of the time. This is hopefully much more frequently than your API calls will fail in production, but it is useful for demonstration purposes."
   ]
  },
  {
   "cell_type": "code",
   "execution_count": 10,
   "metadata": {},
   "outputs": [],
   "source": [
    "import random\n",
    "from prefect import flow, task"
   ]
  },
  {
   "cell_type": "code",
   "execution_count": 2,
   "metadata": {},
   "outputs": [],
   "source": [
    "\n",
    "def call_unreliable_api():  # sourcery skip: raise-specific-error\n",
    "    choices = [{\"data\": 42}, \"failure\"]\n",
    "    res = random.choice(choices)\n",
    "    if res == \"failure\":\n",
    "        raise Exception(\"Our unreliable service failed\")\n",
    "    else:\n",
    "        return res\n",
    "\n",
    "\n",
    "def augment_data(data: dict, msg: str):\n",
    "    data[\"message\"] = msg\n",
    "    return data\n",
    "\n",
    "\n",
    "def write_results_to_database(data: dict):\n",
    "    print(f\"Wrote {data} to database successfully!\")\n",
    "    return \"Success!\"\n",
    "\n",
    "\n",
    "def pipeline(msg: str):\n",
    "    api_result = call_unreliable_api()\n",
    "    augmented_data = augment_data(data=api_result, msg=msg)\n",
    "    write_results_to_database(augmented_data)"
   ]
  },
  {
   "cell_type": "code",
   "execution_count": 5,
   "metadata": {},
   "outputs": [
    {
     "name": "stdout",
     "output_type": "stream",
     "text": [
      "Wrote {'data': 42, 'message': 'Super Special Message'} to database successfully!\n",
      "Wrote {'data': 42, 'message': 'Super Special Message'} to database successfully!\n"
     ]
    },
    {
     "ename": "Exception",
     "evalue": "Our unreliable service failed",
     "output_type": "error",
     "traceback": [
      "\u001b[0;31m---------------------------------------------------------------------------\u001b[0m",
      "\u001b[0;31mException\u001b[0m                                 Traceback (most recent call last)",
      "\u001b[1;32m/Users/mjboothaus/try-prefect2/getting-started.ipynb Cell 4\u001b[0m in \u001b[0;36m<cell line: 1>\u001b[0;34m()\u001b[0m\n\u001b[1;32m      <a href='vscode-notebook-cell:/Users/mjboothaus/try-prefect2/getting-started.ipynb#ch0000005?line=0'>1</a>\u001b[0m \u001b[39mfor\u001b[39;00m _ \u001b[39min\u001b[39;00m \u001b[39mrange\u001b[39m(\u001b[39m10\u001b[39m):\n\u001b[0;32m----> <a href='vscode-notebook-cell:/Users/mjboothaus/try-prefect2/getting-started.ipynb#ch0000005?line=1'>2</a>\u001b[0m     pipeline(msg\u001b[39m=\u001b[39;49m\u001b[39m\"\u001b[39;49m\u001b[39mSuper Special Message\u001b[39;49m\u001b[39m\"\u001b[39;49m)\n",
      "\u001b[1;32m/Users/mjboothaus/try-prefect2/getting-started.ipynb Cell 4\u001b[0m in \u001b[0;36mpipeline\u001b[0;34m(msg)\u001b[0m\n\u001b[1;32m     <a href='vscode-notebook-cell:/Users/mjboothaus/try-prefect2/getting-started.ipynb#ch0000005?line=19'>20</a>\u001b[0m \u001b[39mdef\u001b[39;00m \u001b[39mpipeline\u001b[39m(msg: \u001b[39mstr\u001b[39m):\n\u001b[0;32m---> <a href='vscode-notebook-cell:/Users/mjboothaus/try-prefect2/getting-started.ipynb#ch0000005?line=20'>21</a>\u001b[0m     api_result \u001b[39m=\u001b[39m call_unreliable_api()\n\u001b[1;32m     <a href='vscode-notebook-cell:/Users/mjboothaus/try-prefect2/getting-started.ipynb#ch0000005?line=21'>22</a>\u001b[0m     augmented_data \u001b[39m=\u001b[39m augment_data(data\u001b[39m=\u001b[39mapi_result, msg\u001b[39m=\u001b[39mmsg)\n\u001b[1;32m     <a href='vscode-notebook-cell:/Users/mjboothaus/try-prefect2/getting-started.ipynb#ch0000005?line=22'>23</a>\u001b[0m     write_results_to_database(augmented_data)\n",
      "\u001b[1;32m/Users/mjboothaus/try-prefect2/getting-started.ipynb Cell 4\u001b[0m in \u001b[0;36mcall_unreliable_api\u001b[0;34m()\u001b[0m\n\u001b[1;32m      <a href='vscode-notebook-cell:/Users/mjboothaus/try-prefect2/getting-started.ipynb#ch0000005?line=2'>3</a>\u001b[0m res \u001b[39m=\u001b[39m random\u001b[39m.\u001b[39mchoice(choices)\n\u001b[1;32m      <a href='vscode-notebook-cell:/Users/mjboothaus/try-prefect2/getting-started.ipynb#ch0000005?line=3'>4</a>\u001b[0m \u001b[39mif\u001b[39;00m res \u001b[39m==\u001b[39m \u001b[39m\"\u001b[39m\u001b[39mfailure\u001b[39m\u001b[39m\"\u001b[39m:\n\u001b[0;32m----> <a href='vscode-notebook-cell:/Users/mjboothaus/try-prefect2/getting-started.ipynb#ch0000005?line=4'>5</a>\u001b[0m     \u001b[39mraise\u001b[39;00m \u001b[39mException\u001b[39;00m(\u001b[39m\"\u001b[39m\u001b[39mOur unreliable service failed\u001b[39m\u001b[39m\"\u001b[39m)\n\u001b[1;32m      <a href='vscode-notebook-cell:/Users/mjboothaus/try-prefect2/getting-started.ipynb#ch0000005?line=5'>6</a>\u001b[0m \u001b[39melse\u001b[39;00m:\n\u001b[1;32m      <a href='vscode-notebook-cell:/Users/mjboothaus/try-prefect2/getting-started.ipynb#ch0000005?line=6'>7</a>\u001b[0m     \u001b[39mreturn\u001b[39;00m res\n",
      "\u001b[0;31mException\u001b[0m: Our unreliable service failed"
     ]
    }
   ],
   "source": [
    "for _ in range(10):\n",
    "    pipeline(msg=\"Super Special Message\")"
   ]
  },
  {
   "cell_type": "markdown",
   "metadata": {},
   "source": [
    "### Negative Engineering\n",
    "\n",
    "This is obviously a trivial example, and as engineers, we know to expect these things and deal with them. But, dealing with ways code fails is NOT what we set out to do. We set out to write a data pipeline.\n",
    "\n",
    "The process of writing code that deals with failures, instead of writing code that performs the actions that we want to be done, is something that we at Prefect refer to as *Negative Engineering*.\n",
    "\n",
    "Negative Engineering happens when engineers write defensive code to make sure the positive code actually runs. It must anticipate the almost limitless number of ways that code can fail, and is a massive time sink.\n",
    "\n",
    "Prefect aims to eliminate as much negative engineering as possible for you.\n"
   ]
  },
  {
   "cell_type": "markdown",
   "metadata": {},
   "source": [
    "### Using a Prefect Flow\n",
    "\n",
    "It's easier to show than it is to tell, so let's run this next block and then we'll explain what is happening.\n",
    "\n",
    "#### Creating a flow\n",
    "\n",
    "To create a flow, we simply import flow from prefect and then add it as a decorator to our pipeline function. You can see the modifications that we’ve made to our flow below. Any lines that have modifications will be tagged with the comment # NEW **** ."
   ]
  },
  {
   "cell_type": "markdown",
   "metadata": {},
   "source": []
  },
  {
   "cell_type": "code",
   "execution_count": 7,
   "metadata": {},
   "outputs": [],
   "source": [
    "def call_unreliable_api():  # sourcery skip: raise-specific-error\n",
    "    choices = [{\"data\": 42}, \"failure\"]\n",
    "    res = random.choice(choices)\n",
    "    if res == \"failure\":\n",
    "        raise Exception(\"Our unreliable service failed\")\n",
    "    else:\n",
    "        return res\n",
    "\n",
    "\n",
    "def augment_data(data: dict, msg: str):\n",
    "    data[\"message\"] = msg\n",
    "    return data\n",
    "\n",
    "\n",
    "def write_results_to_database(data: dict):\n",
    "    print(f\"Wrote {data} to database successfully!\")\n",
    "    return \"Success!\"\n",
    "\n",
    "@flow   # NEW ****\n",
    "def pipeline(msg: str):\n",
    "    api_result = call_unreliable_api()\n",
    "    augmented_data = augment_data(data=api_result, msg=msg)\n",
    "    write_results_to_database(augmented_data)"
   ]
  },
  {
   "cell_type": "code",
   "execution_count": 8,
   "metadata": {},
   "outputs": [
    {
     "name": "stderr",
     "output_type": "stream",
     "text": [
      "20:48:28.060 | INFO    | prefect.engine - Created flow run 'thundering-goshawk' for flow 'pipeline'\n",
      "20:48:28.060 | INFO    | Flow run 'thundering-goshawk' - Using task runner 'ConcurrentTaskRunner'\n",
      "20:48:28.069 | WARNING | Flow run 'thundering-goshawk' - No default storage is configured on the server. Results from this flow run will be stored in a temporary directory in its runtime environment.\n",
      "20:48:28.099 | ERROR   | Flow run 'thundering-goshawk' - Encountered exception during execution:\n",
      "Traceback (most recent call last):\n",
      "  File \"/Users/mjboothaus/try-prefect2/.venv/lib/python3.9/site-packages/prefect/engine.py\", line 520, in orchestrate_flow_run\n",
      "    result = await run_sync_in_interruptible_worker_thread(\n",
      "  File \"/Users/mjboothaus/try-prefect2/.venv/lib/python3.9/site-packages/prefect/utilities/asyncio.py\", line 116, in run_sync_in_interruptible_worker_thread\n",
      "    tg.start_soon(\n",
      "  File \"/Users/mjboothaus/try-prefect2/.venv/lib/python3.9/site-packages/anyio/_backends/_asyncio.py\", line 662, in __aexit__\n",
      "    raise exceptions[0]\n",
      "  File \"/Users/mjboothaus/try-prefect2/.venv/lib/python3.9/site-packages/anyio/to_thread.py\", line 31, in run_sync\n",
      "    return await get_asynclib().run_sync_in_worker_thread(\n",
      "  File \"/Users/mjboothaus/try-prefect2/.venv/lib/python3.9/site-packages/anyio/_backends/_asyncio.py\", line 937, in run_sync_in_worker_thread\n",
      "    return await future\n",
      "  File \"/Users/mjboothaus/try-prefect2/.venv/lib/python3.9/site-packages/anyio/_backends/_asyncio.py\", line 867, in run\n",
      "    result = context.run(func, *args)\n",
      "  File \"/Users/mjboothaus/try-prefect2/.venv/lib/python3.9/site-packages/prefect/utilities/asyncio.py\", line 96, in capture_worker_thread_and_result\n",
      "    result = __fn(*args, **kwargs)\n",
      "  File \"/var/folders/wc/zhl433ms1fx5rvtvcrkw6dgw0000gn/T/ipykernel_62685/1214318539.py\", line 21, in pipeline\n",
      "    api_result = call_unreliable_api()\n",
      "  File \"/var/folders/wc/zhl433ms1fx5rvtvcrkw6dgw0000gn/T/ipykernel_62685/1214318539.py\", line 5, in call_unreliable_api\n",
      "    raise Exception(\"Our unreliable service failed\")\n",
      "Exception: Our unreliable service failed\n",
      "20:48:28.130 | ERROR   | Flow run 'thundering-goshawk' - Finished in state Failed('Flow run encountered an exception.')\n"
     ]
    },
    {
     "data": {
      "text/plain": [
       "Failed(message='Flow run encountered an exception.', type=FAILED, result=Exception('Our unreliable service failed'))"
      ]
     },
     "execution_count": 8,
     "metadata": {},
     "output_type": "execute_result"
    }
   ],
   "source": [
    "pipeline(\"Trying a flow!\")"
   ]
  },
  {
   "cell_type": "code",
   "execution_count": 9,
   "metadata": {},
   "outputs": [
    {
     "name": "stdout",
     "output_type": "stream",
     "text": [
      "auth.toml    config.toml  orion.db     orion.db-wal\n",
      "backend.toml \u001b[34mflows\u001b[m\u001b[m        orion.db-shm \u001b[34mresults\u001b[m\u001b[m\n"
     ]
    }
   ],
   "source": [
    "!ls ~/.prefect"
   ]
  },
  {
   "cell_type": "markdown",
   "metadata": {},
   "source": [
    "#### Making our flows better with tasks\n",
    "\n",
    "Flows are only the first step in orchestrating our data pipelines. The next step is adding Prefect task.\n",
    "\n",
    "A task can be thought of as a discrete unit of work. In practice, you'll often simply convert the functions that make up your flow into tasks.\n",
    "\n",
    "Like flows, tasks are created by adding a decorator. We'll demonstrate below."
   ]
  },
  {
   "cell_type": "code",
   "execution_count": 11,
   "metadata": {},
   "outputs": [
    {
     "name": "stderr",
     "output_type": "stream",
     "text": [
      "/Users/mjboothaus/try-prefect2/.venv/lib/python3.9/site-packages/prefect/flows.py:173: UserWarning: A flow named 'pipeline' and defined at '/var/folders/wc/zhl433ms1fx5rvtvcrkw6dgw0000gn/T/ipykernel_62685/4044207864.py:20' conflicts with another flow. Consider specifying a unique `name` parameter in the flow definition:\n",
      "\n",
      " `@flow(name='my_unique_name', ...)`\n",
      "  warnings.warn(\n"
     ]
    }
   ],
   "source": [
    " @task   # NEW ****\n",
    "def call_unreliable_api():\n",
    "    choices = [{\"data\": 42}, \"failure\"]\n",
    "    res = random.choice(choices)\n",
    "    if res == \"failure\":\n",
    "        raise Exception(\"Our unreliable service failed\")\n",
    "    else:\n",
    "        return res\n",
    "\n",
    "@task   # NEW ****\n",
    "def augment_data(data: dict, msg: str):\n",
    "    data[\"message\"] = msg\n",
    "    return data\n",
    "\n",
    "@task   # NEW ****\n",
    "def write_results_to_database(data: dict):\n",
    "    print(f\"Wrote {data} to database successfully!\")\n",
    "    return \"Success!\"\n",
    "\n",
    "@flow \n",
    "def pipeline(msg: str):\n",
    "    api_result = call_unreliable_api()\n",
    "    augmented_data = augment_data(data=api_result, msg=msg)\n",
    "    write_results_to_database(augmented_data)"
   ]
  },
  {
   "cell_type": "code",
   "execution_count": 17,
   "metadata": {},
   "outputs": [
    {
     "name": "stderr",
     "output_type": "stream",
     "text": [
      "21:11:53.251 | INFO    | prefect.engine - Created flow run 'asparagus-albatross' for flow 'pipeline'\n",
      "21:11:53.251 | INFO    | Flow run 'asparagus-albatross' - Using task runner 'ConcurrentTaskRunner'\n",
      "21:11:53.258 | WARNING | Flow run 'asparagus-albatross' - No default storage is configured on the server. Results from this flow run will be stored in a temporary directory in its runtime environment.\n",
      "21:11:53.326 | INFO    | Flow run 'asparagus-albatross' - Created task run 'call_unreliable_api-466f2784-0' for task 'call_unreliable_api'\n",
      "21:11:53.344 | INFO    | Flow run 'asparagus-albatross' - Created task run 'augment_data-960bb844-0' for task 'augment_data'\n",
      "21:11:53.353 | ERROR   | Task run 'call_unreliable_api-466f2784-0' - Encountered exception during execution:\n",
      "Traceback (most recent call last):\n",
      "  File \"/Users/mjboothaus/try-prefect2/.venv/lib/python3.9/site-packages/prefect/engine.py\", line 890, in orchestrate_task_run\n",
      "    result = await run_sync_in_interruptible_worker_thread(\n",
      "  File \"/Users/mjboothaus/try-prefect2/.venv/lib/python3.9/site-packages/prefect/utilities/asyncio.py\", line 116, in run_sync_in_interruptible_worker_thread\n",
      "    tg.start_soon(\n",
      "  File \"/Users/mjboothaus/try-prefect2/.venv/lib/python3.9/site-packages/anyio/_backends/_asyncio.py\", line 662, in __aexit__\n",
      "    raise exceptions[0]\n",
      "  File \"/Users/mjboothaus/try-prefect2/.venv/lib/python3.9/site-packages/anyio/to_thread.py\", line 31, in run_sync\n",
      "    return await get_asynclib().run_sync_in_worker_thread(\n",
      "  File \"/Users/mjboothaus/try-prefect2/.venv/lib/python3.9/site-packages/anyio/_backends/_asyncio.py\", line 937, in run_sync_in_worker_thread\n",
      "    return await future\n",
      "  File \"/Users/mjboothaus/try-prefect2/.venv/lib/python3.9/site-packages/anyio/_backends/_asyncio.py\", line 867, in run\n",
      "    result = context.run(func, *args)\n",
      "  File \"/Users/mjboothaus/try-prefect2/.venv/lib/python3.9/site-packages/prefect/utilities/asyncio.py\", line 96, in capture_worker_thread_and_result\n",
      "    result = __fn(*args, **kwargs)\n",
      "  File \"/var/folders/wc/zhl433ms1fx5rvtvcrkw6dgw0000gn/T/ipykernel_62685/4044207864.py\", line 6, in call_unreliable_api\n",
      "    raise Exception(\"Our unreliable service failed\")\n",
      "Exception: Our unreliable service failed\n",
      "21:11:53.365 | INFO    | Flow run 'asparagus-albatross' - Created task run 'write_results_to_database-fbbf5571-0' for task 'write_results_to_database'\n"
     ]
    },
    {
     "name": "stdout",
     "output_type": "stream",
     "text": [
      "Run #0\n"
     ]
    },
    {
     "name": "stderr",
     "output_type": "stream",
     "text": [
      "21:11:53.378 | ERROR   | Task run 'call_unreliable_api-466f2784-0' - Finished in state Failed('Task run encountered an exception.')\n",
      "21:11:53.415 | ERROR   | Flow run 'asparagus-albatross' - Finished in state Failed('1/3 states failed.')\n",
      "21:11:53.492 | INFO    | prefect.engine - Created flow run 'ivory-chinchilla' for flow 'pipeline'\n",
      "21:11:53.492 | INFO    | Flow run 'ivory-chinchilla' - Using task runner 'ConcurrentTaskRunner'\n",
      "21:11:53.498 | WARNING | Flow run 'ivory-chinchilla' - No default storage is configured on the server. Results from this flow run will be stored in a temporary directory in its runtime environment.\n",
      "21:11:53.529 | INFO    | Flow run 'ivory-chinchilla' - Created task run 'call_unreliable_api-466f2784-0' for task 'call_unreliable_api'\n",
      "21:11:53.545 | INFO    | Flow run 'ivory-chinchilla' - Created task run 'augment_data-960bb844-0' for task 'augment_data'\n",
      "21:11:53.565 | INFO    | Flow run 'ivory-chinchilla' - Created task run 'write_results_to_database-fbbf5571-0' for task 'write_results_to_database'\n",
      "21:11:53.576 | INFO    | Task run 'call_unreliable_api-466f2784-0' - Finished in state Completed()\n",
      "21:11:53.601 | INFO    | Task run 'augment_data-960bb844-0' - Finished in state Completed()\n"
     ]
    },
    {
     "name": "stdout",
     "output_type": "stream",
     "text": [
      "Run #1\n",
      "Wrote {'data': 42, 'message': 'Trying a flow with tasks!'} to database successfully!\n"
     ]
    },
    {
     "name": "stderr",
     "output_type": "stream",
     "text": [
      "21:11:53.641 | INFO    | Task run 'write_results_to_database-fbbf5571-0' - Finished in state Completed()\n",
      "21:11:53.665 | INFO    | Flow run 'ivory-chinchilla' - Finished in state Completed('All states completed.')\n",
      "21:11:53.751 | INFO    | prefect.engine - Created flow run 'inventive-pig' for flow 'pipeline'\n",
      "21:11:53.751 | INFO    | Flow run 'inventive-pig' - Using task runner 'ConcurrentTaskRunner'\n",
      "21:11:53.757 | WARNING | Flow run 'inventive-pig' - No default storage is configured on the server. Results from this flow run will be stored in a temporary directory in its runtime environment.\n",
      "21:11:53.788 | INFO    | Flow run 'inventive-pig' - Created task run 'call_unreliable_api-466f2784-0' for task 'call_unreliable_api'\n",
      "21:11:53.803 | INFO    | Flow run 'inventive-pig' - Created task run 'augment_data-960bb844-0' for task 'augment_data'\n",
      "21:11:53.824 | INFO    | Flow run 'inventive-pig' - Created task run 'write_results_to_database-fbbf5571-0' for task 'write_results_to_database'\n",
      "21:11:53.832 | INFO    | Task run 'call_unreliable_api-466f2784-0' - Finished in state Completed()\n",
      "21:11:53.859 | INFO    | Task run 'augment_data-960bb844-0' - Finished in state Completed()\n",
      "21:11:53.882 | INFO    | Task run 'write_results_to_database-fbbf5571-0' - Finished in state Completed()\n"
     ]
    },
    {
     "name": "stdout",
     "output_type": "stream",
     "text": [
      "Run #2\n",
      "Wrote {'data': 42, 'message': 'Trying a flow with tasks!'} to database successfully!\n"
     ]
    },
    {
     "name": "stderr",
     "output_type": "stream",
     "text": [
      "21:11:53.895 | INFO    | Flow run 'inventive-pig' - Finished in state Completed('All states completed.')\n",
      "21:11:53.974 | INFO    | prefect.engine - Created flow run 'meek-ammonite' for flow 'pipeline'\n",
      "21:11:53.975 | INFO    | Flow run 'meek-ammonite' - Using task runner 'ConcurrentTaskRunner'\n",
      "21:11:53.981 | WARNING | Flow run 'meek-ammonite' - No default storage is configured on the server. Results from this flow run will be stored in a temporary directory in its runtime environment.\n",
      "21:11:54.011 | INFO    | Flow run 'meek-ammonite' - Created task run 'call_unreliable_api-466f2784-0' for task 'call_unreliable_api'\n",
      "21:11:54.027 | INFO    | Flow run 'meek-ammonite' - Created task run 'augment_data-960bb844-0' for task 'augment_data'\n",
      "21:11:54.037 | ERROR   | Task run 'call_unreliable_api-466f2784-0' - Encountered exception during execution:\n",
      "Traceback (most recent call last):\n",
      "  File \"/Users/mjboothaus/try-prefect2/.venv/lib/python3.9/site-packages/prefect/engine.py\", line 890, in orchestrate_task_run\n",
      "    result = await run_sync_in_interruptible_worker_thread(\n",
      "  File \"/Users/mjboothaus/try-prefect2/.venv/lib/python3.9/site-packages/prefect/utilities/asyncio.py\", line 116, in run_sync_in_interruptible_worker_thread\n",
      "    tg.start_soon(\n",
      "  File \"/Users/mjboothaus/try-prefect2/.venv/lib/python3.9/site-packages/anyio/_backends/_asyncio.py\", line 662, in __aexit__\n",
      "    raise exceptions[0]\n",
      "  File \"/Users/mjboothaus/try-prefect2/.venv/lib/python3.9/site-packages/anyio/to_thread.py\", line 31, in run_sync\n",
      "    return await get_asynclib().run_sync_in_worker_thread(\n",
      "  File \"/Users/mjboothaus/try-prefect2/.venv/lib/python3.9/site-packages/anyio/_backends/_asyncio.py\", line 937, in run_sync_in_worker_thread\n",
      "    return await future\n",
      "  File \"/Users/mjboothaus/try-prefect2/.venv/lib/python3.9/site-packages/anyio/_backends/_asyncio.py\", line 867, in run\n",
      "    result = context.run(func, *args)\n",
      "  File \"/Users/mjboothaus/try-prefect2/.venv/lib/python3.9/site-packages/prefect/utilities/asyncio.py\", line 96, in capture_worker_thread_and_result\n",
      "    result = __fn(*args, **kwargs)\n",
      "  File \"/var/folders/wc/zhl433ms1fx5rvtvcrkw6dgw0000gn/T/ipykernel_62685/4044207864.py\", line 6, in call_unreliable_api\n",
      "    raise Exception(\"Our unreliable service failed\")\n",
      "Exception: Our unreliable service failed\n",
      "21:11:54.049 | INFO    | Flow run 'meek-ammonite' - Created task run 'write_results_to_database-fbbf5571-0' for task 'write_results_to_database'\n",
      "21:11:54.058 | ERROR   | Task run 'call_unreliable_api-466f2784-0' - Finished in state Failed('Task run encountered an exception.')\n",
      "21:11:54.092 | ERROR   | Flow run 'meek-ammonite' - Finished in state Failed('1/3 states failed.')\n"
     ]
    },
    {
     "name": "stdout",
     "output_type": "stream",
     "text": [
      "Run #3\n",
      "Run #4\n"
     ]
    },
    {
     "name": "stderr",
     "output_type": "stream",
     "text": [
      "21:11:54.171 | INFO    | prefect.engine - Created flow run 'hairy-barracuda' for flow 'pipeline'\n",
      "21:11:54.171 | INFO    | Flow run 'hairy-barracuda' - Using task runner 'ConcurrentTaskRunner'\n",
      "21:11:54.177 | WARNING | Flow run 'hairy-barracuda' - No default storage is configured on the server. Results from this flow run will be stored in a temporary directory in its runtime environment.\n",
      "21:11:54.210 | INFO    | Flow run 'hairy-barracuda' - Created task run 'call_unreliable_api-466f2784-0' for task 'call_unreliable_api'\n",
      "21:11:54.227 | INFO    | Flow run 'hairy-barracuda' - Created task run 'augment_data-960bb844-0' for task 'augment_data'\n",
      "21:11:54.247 | INFO    | Flow run 'hairy-barracuda' - Created task run 'write_results_to_database-fbbf5571-0' for task 'write_results_to_database'\n",
      "21:11:54.258 | INFO    | Task run 'call_unreliable_api-466f2784-0' - Finished in state Completed()\n",
      "21:11:54.285 | INFO    | Task run 'augment_data-960bb844-0' - Finished in state Completed()\n",
      "21:11:54.313 | INFO    | Task run 'write_results_to_database-fbbf5571-0' - Finished in state Completed()\n",
      "21:11:54.326 | INFO    | Flow run 'hairy-barracuda' - Finished in state Completed('All states completed.')\n"
     ]
    },
    {
     "name": "stdout",
     "output_type": "stream",
     "text": [
      "Wrote {'data': 42, 'message': 'Trying a flow with tasks!'} to database successfully!\n"
     ]
    }
   ],
   "source": [
    "for i in range(5):\n",
    "    print(f\"Run #{i}\")\n",
    "    pipeline(\"Trying a flow with tasks!\")"
   ]
  },
  {
   "cell_type": "markdown",
   "metadata": {},
   "source": [
    "#### Adding retries\n",
    "\n",
    "The next feature that we will demo is the ability to retry a task. We know that tasks will inevitably fail. Sometimes this requires complex behavior, but other times we simply need to try again after a brief delay. We can do this with the `retries` and `retry_delay_seconds` parameters.\n",
    "\n",
    "This will be helpful for our unreliable API call."
   ]
  },
  {
   "cell_type": "code",
   "execution_count": 18,
   "metadata": {},
   "outputs": [
    {
     "name": "stderr",
     "output_type": "stream",
     "text": [
      "/Users/mjboothaus/try-prefect2/.venv/lib/python3.9/site-packages/prefect/tasks.py:165: UserWarning: A task named 'augment_data' and defined at '/var/folders/wc/zhl433ms1fx5rvtvcrkw6dgw0000gn/T/ipykernel_62685/155245748.py:10' conflicts with another task. Consider specifying a unique `name` parameter in the task definition:\n",
      "\n",
      " `@task(name='my_unique_name', ...)`\n",
      "  warnings.warn(\n",
      "/Users/mjboothaus/try-prefect2/.venv/lib/python3.9/site-packages/prefect/tasks.py:165: UserWarning: A task named 'write_results_to_database' and defined at '/var/folders/wc/zhl433ms1fx5rvtvcrkw6dgw0000gn/T/ipykernel_62685/155245748.py:15' conflicts with another task. Consider specifying a unique `name` parameter in the task definition:\n",
      "\n",
      " `@task(name='my_unique_name', ...)`\n",
      "  warnings.warn(\n",
      "/Users/mjboothaus/try-prefect2/.venv/lib/python3.9/site-packages/prefect/flows.py:173: UserWarning: A flow named 'pipeline' and defined at '/var/folders/wc/zhl433ms1fx5rvtvcrkw6dgw0000gn/T/ipykernel_62685/155245748.py:20' conflicts with another flow. Consider specifying a unique `name` parameter in the flow definition:\n",
      "\n",
      " `@flow(name='my_unique_name', ...)`\n",
      "  warnings.warn(\n"
     ]
    }
   ],
   "source": [
    "@task(name=\"Get data from API\", retries=4, retry_delay_seconds=3)\n",
    "def call_unreliable_api():\n",
    "    choices = [{\"data\": 42}, \"failure\"]\n",
    "    res = random.choice(choices)\n",
    "    if res == \"failure\":\n",
    "        raise Exception(\"Our unreliable service failed\")\n",
    "    else:\n",
    "        return res\n",
    "\n",
    "@task   # NEW ****\n",
    "def augment_data(data: dict, msg: str):\n",
    "    data[\"message\"] = msg\n",
    "    return data\n",
    "\n",
    "@task   # NEW ****\n",
    "def write_results_to_database(data: dict):\n",
    "    print(f\"Wrote {data} to database successfully!\")\n",
    "    return \"Success!\"\n",
    "\n",
    "@flow \n",
    "def pipeline(msg: str):\n",
    "    api_result = call_unreliable_api()\n",
    "    augmented_data = augment_data(data=api_result, msg=msg)\n",
    "    write_results_to_database(augmented_data)"
   ]
  },
  {
   "cell_type": "code",
   "execution_count": 20,
   "metadata": {},
   "outputs": [
    {
     "name": "stderr",
     "output_type": "stream",
     "text": [
      "21:17:29.044 | INFO    | prefect.engine - Created flow run 'elite-barnacle' for flow 'pipeline'\n",
      "21:17:29.046 | INFO    | Flow run 'elite-barnacle' - Using task runner 'ConcurrentTaskRunner'\n",
      "21:17:29.060 | WARNING | Flow run 'elite-barnacle' - No default storage is configured on the server. Results from this flow run will be stored in a temporary directory in its runtime environment.\n",
      "21:17:29.104 | INFO    | Flow run 'elite-barnacle' - Created task run 'Get data from API-466f2784-0' for task 'Get data from API'\n",
      "21:17:29.125 | INFO    | Flow run 'elite-barnacle' - Created task run 'augment_data-960bb844-0' for task 'augment_data'\n",
      "21:17:29.143 | ERROR   | Task run 'Get data from API-466f2784-0' - Encountered exception during execution:\n",
      "Traceback (most recent call last):\n",
      "  File \"/Users/mjboothaus/try-prefect2/.venv/lib/python3.9/site-packages/prefect/engine.py\", line 890, in orchestrate_task_run\n",
      "    result = await run_sync_in_interruptible_worker_thread(\n",
      "  File \"/Users/mjboothaus/try-prefect2/.venv/lib/python3.9/site-packages/prefect/utilities/asyncio.py\", line 116, in run_sync_in_interruptible_worker_thread\n",
      "    tg.start_soon(\n",
      "  File \"/Users/mjboothaus/try-prefect2/.venv/lib/python3.9/site-packages/anyio/_backends/_asyncio.py\", line 662, in __aexit__\n",
      "    raise exceptions[0]\n",
      "  File \"/Users/mjboothaus/try-prefect2/.venv/lib/python3.9/site-packages/anyio/to_thread.py\", line 31, in run_sync\n",
      "    return await get_asynclib().run_sync_in_worker_thread(\n",
      "  File \"/Users/mjboothaus/try-prefect2/.venv/lib/python3.9/site-packages/anyio/_backends/_asyncio.py\", line 937, in run_sync_in_worker_thread\n",
      "    return await future\n",
      "  File \"/Users/mjboothaus/try-prefect2/.venv/lib/python3.9/site-packages/anyio/_backends/_asyncio.py\", line 867, in run\n",
      "    result = context.run(func, *args)\n",
      "  File \"/Users/mjboothaus/try-prefect2/.venv/lib/python3.9/site-packages/prefect/utilities/asyncio.py\", line 96, in capture_worker_thread_and_result\n",
      "    result = __fn(*args, **kwargs)\n",
      "  File \"/var/folders/wc/zhl433ms1fx5rvtvcrkw6dgw0000gn/T/ipykernel_62685/155245748.py\", line 6, in call_unreliable_api\n",
      "    raise Exception(\"Our unreliable service failed\")\n",
      "Exception: Our unreliable service failed\n",
      "21:17:29.163 | INFO    | Flow run 'elite-barnacle' - Created task run 'write_results_to_database-fbbf5571-0' for task 'write_results_to_database'\n",
      "21:17:29.181 | INFO    | Task run 'Get data from API-466f2784-0' - Received non-final state 'AwaitingRetry' when proposing final state 'Failed' and will attempt to run again...\n",
      "21:17:31.222 | INFO    | Task run 'Get data from API-466f2784-0' - Finished in state Completed()\n",
      "21:17:31.253 | INFO    | Task run 'augment_data-960bb844-0' - Finished in state Completed()\n",
      "21:17:31.287 | INFO    | Task run 'write_results_to_database-fbbf5571-0' - Finished in state Completed()\n",
      "21:17:31.304 | INFO    | Flow run 'elite-barnacle' - Finished in state Completed('All states completed.')\n"
     ]
    },
    {
     "name": "stdout",
     "output_type": "stream",
     "text": [
      "Wrote {'data': 42, 'message': 'Trying a flow with tasks and retries!'} to database successfully!\n"
     ]
    },
    {
     "data": {
      "text/plain": [
       "Completed(message='All states completed.', type=COMPLETED, result=[Completed(message=None, type=COMPLETED, result={'data': 42, 'message': 'Trying a flow with tasks and retries!'}), Completed(message=None, type=COMPLETED, result={'data': 42, 'message': 'Trying a flow with tasks and retries!'}), Completed(message=None, type=COMPLETED, result='Success!')])"
      ]
     },
     "execution_count": 20,
     "metadata": {},
     "output_type": "execute_result"
    }
   ],
   "source": [
    "pipeline(\"Trying a flow with tasks and retries!\")"
   ]
  },
  {
   "cell_type": "code",
   "execution_count": null,
   "metadata": {},
   "outputs": [],
   "source": []
  }
 ],
 "metadata": {
  "kernelspec": {
   "display_name": "Python 3.9.12 ('.venv': venv)",
   "language": "python",
   "name": "python3"
  },
  "language_info": {
   "codemirror_mode": {
    "name": "ipython",
    "version": 3
   },
   "file_extension": ".py",
   "mimetype": "text/x-python",
   "name": "python",
   "nbconvert_exporter": "python",
   "pygments_lexer": "ipython3",
   "version": "3.9.12"
  },
  "orig_nbformat": 4,
  "vscode": {
   "interpreter": {
    "hash": "7808f69e682bf67f40fbd9aae8e7cfcbfad3af8f25f2aae6cd4a451b53bb97f6"
   }
  }
 },
 "nbformat": 4,
 "nbformat_minor": 2
}
