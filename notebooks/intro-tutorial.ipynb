{
 "cells": [
  {
   "cell_type": "markdown",
   "metadata": {},
   "source": [
    "## Prefect 2 Tutorial - Intro"
   ]
  },
  {
   "cell_type": "code",
   "execution_count": 1,
   "metadata": {},
   "outputs": [],
   "source": [
    "from prefect import flow, task\n",
    "import requests\n",
    "import asyncio"
   ]
  },
  {
   "cell_type": "code",
   "execution_count": 2,
   "metadata": {},
   "outputs": [
    {
     "name": "stdout",
     "output_type": "stream",
     "text": [
      "Version:             2.1.1\n",
      "API version:         0.8.0\n",
      "Python version:      3.9.12\n",
      "Git commit:          dc2ba222\n",
      "Built:               Thu, Aug 18, 2022 10:18 AM\n",
      "OS/Arch:             darwin/arm64\n",
      "Profile:             default\n",
      "Server type:         ephemeral\n",
      "Server:\n",
      "  Database:          sqlite\n",
      "  SQLite version:    3.37.0\n"
     ]
    }
   ],
   "source": [
    "!prefect version"
   ]
  },
  {
   "cell_type": "markdown",
   "metadata": {},
   "source": [
    "### Run a basic flow\n",
    "\n",
    "The simplest way to begin with Prefect is to import flow and annotate your a Python function using the `@flow` decorator:"
   ]
  },
  {
   "cell_type": "code",
   "execution_count": 3,
   "metadata": {},
   "outputs": [],
   "source": [
    "@task \n",
    "def add_one(x):\n",
    "    return x + 1\n",
    "\n",
    "@flow \n",
    "def my_flow():\n",
    "    result = add_one(1) # return int"
   ]
  },
  {
   "cell_type": "markdown",
   "metadata": {},
   "source": []
  },
  {
   "cell_type": "code",
   "execution_count": 4,
   "metadata": {},
   "outputs": [],
   "source": [
    "@flow \n",
    "def my_add_one_flow():\n",
    "    state = add_one(1, return_state=True) # return State\n",
    "    return state"
   ]
  },
  {
   "cell_type": "code",
   "execution_count": 5,
   "metadata": {},
   "outputs": [
    {
     "name": "stderr",
     "output_type": "stream",
     "text": [
      "15:49:59.836 | INFO    | prefect.engine - Created flow run 'adept-capuchin' for flow 'my-add-one-flow'\n",
      "15:49:59.936 | INFO    | Flow run 'adept-capuchin' - Created task run 'add_one-3c3112ef-0' for task 'add_one'\n",
      "15:49:59.937 | INFO    | Flow run 'adept-capuchin' - Executing 'add_one-3c3112ef-0' immediately...\n",
      "15:49:59.971 | INFO    | Task run 'add_one-3c3112ef-0' - Finished in state Completed()\n",
      "15:49:59.995 | INFO    | Flow run 'adept-capuchin' - Finished in state Completed('All states completed.')\n"
     ]
    }
   ],
   "source": [
    "state = my_add_one_flow()"
   ]
  },
  {
   "cell_type": "code",
   "execution_count": 6,
   "metadata": {},
   "outputs": [
    {
     "data": {
      "text/plain": [
       "2"
      ]
     },
     "execution_count": 6,
     "metadata": {},
     "output_type": "execute_result"
    }
   ],
   "source": [
    "state.result()"
   ]
  },
  {
   "cell_type": "code",
   "execution_count": 7,
   "metadata": {},
   "outputs": [],
   "source": [
    "@flow\n",
    "def my_favorite_function():\n",
    "    print(\"This function doesn't do much\")\n",
    "    return 42\n",
    "\n",
    "@flow\n",
    "def my_favorite_function_flow():\n",
    "    return my_favorite_function(return_state=True)"
   ]
  },
  {
   "cell_type": "markdown",
   "metadata": {},
   "source": [
    "Running a Prefect workflow manually is as easy as calling the annotated function. In this case, we run the      `my_favorite_function()` snippet shown above:"
   ]
  },
  {
   "cell_type": "code",
   "execution_count": 8,
   "metadata": {},
   "outputs": [
    {
     "name": "stderr",
     "output_type": "stream",
     "text": [
      "15:50:00.414 | INFO    | prefect.engine - Created flow run 'economic-armadillo' for flow 'my-favorite-function-flow'\n",
      "15:50:00.646 | INFO    | Flow run 'economic-armadillo' - Created subflow run 'arrogant-cricket' for flow 'my-favorite-function'\n",
      "15:50:00.754 | INFO    | Flow run 'arrogant-cricket' - Finished in state Completed()\n",
      "15:50:00.771 | INFO    | Flow run 'economic-armadillo' - Finished in state Completed('All states completed.')\n"
     ]
    },
    {
     "name": "stdout",
     "output_type": "stream",
     "text": [
      "This function doesn't do much\n"
     ]
    }
   ],
   "source": [
    "state = my_favorite_function_flow()"
   ]
  },
  {
   "cell_type": "markdown",
   "metadata": {},
   "source": [
    "The first thing you'll notice is the messages surrounding the expected output, \"This function doesn't do much\".\n",
    "\n",
    "By adding the `@flow` decorator to your function, function calls will create a flow run — the Prefect Orion orchestration engine manages task and flow state, including inspecting their progress, regardless of where your flow code runs.\n",
    "\n",
    "For clarity in future tutorial examples, we may not show these messages in results except where they are relevant to the discussion.\n",
    "\n",
    "Next, examine `state`, which shows the result returned by the `my_favorite_function()` flow."
   ]
  },
  {
   "cell_type": "code",
   "execution_count": 9,
   "metadata": {},
   "outputs": [
    {
     "data": {
      "text/plain": [
       "Completed(message=None, type=COMPLETED, result=42)"
      ]
     },
     "execution_count": 9,
     "metadata": {},
     "output_type": "execute_result"
    }
   ],
   "source": [
    "state"
   ]
  },
  {
   "cell_type": "markdown",
   "metadata": {},
   "source": [
    "*Flows return states*\n",
    "\n",
    "> You may notice that this call did not return the number 42 but rather a Prefect State object. States are the basic currency of communication between Prefect clients and the Prefect API, and can be used to define the conditions for orchestration rules as well as an interface for client-side logic."
   ]
  },
  {
   "cell_type": "markdown",
   "metadata": {},
   "source": [
    "In this case, the state of `my_favorite_function()` is \"Completed\", with no further message details (\"None\" in this example).\n",
    "\n",
    "If you want to see the data returned by the flow, access it via the `.result()` method on the State object."
   ]
  },
  {
   "cell_type": "code",
   "execution_count": 10,
   "metadata": {},
   "outputs": [
    {
     "data": {
      "text/plain": [
       "42"
      ]
     },
     "execution_count": 10,
     "metadata": {},
     "output_type": "execute_result"
    }
   ],
   "source": [
    "state.result()"
   ]
  },
  {
   "cell_type": "markdown",
   "metadata": {},
   "source": [
    "### Run flows with parameters\n",
    "\n",
    "As with any Python function, you can pass arguments. The positional and keyword arguments defined on your flow function are called parameters. To demonstrate:"
   ]
  },
  {
   "cell_type": "code",
   "execution_count": 11,
   "metadata": {},
   "outputs": [],
   "source": [
    "@task\n",
    "def call_api(url):\n",
    "    return requests.get(url).json()\n"
   ]
  },
  {
   "cell_type": "code",
   "execution_count": 12,
   "metadata": {},
   "outputs": [],
   "source": [
    "@flow\n",
    "def api_flow(url):\n",
    "    return call_api(url, return_state=True)"
   ]
  },
  {
   "cell_type": "markdown",
   "metadata": {},
   "source": [
    "You can pass any parameters needed by your flow function, and you can pass parameters on the `@flow` decorator for configuration as well. We'll cover that in a future tutorial.\n",
    "\n",
    "For now, run the `call_api()` flow, passing a valid URL as a parameter. In this case, we're sending a POST request to an API that should return valid JSON in the response."
   ]
  },
  {
   "cell_type": "code",
   "execution_count": 13,
   "metadata": {},
   "outputs": [
    {
     "name": "stderr",
     "output_type": "stream",
     "text": [
      "15:50:01.229 | INFO    | prefect.engine - Created flow run 'sandy-jellyfish' for flow 'api-flow'\n",
      "15:50:01.296 | INFO    | Flow run 'sandy-jellyfish' - Created task run 'call_api-ded10bed-0' for task 'call_api'\n",
      "15:50:01.297 | INFO    | Flow run 'sandy-jellyfish' - Executing 'call_api-ded10bed-0' immediately...\n",
      "15:50:01.740 | INFO    | Task run 'call_api-ded10bed-0' - Finished in state Completed()\n",
      "15:50:01.759 | INFO    | Flow run 'sandy-jellyfish' - Finished in state Completed('All states completed.')\n"
     ]
    }
   ],
   "source": [
    "state = api_flow(\"http://time.jsontest.com/\")"
   ]
  },
  {
   "cell_type": "markdown",
   "metadata": {},
   "source": [
    "Again, Prefect Orion automatically orchestrates the flow run. Again, print the state and note the \"Completed\" state matches what Prefect Orion prints in your terminal."
   ]
  },
  {
   "cell_type": "code",
   "execution_count": 14,
   "metadata": {},
   "outputs": [
    {
     "data": {
      "text/plain": [
       "{'date': '08-22-2022',\n",
       " 'milliseconds_since_epoch': 1661147401488,\n",
       " 'time': '05:50:01 AM'}"
      ]
     },
     "execution_count": 14,
     "metadata": {},
     "output_type": "execute_result"
    }
   ],
   "source": [
    "state.result()"
   ]
  },
  {
   "cell_type": "code",
   "execution_count": 15,
   "metadata": {},
   "outputs": [
    {
     "data": {
      "text/plain": [
       "Completed(message=None, type=COMPLETED, result={'date': '08-22-2022', 'milliseconds_since_epoch': 1661147401488, 'time': '05:50:01 AM'})"
      ]
     },
     "execution_count": 15,
     "metadata": {},
     "output_type": "execute_result"
    }
   ],
   "source": [
    "state"
   ]
  },
  {
   "cell_type": "markdown",
   "metadata": {},
   "source": [
    "### Error handling\n",
    "\n",
    "What happens if the Python function encounters an error while your flow is running? To see what happens whenever our flow does not complete successfully, let's intentionally run the `call_api()` flow above with a bad value for the URL:"
   ]
  },
  {
   "cell_type": "code",
   "execution_count": 16,
   "metadata": {},
   "outputs": [
    {
     "name": "stderr",
     "output_type": "stream",
     "text": [
      "15:50:02.103 | INFO    | prefect.engine - Created flow run 'merry-wallaby' for flow 'api-flow'\n",
      "15:50:02.294 | INFO    | Flow run 'merry-wallaby' - Created task run 'call_api-ded10bed-0' for task 'call_api'\n",
      "15:50:02.295 | INFO    | Flow run 'merry-wallaby' - Executing 'call_api-ded10bed-0' immediately...\n",
      "15:50:02.316 | ERROR   | Task run 'call_api-ded10bed-0' - Encountered exception during execution:\n",
      "Traceback (most recent call last):\n",
      "  File \"/Users/mjboothaus/code/github/mjboothaus/try-prefect2/.venv_dev_try-prefect2/lib/python3.9/site-packages/prefect/engine.py\", line 1069, in orchestrate_task_run\n",
      "    result = await run_sync(task.fn, *args, **kwargs)\n",
      "  File \"/Users/mjboothaus/code/github/mjboothaus/try-prefect2/.venv_dev_try-prefect2/lib/python3.9/site-packages/prefect/utilities/asyncutils.py\", line 56, in run_sync_in_worker_thread\n",
      "    return await anyio.to_thread.run_sync(call, cancellable=True)\n",
      "  File \"/Users/mjboothaus/code/github/mjboothaus/try-prefect2/.venv_dev_try-prefect2/lib/python3.9/site-packages/anyio/to_thread.py\", line 31, in run_sync\n",
      "    return await get_asynclib().run_sync_in_worker_thread(\n",
      "  File \"/Users/mjboothaus/code/github/mjboothaus/try-prefect2/.venv_dev_try-prefect2/lib/python3.9/site-packages/anyio/_backends/_asyncio.py\", line 937, in run_sync_in_worker_thread\n",
      "    return await future\n",
      "  File \"/Users/mjboothaus/code/github/mjboothaus/try-prefect2/.venv_dev_try-prefect2/lib/python3.9/site-packages/anyio/_backends/_asyncio.py\", line 867, in run\n",
      "    result = context.run(func, *args)\n",
      "  File \"/var/folders/wc/zhl433ms1fx5rvtvcrkw6dgw0000gn/T/ipykernel_70180/2892479449.py\", line 3, in call_api\n",
      "    return requests.get(url).json()\n",
      "  File \"/Users/mjboothaus/code/github/mjboothaus/try-prefect2/.venv_dev_try-prefect2/lib/python3.9/site-packages/requests/api.py\", line 73, in get\n",
      "    return request(\"get\", url, params=params, **kwargs)\n",
      "  File \"/Users/mjboothaus/code/github/mjboothaus/try-prefect2/.venv_dev_try-prefect2/lib/python3.9/site-packages/requests/api.py\", line 59, in request\n",
      "    return session.request(method=method, url=url, **kwargs)\n",
      "  File \"/Users/mjboothaus/code/github/mjboothaus/try-prefect2/.venv_dev_try-prefect2/lib/python3.9/site-packages/requests/sessions.py\", line 573, in request\n",
      "    prep = self.prepare_request(req)\n",
      "  File \"/Users/mjboothaus/code/github/mjboothaus/try-prefect2/.venv_dev_try-prefect2/lib/python3.9/site-packages/requests/sessions.py\", line 484, in prepare_request\n",
      "    p.prepare(\n",
      "  File \"/Users/mjboothaus/code/github/mjboothaus/try-prefect2/.venv_dev_try-prefect2/lib/python3.9/site-packages/requests/models.py\", line 368, in prepare\n",
      "    self.prepare_url(url, params)\n",
      "  File \"/Users/mjboothaus/code/github/mjboothaus/try-prefect2/.venv_dev_try-prefect2/lib/python3.9/site-packages/requests/models.py\", line 439, in prepare_url\n",
      "    raise MissingSchema(\n",
      "requests.exceptions.MissingSchema: Invalid URL 'foo': No scheme supplied. Perhaps you meant http://foo?\n",
      "15:50:02.333 | ERROR   | Task run 'call_api-ded10bed-0' - Finished in state Failed('Task run encountered an exception.')\n",
      "15:50:02.350 | ERROR   | Flow run 'merry-wallaby' - Finished in state Failed('1/1 states failed.')\n"
     ]
    },
    {
     "ename": "MissingSchema",
     "evalue": "Invalid URL 'foo': No scheme supplied. Perhaps you meant http://foo?",
     "output_type": "error",
     "traceback": [
      "\u001b[0;31m---------------------------------------------------------------------------\u001b[0m",
      "\u001b[0;31mMissingSchema\u001b[0m                             Traceback (most recent call last)",
      "\u001b[1;32m/Users/mjboothaus/code/github/mjboothaus/try-prefect2/notebooks/intro-tutorial.ipynb Cell 27\u001b[0m in \u001b[0;36m<cell line: 1>\u001b[0;34m()\u001b[0m\n\u001b[0;32m----> <a href='vscode-notebook-cell:/Users/mjboothaus/code/github/mjboothaus/try-prefect2/notebooks/intro-tutorial.ipynb#X35sZmlsZQ%3D%3D?line=0'>1</a>\u001b[0m state_bad \u001b[39m=\u001b[39m api_flow(\u001b[39m\"\u001b[39;49m\u001b[39mfoo\u001b[39;49m\u001b[39m\"\u001b[39;49m)\n",
      "File \u001b[0;32m~/code/github/mjboothaus/try-prefect2/.venv_dev_try-prefect2/lib/python3.9/site-packages/prefect/flows.py:384\u001b[0m, in \u001b[0;36mFlow.__call__\u001b[0;34m(self, return_state, *args, **kwargs)\u001b[0m\n\u001b[1;32m    380\u001b[0m parameters \u001b[39m=\u001b[39m get_call_parameters(\u001b[39mself\u001b[39m\u001b[39m.\u001b[39mfn, args, kwargs)\n\u001b[1;32m    382\u001b[0m return_type \u001b[39m=\u001b[39m \u001b[39m\"\u001b[39m\u001b[39mstate\u001b[39m\u001b[39m\"\u001b[39m \u001b[39mif\u001b[39;00m return_state \u001b[39melse\u001b[39;00m \u001b[39m\"\u001b[39m\u001b[39mresult\u001b[39m\u001b[39m\"\u001b[39m\n\u001b[0;32m--> 384\u001b[0m \u001b[39mreturn\u001b[39;00m enter_flow_run_engine_from_flow_call(\n\u001b[1;32m    385\u001b[0m     \u001b[39mself\u001b[39;49m, parameters, return_type\u001b[39m=\u001b[39;49mreturn_type\n\u001b[1;32m    386\u001b[0m )\n",
      "File \u001b[0;32m~/code/github/mjboothaus/try-prefect2/.venv_dev_try-prefect2/lib/python3.9/site-packages/prefect/engine.py:149\u001b[0m, in \u001b[0;36menter_flow_run_engine_from_flow_call\u001b[0;34m(flow, parameters, return_type)\u001b[0m\n\u001b[1;32m    145\u001b[0m \u001b[39mif\u001b[39;00m in_async_main_thread():\n\u001b[1;32m    146\u001b[0m     \u001b[39m# An event loop is already running and we must create a blocking portal to\u001b[39;00m\n\u001b[1;32m    147\u001b[0m     \u001b[39m# run async code from this synchronous context\u001b[39;00m\n\u001b[1;32m    148\u001b[0m     \u001b[39mwith\u001b[39;00m start_blocking_portal() \u001b[39mas\u001b[39;00m portal:\n\u001b[0;32m--> 149\u001b[0m         \u001b[39mreturn\u001b[39;00m portal\u001b[39m.\u001b[39;49mcall(begin_run)\n\u001b[1;32m    150\u001b[0m \u001b[39melse\u001b[39;00m:\n\u001b[1;32m    151\u001b[0m     \u001b[39m# An event loop is not running so we will create one\u001b[39;00m\n\u001b[1;32m    152\u001b[0m     \u001b[39mreturn\u001b[39;00m anyio\u001b[39m.\u001b[39mrun(begin_run)\n",
      "File \u001b[0;32m~/code/github/mjboothaus/try-prefect2/.venv_dev_try-prefect2/lib/python3.9/site-packages/anyio/from_thread.py:283\u001b[0m, in \u001b[0;36mBlockingPortal.call\u001b[0;34m(self, func, *args)\u001b[0m\n\u001b[1;32m    268\u001b[0m \u001b[39mdef\u001b[39;00m \u001b[39mcall\u001b[39m(\n\u001b[1;32m    269\u001b[0m     \u001b[39mself\u001b[39m,\n\u001b[1;32m    270\u001b[0m     func: Callable[\u001b[39m.\u001b[39m\u001b[39m.\u001b[39m\u001b[39m.\u001b[39m, Union[Coroutine[Any, Any, T_Retval], T_Retval]],\n\u001b[1;32m    271\u001b[0m     \u001b[39m*\u001b[39margs: \u001b[39mobject\u001b[39m\n\u001b[1;32m    272\u001b[0m ) \u001b[39m-\u001b[39m\u001b[39m>\u001b[39m T_Retval:\n\u001b[1;32m    273\u001b[0m     \u001b[39m\"\"\"\u001b[39;00m\n\u001b[1;32m    274\u001b[0m \u001b[39m    Call the given function in the event loop thread.\u001b[39;00m\n\u001b[1;32m    275\u001b[0m \n\u001b[0;32m   (...)\u001b[0m\n\u001b[1;32m    281\u001b[0m \n\u001b[1;32m    282\u001b[0m \u001b[39m    \"\"\"\u001b[39;00m\n\u001b[0;32m--> 283\u001b[0m     \u001b[39mreturn\u001b[39;00m cast(T_Retval, \u001b[39mself\u001b[39;49m\u001b[39m.\u001b[39;49mstart_task_soon(func, \u001b[39m*\u001b[39;49margs)\u001b[39m.\u001b[39;49mresult())\n",
      "File \u001b[0;32m~/.pyenv/versions/3.9.12/lib/python3.9/concurrent/futures/_base.py:446\u001b[0m, in \u001b[0;36mFuture.result\u001b[0;34m(self, timeout)\u001b[0m\n\u001b[1;32m    444\u001b[0m     \u001b[39mraise\u001b[39;00m CancelledError()\n\u001b[1;32m    445\u001b[0m \u001b[39melif\u001b[39;00m \u001b[39mself\u001b[39m\u001b[39m.\u001b[39m_state \u001b[39m==\u001b[39m FINISHED:\n\u001b[0;32m--> 446\u001b[0m     \u001b[39mreturn\u001b[39;00m \u001b[39mself\u001b[39;49m\u001b[39m.\u001b[39;49m__get_result()\n\u001b[1;32m    447\u001b[0m \u001b[39melse\u001b[39;00m:\n\u001b[1;32m    448\u001b[0m     \u001b[39mraise\u001b[39;00m \u001b[39mTimeoutError\u001b[39;00m()\n",
      "File \u001b[0;32m~/.pyenv/versions/3.9.12/lib/python3.9/concurrent/futures/_base.py:391\u001b[0m, in \u001b[0;36mFuture.__get_result\u001b[0;34m(self)\u001b[0m\n\u001b[1;32m    389\u001b[0m \u001b[39mif\u001b[39;00m \u001b[39mself\u001b[39m\u001b[39m.\u001b[39m_exception:\n\u001b[1;32m    390\u001b[0m     \u001b[39mtry\u001b[39;00m:\n\u001b[0;32m--> 391\u001b[0m         \u001b[39mraise\u001b[39;00m \u001b[39mself\u001b[39m\u001b[39m.\u001b[39m_exception\n\u001b[1;32m    392\u001b[0m     \u001b[39mfinally\u001b[39;00m:\n\u001b[1;32m    393\u001b[0m         \u001b[39m# Break a reference cycle with the exception in self._exception\u001b[39;00m\n\u001b[1;32m    394\u001b[0m         \u001b[39mself\u001b[39m \u001b[39m=\u001b[39m \u001b[39mNone\u001b[39;00m\n",
      "File \u001b[0;32m~/code/github/mjboothaus/try-prefect2/.venv_dev_try-prefect2/lib/python3.9/site-packages/anyio/from_thread.py:219\u001b[0m, in \u001b[0;36mBlockingPortal._call_func\u001b[0;34m(self, func, args, kwargs, future)\u001b[0m\n\u001b[1;32m    216\u001b[0m             \u001b[39melse\u001b[39;00m:\n\u001b[1;32m    217\u001b[0m                 future\u001b[39m.\u001b[39madd_done_callback(callback)\n\u001b[0;32m--> 219\u001b[0m             retval \u001b[39m=\u001b[39m \u001b[39mawait\u001b[39;00m retval\n\u001b[1;32m    220\u001b[0m \u001b[39mexcept\u001b[39;00m \u001b[39mself\u001b[39m\u001b[39m.\u001b[39m_cancelled_exc_class:\n\u001b[1;32m    221\u001b[0m     future\u001b[39m.\u001b[39mcancel()\n",
      "File \u001b[0;32m~/code/github/mjboothaus/try-prefect2/.venv_dev_try-prefect2/lib/python3.9/site-packages/prefect/client.py:105\u001b[0m, in \u001b[0;36minject_client.<locals>.with_injected_client\u001b[0;34m(*args, **kwargs)\u001b[0m\n\u001b[1;32m    103\u001b[0m \u001b[39masync\u001b[39;00m \u001b[39mwith\u001b[39;00m client_context \u001b[39mas\u001b[39;00m client:\n\u001b[1;32m    104\u001b[0m     kwargs\u001b[39m.\u001b[39msetdefault(\u001b[39m\"\u001b[39m\u001b[39mclient\u001b[39m\u001b[39m\"\u001b[39m, client)\n\u001b[0;32m--> 105\u001b[0m     \u001b[39mreturn\u001b[39;00m \u001b[39mawait\u001b[39;00m fn(\u001b[39m*\u001b[39margs, \u001b[39m*\u001b[39m\u001b[39m*\u001b[39mkwargs)\n",
      "File \u001b[0;32m~/code/github/mjboothaus/try-prefect2/.venv_dev_try-prefect2/lib/python3.9/site-packages/prefect/engine.py:228\u001b[0m, in \u001b[0;36mcreate_then_begin_flow_run\u001b[0;34m(flow, parameters, return_type, client)\u001b[0m\n\u001b[1;32m    226\u001b[0m     \u001b[39mreturn\u001b[39;00m state\n\u001b[1;32m    227\u001b[0m \u001b[39melif\u001b[39;00m return_type \u001b[39m==\u001b[39m \u001b[39m\"\u001b[39m\u001b[39mresult\u001b[39m\u001b[39m\"\u001b[39m:\n\u001b[0;32m--> 228\u001b[0m     \u001b[39mreturn\u001b[39;00m state\u001b[39m.\u001b[39;49mresult()\n\u001b[1;32m    229\u001b[0m \u001b[39melse\u001b[39;00m:\n\u001b[1;32m    230\u001b[0m     \u001b[39mraise\u001b[39;00m \u001b[39mValueError\u001b[39;00m(\u001b[39mf\u001b[39m\u001b[39m\"\u001b[39m\u001b[39mInvalid return type for flow engine \u001b[39m\u001b[39m{\u001b[39;00mreturn_type\u001b[39m!r}\u001b[39;00m\u001b[39m.\u001b[39m\u001b[39m\"\u001b[39m)\n",
      "File \u001b[0;32m~/code/github/mjboothaus/try-prefect2/.venv_dev_try-prefect2/lib/python3.9/site-packages/prefect/orion/schemas/states.py:153\u001b[0m, in \u001b[0;36mState.result\u001b[0;34m(self, raise_on_failure)\u001b[0m\n\u001b[1;32m    151\u001b[0m     \u001b[39mreturn\u001b[39;00m data\n\u001b[1;32m    152\u001b[0m \u001b[39melif\u001b[39;00m \u001b[39misinstance\u001b[39m(data, State):\n\u001b[0;32m--> 153\u001b[0m     data\u001b[39m.\u001b[39;49mresult()\n\u001b[1;32m    154\u001b[0m \u001b[39melif\u001b[39;00m \u001b[39misinstance\u001b[39m(data, Iterable) \u001b[39mand\u001b[39;00m \u001b[39mall\u001b[39m(\n\u001b[1;32m    155\u001b[0m     [\u001b[39misinstance\u001b[39m(o, State) \u001b[39mfor\u001b[39;00m o \u001b[39min\u001b[39;00m data]\n\u001b[1;32m    156\u001b[0m ):\n\u001b[1;32m    157\u001b[0m     \u001b[39m# raise the first failure we find\u001b[39;00m\n\u001b[1;32m    158\u001b[0m     \u001b[39mfor\u001b[39;00m state \u001b[39min\u001b[39;00m data:\n",
      "File \u001b[0;32m~/code/github/mjboothaus/try-prefect2/.venv_dev_try-prefect2/lib/python3.9/site-packages/prefect/orion/schemas/states.py:145\u001b[0m, in \u001b[0;36mState.result\u001b[0;34m(self, raise_on_failure)\u001b[0m\n\u001b[1;32m    143\u001b[0m \u001b[39mif\u001b[39;00m (\u001b[39mself\u001b[39m\u001b[39m.\u001b[39mis_failed() \u001b[39mor\u001b[39;00m \u001b[39mself\u001b[39m\u001b[39m.\u001b[39mis_crashed()) \u001b[39mand\u001b[39;00m raise_on_failure:\n\u001b[1;32m    144\u001b[0m     \u001b[39mif\u001b[39;00m \u001b[39misinstance\u001b[39m(data, \u001b[39mException\u001b[39;00m):\n\u001b[0;32m--> 145\u001b[0m         \u001b[39mraise\u001b[39;00m data\n\u001b[1;32m    146\u001b[0m     \u001b[39melif\u001b[39;00m \u001b[39misinstance\u001b[39m(data, \u001b[39mBaseException\u001b[39;00m):\n\u001b[1;32m    147\u001b[0m         warnings\u001b[39m.\u001b[39mwarn(\n\u001b[1;32m    148\u001b[0m             \u001b[39mf\u001b[39m\u001b[39m\"\u001b[39m\u001b[39mState result is a \u001b[39m\u001b[39m{\u001b[39;00m\u001b[39mtype\u001b[39m(data)\u001b[39m.\u001b[39m\u001b[39m__name__\u001b[39m\u001b[39m!r}\u001b[39;00m\u001b[39m type and is not safe \u001b[39m\u001b[39m\"\u001b[39m\n\u001b[1;32m    149\u001b[0m             \u001b[39m\"\u001b[39m\u001b[39mto re-raise, it will be returned instead.\u001b[39m\u001b[39m\"\u001b[39m\n\u001b[1;32m    150\u001b[0m         )\n",
      "\u001b[0;31mMissingSchema\u001b[0m: Invalid URL 'foo': No scheme supplied. Perhaps you meant http://foo?"
     ]
    }
   ],
   "source": [
    "state_bad = api_flow(\"foo\") # - exception doesn't get caught/handled properly by Prefect?"
   ]
  },
  {
   "cell_type": "markdown",
   "metadata": {},
   "source": [
    "In this situation, the call to `requests.get()` encounters an exception, but the flow run still returns! The exception is captured by Orion, which continues to shut down the flow run normally.\n",
    "\n",
    "However, in contrast to the 'COMPLETED' state, we now encounter a 'FAILED' state signaling that something unexpected happened during execution."
   ]
  },
  {
   "cell_type": "code",
   "execution_count": 19,
   "metadata": {},
   "outputs": [
    {
     "ename": "NameError",
     "evalue": "name 'state_bad' is not defined",
     "output_type": "error",
     "traceback": [
      "\u001b[0;31m---------------------------------------------------------------------------\u001b[0m",
      "\u001b[0;31mNameError\u001b[0m                                 Traceback (most recent call last)",
      "\u001b[1;32m/Users/mjboothaus/code/github/mjboothaus/try-prefect2/notebooks/intro-tutorial.ipynb Cell 29\u001b[0m in \u001b[0;36m<cell line: 1>\u001b[0;34m()\u001b[0m\n\u001b[0;32m----> <a href='vscode-notebook-cell:/Users/mjboothaus/code/github/mjboothaus/try-prefect2/notebooks/intro-tutorial.ipynb#X40sZmlsZQ%3D%3D?line=0'>1</a>\u001b[0m state_bad\n",
      "\u001b[0;31mNameError\u001b[0m: name 'state_bad' is not defined"
     ]
    }
   ],
   "source": [
    "state_bad"
   ]
  },
  {
   "cell_type": "markdown",
   "metadata": {},
   "source": [
    "This behavior is consistent across flow runs and task runs and allows you to respond to failures in a first-class way — whether by configuring orchestration rules in the Orion backend (retry logic) or by directly responding to failed states in client code.\n",
    "\n",
    "### Run a basic flow with tasks\n",
    "\n",
    "Let's now add some tasks to a flow so that we can orchestrate and monitor at a more granular level.\n",
    "\n",
    "A task is a function that represents a distinct piece of work executed within a flow. You don't have to use tasks — you can include all of the logic of your workflow within the flow itself. However, encapsulating your business logic into smaller task units gives you more granular observability, control over how specific tasks are run (potentially taking advantage of parallel execution), and reusing tasks across flows and sub-flows.\n",
    "\n",
    "Creating and adding tasks follows the exact same pattern as for flows. Import task and use the `@task` decorator to annotate functions as tasks.\n",
    "\n",
    "Let's take the previous `call_api()` example and move the actual HTTP request to its own task."
   ]
  },
  {
   "cell_type": "code",
   "execution_count": 20,
   "metadata": {},
   "outputs": [],
   "source": [
    "@task(name=\"cat-url\")\n",
    "def call_api(url):\n",
    "    response = requests.get(url)\n",
    "    print(f\"Response: {response.status_code}\")\n",
    "    return response.json()\n",
    "\n",
    "\n",
    "@flow(name=\"cat\")\n",
    "def api_flow(url):\n",
    "    fact_json = call_api(url)\n",
    "    return "
   ]
  },
  {
   "cell_type": "markdown",
   "metadata": {},
   "source": [
    "As you can see, we still call these tasks as normal functions and can pass their return values to other tasks. We can then call our flow function — now called `api_flow()` — just as before and see the printed output. Prefect manages all the relevant intermediate states."
   ]
  },
  {
   "cell_type": "code",
   "execution_count": 21,
   "metadata": {},
   "outputs": [
    {
     "name": "stderr",
     "output_type": "stream",
     "text": [
      "15:50:49.208 | INFO    | prefect.engine - Created flow run 'aspiring-raccoon' for flow 'cat'\n",
      "15:50:49.382 | INFO    | Flow run 'aspiring-raccoon' - Created task run 'cat-url-ded10bed-0' for task 'cat-url'\n",
      "15:50:49.382 | INFO    | Flow run 'aspiring-raccoon' - Executing 'cat-url-ded10bed-0' immediately...\n",
      "15:50:50.105 | INFO    | Task run 'cat-url-ded10bed-0' - Finished in state Completed()\n",
      "15:50:50.128 | INFO    | Flow run 'aspiring-raccoon' - Finished in state Completed('All states completed.')\n"
     ]
    },
    {
     "name": "stdout",
     "output_type": "stream",
     "text": [
      "Response: 200\n"
     ]
    }
   ],
   "source": [
    "state = api_flow(\"https://catfact.ninja/fact\")"
   ]
  },
  {
   "cell_type": "markdown",
   "metadata": {},
   "source": [
    "And of course we can create tasks that take input from and pass input to other tasks.\n",
    "\n"
   ]
  },
  {
   "cell_type": "code",
   "execution_count": 22,
   "metadata": {},
   "outputs": [],
   "source": [
    "@task(name=\"t-example3-1\")\n",
    "def call_api(url):\n",
    "    response = requests.get(url)\n",
    "    print(response.status_code)\n",
    "    return response.json()\n",
    "\n",
    "@task(name=\"t-example3-2\")\n",
    "def parse_fact(response):\n",
    "    print(response[\"fact\"])\n",
    "    return \n",
    "\n",
    "@flow(name=\"f-example3\")\n",
    "def api_flow(url):\n",
    "    fact_json = call_api(url)\n",
    "    parse_fact(fact_json)\n",
    "    return"
   ]
  },
  {
   "cell_type": "code",
   "execution_count": 23,
   "metadata": {},
   "outputs": [
    {
     "name": "stderr",
     "output_type": "stream",
     "text": [
      "15:50:53.418 | INFO    | prefect.engine - Created flow run 'raspberry-orangutan' for flow 'f-example3'\n",
      "15:50:53.487 | INFO    | Flow run 'raspberry-orangutan' - Created task run 't-example3-1-ded10bed-0' for task 't-example3-1'\n",
      "15:50:53.488 | INFO    | Flow run 'raspberry-orangutan' - Executing 't-example3-1-ded10bed-0' immediately...\n",
      "15:50:54.217 | INFO    | Task run 't-example3-1-ded10bed-0' - Finished in state Completed()\n",
      "15:50:54.231 | INFO    | Flow run 'raspberry-orangutan' - Created task run 't-example3-2-6803447a-0' for task 't-example3-2'\n",
      "15:50:54.232 | INFO    | Flow run 'raspberry-orangutan' - Executing 't-example3-2-6803447a-0' immediately...\n",
      "15:50:54.258 | INFO    | Task run 't-example3-2-6803447a-0' - Finished in state Completed()\n",
      "15:50:54.274 | INFO    | Flow run 'raspberry-orangutan' - Finished in state Completed('All states completed.')\n"
     ]
    },
    {
     "name": "stdout",
     "output_type": "stream",
     "text": [
      "200\n",
      "The first cartoon cat was Felix the Cat in 1919. In 1940, Tom and Jerry starred in the first theatrical cartoon “Puss Gets the Boot.” In 1981 Andrew Lloyd Weber created the musical Cats, based on T.S. Eliot’s Old Possum’s Book of Practical Cats.\n"
     ]
    }
   ],
   "source": [
    "state = api_flow(\"https://catfact.ninja/fact\")"
   ]
  },
  {
   "cell_type": "code",
   "execution_count": 24,
   "metadata": {},
   "outputs": [
    {
     "name": "stdout",
     "output_type": "stream",
     "text": [
      "[Completed(message=None, type=COMPLETED, result={'fact': 'The first cartoon cat was\\xa0Felix the Cat\\xa0in 1919. In 1940, Tom and Jerry starred in the first theatrical cartoon “Puss Gets the Boot.” In 1981 Andrew Lloyd Weber created the musical\\xa0Cats, based on T.S. Eliot’s Old\\xa0Possum’s Book of Practical Cats.', 'length': 245}), Completed(message=None, type=COMPLETED, result=None)]\n"
     ]
    }
   ],
   "source": [
    "print(state)"
   ]
  },
  {
   "cell_type": "markdown",
   "metadata": {},
   "source": [
    "Combining tasks with arbitrary Python code\n",
    "\n",
    "> Notice in the above example that all of our Python logic is encapsulated within task functions. While there are many benefits to using Prefect in this way, it is not a strict requirement. Interacting with the results of your Prefect tasks requires an understanding of Prefect futures.\n",
    "\n",
    "### Run a flow within a flow\n",
    "\n",
    "Not only can you call tasks functions within a flow, but you can also call other flow functions! Flows that run within other flows are called sub-flows and allow you to efficiently manage, track, and version common multi-task logic.\n",
    "\n",
    "Consider the following simple example:"
   ]
  },
  {
   "cell_type": "code",
   "execution_count": 25,
   "metadata": {},
   "outputs": [],
   "source": [
    "@flow\n",
    "def common_flow(config: dict):\n",
    "    print(\"I am a subgraph that shows up in lots of places!\")\n",
    "    intermediate_result = 42\n",
    "    return intermediate_result\n",
    "\n",
    "@flow\n",
    "def main_flow():\n",
    "    # do some things\n",
    "    # then call another flow function\n",
    "    data = common_flow(config={})\n",
    "    # do more things"
   ]
  },
  {
   "cell_type": "markdown",
   "metadata": {},
   "source": [
    "Whenever we run `main_flow` as above, a new run will be generated for `common_flow` as well. Not only is this run tracked as a sub-flow run of `main_flow`, but you can also inspect it independently in the UI!"
   ]
  },
  {
   "cell_type": "code",
   "execution_count": 26,
   "metadata": {},
   "outputs": [
    {
     "name": "stderr",
     "output_type": "stream",
     "text": [
      "15:51:23.136 | INFO    | prefect.engine - Created flow run 'invisible-zebra' for flow 'main-flow'\n",
      "15:51:23.295 | INFO    | Flow run 'invisible-zebra' - Created subflow run 'beryl-dingo' for flow 'common-flow'\n",
      "15:51:23.337 | INFO    | Flow run 'beryl-dingo' - Finished in state Completed()\n",
      "15:51:23.356 | INFO    | Flow run 'invisible-zebra' - Finished in state Completed('All states completed.')\n"
     ]
    },
    {
     "name": "stdout",
     "output_type": "stream",
     "text": [
      "I am a subgraph that shows up in lots of places!\n"
     ]
    }
   ],
   "source": [
    "flow_state = main_flow()"
   ]
  },
  {
   "cell_type": "markdown",
   "metadata": {},
   "source": []
  },
  {
   "cell_type": "markdown",
   "metadata": {},
   "source": [
    "You can confirm this for yourself by spinning up the UI using the `prefect orion start` CLI command from your terminal:\n"
   ]
  },
  {
   "cell_type": "code",
   "execution_count": null,
   "metadata": {},
   "outputs": [],
   "source": [
    "!prefect start"
   ]
  },
  {
   "cell_type": "markdown",
   "metadata": {},
   "source": [
    "### Asynchronous functions\n",
    "\n",
    "Even asynchronous functions work with Prefect! Here's a variation of the previous examples that makes the API request as an async operation:"
   ]
  },
  {
   "cell_type": "code",
   "execution_count": 29,
   "metadata": {},
   "outputs": [
    {
     "name": "stderr",
     "output_type": "stream",
     "text": [
      "/Users/mjboothaus/code/github/mjboothaus/try-prefect2/.venv_dev_try-prefect2/lib/python3.9/site-packages/prefect/tasks.py:166: UserWarning: A task named 'async-url' and defined at '/var/folders/wc/zhl433ms1fx5rvtvcrkw6dgw0000gn/T/ipykernel_70180/393539765.py:1' conflicts with another task. Consider specifying a unique `name` parameter in the task definition:\n",
      "\n",
      " `@task(name='my_unique_name', ...)`\n",
      "  warnings.warn(\n",
      "/Users/mjboothaus/code/github/mjboothaus/try-prefect2/.venv_dev_try-prefect2/lib/python3.9/site-packages/prefect/flows.py:176: UserWarning: A flow named 'async-flow' and defined at '/var/folders/wc/zhl433ms1fx5rvtvcrkw6dgw0000gn/T/ipykernel_70180/393539765.py:8' conflicts with another flow. Consider specifying a unique `name` parameter in the flow definition:\n",
      "\n",
      " `@flow(name='my_unique_name', ...)`\n",
      "  warnings.warn(\n"
     ]
    }
   ],
   "source": [
    "@task(name=\"async-url\")\n",
    "async def call_api(url):\n",
    "    response = requests.get(url)\n",
    "    print(response.status_code)\n",
    "    return response.json()\n",
    "\n",
    "\n",
    "@flow(name=\"async-flow\")\n",
    "async def async_flow(url):\n",
    "    fact_json = await call_api(url)\n",
    "    return "
   ]
  },
  {
   "cell_type": "markdown",
   "metadata": {},
   "source": [
    "If we run this in the REPL, the output looks just like previous runs."
   ]
  },
  {
   "cell_type": "code",
   "execution_count": 30,
   "metadata": {},
   "outputs": [
    {
     "ename": "RuntimeError",
     "evalue": "asyncio.run() cannot be called from a running event loop",
     "output_type": "error",
     "traceback": [
      "\u001b[0;31m---------------------------------------------------------------------------\u001b[0m",
      "\u001b[0;31mRuntimeError\u001b[0m                              Traceback (most recent call last)",
      "\u001b[1;32m/Users/mjboothaus/code/github/mjboothaus/try-prefect2/notebooks/intro-tutorial.ipynb Cell 48\u001b[0m in \u001b[0;36m<cell line: 3>\u001b[0;34m()\u001b[0m\n\u001b[1;32m      <a href='vscode-notebook-cell:/Users/mjboothaus/code/github/mjboothaus/try-prefect2/notebooks/intro-tutorial.ipynb#X65sZmlsZQ%3D%3D?line=0'>1</a>\u001b[0m \u001b[39m# Following doesn't seem to run in Jupyter\u001b[39;00m\n\u001b[0;32m----> <a href='vscode-notebook-cell:/Users/mjboothaus/code/github/mjboothaus/try-prefect2/notebooks/intro-tutorial.ipynb#X65sZmlsZQ%3D%3D?line=2'>3</a>\u001b[0m asyncio\u001b[39m.\u001b[39;49mrun(async_flow(\u001b[39m\"\u001b[39;49m\u001b[39mhttps://catfact.ninja/fact\u001b[39;49m\u001b[39m\"\u001b[39;49m))\n",
      "File \u001b[0;32m~/.pyenv/versions/3.9.12/lib/python3.9/asyncio/runners.py:33\u001b[0m, in \u001b[0;36mrun\u001b[0;34m(main, debug)\u001b[0m\n\u001b[1;32m      9\u001b[0m \u001b[39m\"\"\"Execute the coroutine and return the result.\u001b[39;00m\n\u001b[1;32m     10\u001b[0m \n\u001b[1;32m     11\u001b[0m \u001b[39mThis function runs the passed coroutine, taking care of\u001b[39;00m\n\u001b[0;32m   (...)\u001b[0m\n\u001b[1;32m     30\u001b[0m \u001b[39m    asyncio.run(main())\u001b[39;00m\n\u001b[1;32m     31\u001b[0m \u001b[39m\"\"\"\u001b[39;00m\n\u001b[1;32m     32\u001b[0m \u001b[39mif\u001b[39;00m events\u001b[39m.\u001b[39m_get_running_loop() \u001b[39mis\u001b[39;00m \u001b[39mnot\u001b[39;00m \u001b[39mNone\u001b[39;00m:\n\u001b[0;32m---> 33\u001b[0m     \u001b[39mraise\u001b[39;00m \u001b[39mRuntimeError\u001b[39;00m(\n\u001b[1;32m     34\u001b[0m         \u001b[39m\"\u001b[39m\u001b[39masyncio.run() cannot be called from a running event loop\u001b[39m\u001b[39m\"\u001b[39m)\n\u001b[1;32m     36\u001b[0m \u001b[39mif\u001b[39;00m \u001b[39mnot\u001b[39;00m coroutines\u001b[39m.\u001b[39miscoroutine(main):\n\u001b[1;32m     37\u001b[0m     \u001b[39mraise\u001b[39;00m \u001b[39mValueError\u001b[39;00m(\u001b[39m\"\u001b[39m\u001b[39ma coroutine was expected, got \u001b[39m\u001b[39m{!r}\u001b[39;00m\u001b[39m\"\u001b[39m\u001b[39m.\u001b[39mformat(main))\n",
      "\u001b[0;31mRuntimeError\u001b[0m: asyncio.run() cannot be called from a running event loop"
     ]
    }
   ],
   "source": [
    "# Following doesn't seem to run in Jupyter\n",
    "\n",
    "asyncio.run(async_flow(\"https://catfact.ninja/fact\"))"
   ]
  },
  {
   "cell_type": "code",
   "execution_count": null,
   "metadata": {},
   "outputs": [],
   "source": []
  }
 ],
 "metadata": {
  "kernelspec": {
   "display_name": "Python 3.9.12 ('.venv_dev_try-prefect2': venv)",
   "language": "python",
   "name": "python3"
  },
  "language_info": {
   "codemirror_mode": {
    "name": "ipython",
    "version": 3
   },
   "file_extension": ".py",
   "mimetype": "text/x-python",
   "name": "python",
   "nbconvert_exporter": "python",
   "pygments_lexer": "ipython3",
   "version": "3.9.12"
  },
  "orig_nbformat": 4,
  "vscode": {
   "interpreter": {
    "hash": "cec7f35ddf7c6d36cc296a7d30616d866557a6d459a3e6a1ca2f264fb757ff0e"
   }
  }
 },
 "nbformat": 4,
 "nbformat_minor": 2
}
